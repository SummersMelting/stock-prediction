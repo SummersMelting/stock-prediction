{
 "cells": [
  {
   "cell_type": "markdown",
   "metadata": {},
   "source": [
    "<h1>\n",
    "<center> CFRM521 Group Project </center>\n",
    "</h1>\n",
    "\n",
    "<h1>\n",
    "<center> Predict the short-term future trend and volatility level of SPY  </center>\n",
    "</h1>\n",
    "\n",
    "<h2>\n",
    "<center> Chaoyi Lou, Zurui Chen, Joice Dong, Ruibo Wei  </center>\n",
    "</h2>"
   ]
  },
  {
   "cell_type": "markdown",
   "metadata": {},
   "source": [
    "# Section 1 --- Problem Statement"
   ]
  },
  {
   "cell_type": "markdown",
   "metadata": {},
   "source": [
    "### Industry background"
   ]
  },
  {
   "cell_type": "markdown",
   "metadata": {},
   "source": [
    "Recent years, many traders employ speculative trading strategies to conduct swing trading. They hold a long or short position on a tradable asset for between one and several days in an effort to profit from price changes. In this case, it is important for these traders to determine the future trend and volatility level of the asset’s price so that they can conduct appropriate trades. These traders focus more on trading behaviors in the market so that they may employ technical indicators to guide trading. In this project, our group will perfrom varied machine learning alogrithms to learn how the combination of indicators can tell us the price movement in near future, which can help us generate systematic investment recommendation, position solution and option's hedging risk management."
   ]
  },
  {
   "cell_type": "markdown",
   "metadata": {},
   "source": [
    "### Goal"
   ]
  },
  {
   "cell_type": "markdown",
   "metadata": {},
   "source": [
    "We conduct analysis to the selected indicators from price trend, momentum, trading volume, and volatility indicators. We aim to fit classification model that will tell traders the trend and volatility level in the future days. We are interested in find result that “By the historical performance in the previous days, the SPY will have X% uptrend/downtrend; with a possible Y% move in range of Z volatility level in the next trading day(s).” "
   ]
  },
  {
   "cell_type": "markdown",
   "metadata": {},
   "source": [
    "# Section 2 --- Data extraction and preparation"
   ]
  },
  {
   "cell_type": "code",
   "execution_count": 1,
   "metadata": {},
   "outputs": [],
   "source": [
    "import numpy as np\n",
    "import pandas as pd\n",
    "from sklearn.model_selection import train_test_split\n",
    "from sklearn.preprocessing import StandardScaler\n",
    "from sklearn.model_selection import cross_val_predict\n",
    "from sklearn.ensemble import RandomForestClassifier\n",
    "from xgboost import XGBClassifier\n",
    "from sklearn.ensemble import VotingClassifier\n",
    "from sklearn.ensemble import AdaBoostClassifier\n",
    "from sklearn.ensemble import ExtraTreesClassifier\n",
    "from sklearn.tree import DecisionTreeClassifier\n",
    "from sklearn.ensemble import GradientBoostingClassifier\n",
    "from sklearn.metrics import accuracy_score\n",
    "from sklearn.pipeline import Pipeline\n",
    "from sklearn.metrics import roc_auc_score\n",
    "from sklearn.cluster import KMeans\n",
    "import matplotlib.pyplot as plt\n",
    "from matplotlib import pyplot "
   ]
  },
  {
   "cell_type": "code",
   "execution_count": 2,
   "metadata": {},
   "outputs": [
    {
     "name": "stderr",
     "output_type": "stream",
     "text": [
      "/opt/anaconda3/lib/python3.7/site-packages/pandas_datareader/compat/__init__.py:7: FutureWarning: pandas.util.testing is deprecated. Use the functions in the public API at pandas.testing instead.\n",
      "  from pandas.util.testing import assert_frame_equal\n"
     ]
    },
    {
     "data": {
      "text/html": [
       "<div>\n",
       "<style scoped>\n",
       "    .dataframe tbody tr th:only-of-type {\n",
       "        vertical-align: middle;\n",
       "    }\n",
       "\n",
       "    .dataframe tbody tr th {\n",
       "        vertical-align: top;\n",
       "    }\n",
       "\n",
       "    .dataframe thead th {\n",
       "        text-align: right;\n",
       "    }\n",
       "</style>\n",
       "<table border=\"1\" class=\"dataframe\">\n",
       "  <thead>\n",
       "    <tr style=\"text-align: right;\">\n",
       "      <th></th>\n",
       "      <th>High</th>\n",
       "      <th>Low</th>\n",
       "      <th>Open</th>\n",
       "      <th>Close</th>\n",
       "      <th>Volume</th>\n",
       "      <th>Adj Close</th>\n",
       "    </tr>\n",
       "    <tr>\n",
       "      <th>Date</th>\n",
       "      <th></th>\n",
       "      <th></th>\n",
       "      <th></th>\n",
       "      <th></th>\n",
       "      <th></th>\n",
       "      <th></th>\n",
       "    </tr>\n",
       "  </thead>\n",
       "  <tbody>\n",
       "    <tr>\n",
       "      <th>2012-06-01</th>\n",
       "      <td>131.500000</td>\n",
       "      <td>128.160004</td>\n",
       "      <td>129.410004</td>\n",
       "      <td>128.160004</td>\n",
       "      <td>253240900.0</td>\n",
       "      <td>109.072281</td>\n",
       "    </tr>\n",
       "    <tr>\n",
       "      <th>2012-06-04</th>\n",
       "      <td>128.740005</td>\n",
       "      <td>127.139999</td>\n",
       "      <td>128.389999</td>\n",
       "      <td>128.100006</td>\n",
       "      <td>202545800.0</td>\n",
       "      <td>109.021233</td>\n",
       "    </tr>\n",
       "    <tr>\n",
       "      <th>2012-06-05</th>\n",
       "      <td>129.259995</td>\n",
       "      <td>127.779999</td>\n",
       "      <td>127.849998</td>\n",
       "      <td>129.070007</td>\n",
       "      <td>164149400.0</td>\n",
       "      <td>109.846779</td>\n",
       "    </tr>\n",
       "    <tr>\n",
       "      <th>2012-06-06</th>\n",
       "      <td>132.029999</td>\n",
       "      <td>129.929993</td>\n",
       "      <td>129.970001</td>\n",
       "      <td>131.970001</td>\n",
       "      <td>184202800.0</td>\n",
       "      <td>112.314842</td>\n",
       "    </tr>\n",
       "    <tr>\n",
       "      <th>2012-06-07</th>\n",
       "      <td>133.529999</td>\n",
       "      <td>131.779999</td>\n",
       "      <td>133.470001</td>\n",
       "      <td>132.050003</td>\n",
       "      <td>184772700.0</td>\n",
       "      <td>112.382935</td>\n",
       "    </tr>\n",
       "    <tr>\n",
       "      <th>...</th>\n",
       "      <td>...</td>\n",
       "      <td>...</td>\n",
       "      <td>...</td>\n",
       "      <td>...</td>\n",
       "      <td>...</td>\n",
       "      <td>...</td>\n",
       "    </tr>\n",
       "    <tr>\n",
       "      <th>2019-12-24</th>\n",
       "      <td>321.519989</td>\n",
       "      <td>320.899994</td>\n",
       "      <td>321.470001</td>\n",
       "      <td>321.230011</td>\n",
       "      <td>20270000.0</td>\n",
       "      <td>319.352142</td>\n",
       "    </tr>\n",
       "    <tr>\n",
       "      <th>2019-12-26</th>\n",
       "      <td>322.950012</td>\n",
       "      <td>321.640015</td>\n",
       "      <td>321.649994</td>\n",
       "      <td>322.940002</td>\n",
       "      <td>30911200.0</td>\n",
       "      <td>321.052124</td>\n",
       "    </tr>\n",
       "    <tr>\n",
       "      <th>2019-12-27</th>\n",
       "      <td>323.799988</td>\n",
       "      <td>322.279999</td>\n",
       "      <td>323.739990</td>\n",
       "      <td>322.859985</td>\n",
       "      <td>42528800.0</td>\n",
       "      <td>320.972565</td>\n",
       "    </tr>\n",
       "    <tr>\n",
       "      <th>2019-12-30</th>\n",
       "      <td>323.100006</td>\n",
       "      <td>320.549988</td>\n",
       "      <td>322.950012</td>\n",
       "      <td>321.079987</td>\n",
       "      <td>49729100.0</td>\n",
       "      <td>319.202972</td>\n",
       "    </tr>\n",
       "    <tr>\n",
       "      <th>2019-12-31</th>\n",
       "      <td>322.130005</td>\n",
       "      <td>320.149994</td>\n",
       "      <td>320.529999</td>\n",
       "      <td>321.859985</td>\n",
       "      <td>57077300.0</td>\n",
       "      <td>319.978424</td>\n",
       "    </tr>\n",
       "  </tbody>\n",
       "</table>\n",
       "<p>1908 rows × 6 columns</p>\n",
       "</div>"
      ],
      "text/plain": [
       "                  High         Low        Open       Close       Volume  \\\n",
       "Date                                                                      \n",
       "2012-06-01  131.500000  128.160004  129.410004  128.160004  253240900.0   \n",
       "2012-06-04  128.740005  127.139999  128.389999  128.100006  202545800.0   \n",
       "2012-06-05  129.259995  127.779999  127.849998  129.070007  164149400.0   \n",
       "2012-06-06  132.029999  129.929993  129.970001  131.970001  184202800.0   \n",
       "2012-06-07  133.529999  131.779999  133.470001  132.050003  184772700.0   \n",
       "...                ...         ...         ...         ...          ...   \n",
       "2019-12-24  321.519989  320.899994  321.470001  321.230011   20270000.0   \n",
       "2019-12-26  322.950012  321.640015  321.649994  322.940002   30911200.0   \n",
       "2019-12-27  323.799988  322.279999  323.739990  322.859985   42528800.0   \n",
       "2019-12-30  323.100006  320.549988  322.950012  321.079987   49729100.0   \n",
       "2019-12-31  322.130005  320.149994  320.529999  321.859985   57077300.0   \n",
       "\n",
       "             Adj Close  \n",
       "Date                    \n",
       "2012-06-01  109.072281  \n",
       "2012-06-04  109.021233  \n",
       "2012-06-05  109.846779  \n",
       "2012-06-06  112.314842  \n",
       "2012-06-07  112.382935  \n",
       "...                ...  \n",
       "2019-12-24  319.352142  \n",
       "2019-12-26  321.052124  \n",
       "2019-12-27  320.972565  \n",
       "2019-12-30  319.202972  \n",
       "2019-12-31  319.978424  \n",
       "\n",
       "[1908 rows x 6 columns]"
      ]
     },
     "execution_count": 2,
     "metadata": {},
     "output_type": "execute_result"
    }
   ],
   "source": [
    "import pandas_datareader.data as web\n",
    "import numpy as np\n",
    "import pandas as pd\n",
    "\n",
    "stock = \"SPY\"\n",
    "data =  web.DataReader(stock,data_source=\"yahoo\",start='2012-06-01',end = '2019-12-31')\n",
    "data"
   ]
  },
  {
   "cell_type": "code",
   "execution_count": 3,
   "metadata": {},
   "outputs": [],
   "source": [
    "def rsi(values):\n",
    "    up = values[values>0].mean()\n",
    "    down = -1*values[values<0].mean()\n",
    "    return (100 * up / (up + down))"
   ]
  },
  {
   "cell_type": "code",
   "execution_count": 4,
   "metadata": {},
   "outputs": [],
   "source": [
    "## RSI relative strength index (RSI) is a momentum indicator that measures the magnitude of recent price changes to evaluate overbought or oversold \n",
    "data['Momentum_1D'] = (data['Close']-data['Close'].shift(1)).fillna(0)\n",
    "data['Momentum_5D'] = (data['Close']-data['Close'].shift(5)).fillna(0)\n",
    "data['Momentum_10D'] = (data['Close']-data['Close'].shift(10)).fillna(0)\n",
    "data['RSI_14D'] = data['Momentum_1D'].rolling(center=False, window=14).apply(rsi).fillna(0)"
   ]
  },
  {
   "cell_type": "code",
   "execution_count": 5,
   "metadata": {},
   "outputs": [],
   "source": [
    "### Bolling Brand\n",
    "def bollingerbands(price, length=21, num_sd=2):\n",
    "    \"\"\" returns middle, upper band, and lower band\"\"\"\n",
    "    mid = price.rolling(window = length, center = False).mean()\n",
    "    sd = price.rolling(window = length, center = False).std()\n",
    "    upperband = mid + (sd*num_sd)\n",
    "    lowerband = mid - (sd*num_sd)\n",
    "    return np.round(mid,3), np.round(upperband,3), np.round(lowerband,3)"
   ]
  },
  {
   "cell_type": "code",
   "execution_count": 6,
   "metadata": {},
   "outputs": [],
   "source": [
    "data['BB_Middle_Band'], data['BB_Upper_Band'], data['BB_Lower_Band'] = bollingerbands(data['Close'], length=21, num_sd=2)\n",
    "data['BB_Middle_Band'] = data['BB_Middle_Band'].fillna(0)\n",
    "data['BB_Upper_Band'] = data['BB_Upper_Band'].fillna(0)\n",
    "data['BB_Lower_Band'] = data['BB_Lower_Band'].fillna(0)"
   ]
  },
  {
   "cell_type": "code",
   "execution_count": 7,
   "metadata": {},
   "outputs": [],
   "source": [
    "## SMA\n",
    "data['SMA_20'] = data['Close'].rolling(window =20).mean()\n",
    "data['SMA_100'] = data['Close'].rolling(window =100).mean()"
   ]
  },
  {
   "cell_type": "markdown",
   "metadata": {},
   "source": [
    "**Exponential Moving Average**\n",
    "\n",
    "EMA = EMA(1) + α * (Close – EMA(1))\n",
    "\n",
    "α = 2 / (N + 1)\n",
    "\n",
    "N = The smoothing period."
   ]
  },
  {
   "cell_type": "code",
   "execution_count": 8,
   "metadata": {},
   "outputs": [],
   "source": [
    "## MACD Moving Average Convergence Divergence (MACD) is a trend-following momentum indicator that shows the relationship between two moving averages of a security’s price. \n",
    "## The MACD is calculated by subtracting the 26-period Exponential Moving Average (EMA) from the 12-period EMA\n",
    "data['26_EMA'] = data['Close'].ewm(span=26,min_periods=0,adjust=True,ignore_na=False).mean()\n",
    "data['12_EMA'] = data['Close'].ewm(span=12,min_periods=0,adjust=True,ignore_na=False).mean()\n",
    "data['MACD'] = data['12_EMA'] - data['26_EMA']\n",
    "data['MACD_signal'] =data['MACD'].ewm(span=9, adjust=False).mean()"
   ]
  },
  {
   "cell_type": "markdown",
   "metadata": {},
   "source": [
    "**Average True Range**\n",
    "\n",
    "True Range = Highest of (HIgh - low, abs(High - previous close), abs(low - previous close))\n",
    "\n",
    "Average True Range = 14 day MA of True Range\n",
    "\n",
    "**Average Directional Movement Index (ADX)**\n",
    "\n",
    "(1). +DM and -DM are calculated using the High, Low and Close for each period. You can then calculate the following:\n",
    "\n",
    "Current High - Previous High = UpMove Previous Low - Current Low = DownMove\n",
    "\n",
    "If UpMove > DownMove and UpMove > 0, then +DM = UpMove, else +DM = 0 \n",
    "\n",
    "If DownMove > Upmove and Downmove > 0, then -DM = DownMove, else -DM = 0\n",
    "\n",
    "(2). +DI = 100 times Exponential Moving Average of (+DM / Average True Range) -DI = 100 times Exponential Moving Average of (-DM / Average True Range)\n",
    ".\n",
    "\n",
    "ADX = 100 times the Exponential Moving Average of the |(+DI - -DI) / (+DI + -DI)|"
   ]
  },
  {
   "cell_type": "code",
   "execution_count": 9,
   "metadata": {},
   "outputs": [],
   "source": [
    "# Calculation of Average Directional Movement Index (ADX)\n",
    "def DMI(df, period):\n",
    "    df1 = df.copy()\n",
    "    df1['highlow'] = df1['High'] - df1['High']\n",
    "    df1['abshighclose'] = abs(df1['High']-df1['Close'].shift(1))\n",
    "    df1['abslowclose'] = abs(df1['Low']-df1['Close'].shift(1))\n",
    "    \n",
    "    df1['UpMove'] = df1['High'] - df1['High'].shift(1)\n",
    "    df1['DownMove'] = df1['Low'].shift(1) - df1['Low']\n",
    "    df1['Zero'] = 0\n",
    "\n",
    "    df1['DM_plus'] = np.where((df1['UpMove'] > df1['DownMove']) & (df1['UpMove'] > df1['Zero']), \n",
    "                            df1['UpMove'], 0)\n",
    "    df1['DM_minus'] = np.where((df1['UpMove'] < df1['DownMove']) & (df1['DownMove'] > df1['Zero']),\n",
    "                             df1['DownMove'], 0)\n",
    "    df1['TR'] = df1[['highlow','abshighclose','abslowclose']].max(axis=1)\n",
    "    df['ATR'] = df1['TR'].rolling(window=14).mean()\n",
    "\n",
    "    df['DI_plus'] = 100 * (df1['DM_plus']/df['ATR']).ewm(span=period,min_periods=0,adjust=True,ignore_na=False).mean()\n",
    "    df['DI_minus'] = 100 * (df1['DM_minus']/df['ATR']).ewm(span=period,min_periods=0,adjust=True,ignore_na=False).mean()\n",
    "\n",
    "    df['ADX'] = 100 * (abs((df['DI_plus'] - df['DI_minus'])/(df['DI_plus'] + df['DI_minus']))).ewm(span=period,min_periods=0,adjust=True,ignore_na=False).mean()\n",
    "\n",
    "DMI(data, 14)"
   ]
  },
  {
   "cell_type": "markdown",
   "metadata": {},
   "source": [
    "### Extract past 7 year's market data for this project"
   ]
  },
  {
   "cell_type": "code",
   "execution_count": 10,
   "metadata": {},
   "outputs": [
    {
     "data": {
      "text/html": [
       "<div>\n",
       "<style scoped>\n",
       "    .dataframe tbody tr th:only-of-type {\n",
       "        vertical-align: middle;\n",
       "    }\n",
       "\n",
       "    .dataframe tbody tr th {\n",
       "        vertical-align: top;\n",
       "    }\n",
       "\n",
       "    .dataframe thead th {\n",
       "        text-align: right;\n",
       "    }\n",
       "</style>\n",
       "<table border=\"1\" class=\"dataframe\">\n",
       "  <thead>\n",
       "    <tr style=\"text-align: right;\">\n",
       "      <th></th>\n",
       "      <th>High</th>\n",
       "      <th>Low</th>\n",
       "      <th>Open</th>\n",
       "      <th>Close</th>\n",
       "      <th>Volume</th>\n",
       "      <th>Adj Close</th>\n",
       "      <th>Momentum_1D</th>\n",
       "      <th>Momentum_5D</th>\n",
       "      <th>Momentum_10D</th>\n",
       "      <th>RSI_14D</th>\n",
       "      <th>...</th>\n",
       "      <th>SMA_100</th>\n",
       "      <th>26_EMA</th>\n",
       "      <th>12_EMA</th>\n",
       "      <th>MACD</th>\n",
       "      <th>MACD_signal</th>\n",
       "      <th>ATR</th>\n",
       "      <th>DI_plus</th>\n",
       "      <th>DI_minus</th>\n",
       "      <th>ADX</th>\n",
       "      <th>pct</th>\n",
       "    </tr>\n",
       "    <tr>\n",
       "      <th>Date</th>\n",
       "      <th></th>\n",
       "      <th></th>\n",
       "      <th></th>\n",
       "      <th></th>\n",
       "      <th></th>\n",
       "      <th></th>\n",
       "      <th></th>\n",
       "      <th></th>\n",
       "      <th></th>\n",
       "      <th></th>\n",
       "      <th></th>\n",
       "      <th></th>\n",
       "      <th></th>\n",
       "      <th></th>\n",
       "      <th></th>\n",
       "      <th></th>\n",
       "      <th></th>\n",
       "      <th></th>\n",
       "      <th></th>\n",
       "      <th></th>\n",
       "      <th></th>\n",
       "    </tr>\n",
       "  </thead>\n",
       "  <tbody>\n",
       "    <tr>\n",
       "      <th>2013-01-02</th>\n",
       "      <td>146.149994</td>\n",
       "      <td>144.729996</td>\n",
       "      <td>145.110001</td>\n",
       "      <td>146.059998</td>\n",
       "      <td>192059000.0</td>\n",
       "      <td>126.508362</td>\n",
       "      <td>3.649994</td>\n",
       "      <td>3.709991</td>\n",
       "      <td>2.289993</td>\n",
       "      <td>64.211520</td>\n",
       "      <td>...</td>\n",
       "      <td>142.468700</td>\n",
       "      <td>142.452345</td>\n",
       "      <td>142.894273</td>\n",
       "      <td>0.441928</td>\n",
       "      <td>0.441519</td>\n",
       "      <td>1.652140</td>\n",
       "      <td>54.876919</td>\n",
       "      <td>32.314073</td>\n",
       "      <td>22.449076</td>\n",
       "      <td>0.025630</td>\n",
       "    </tr>\n",
       "    <tr>\n",
       "      <th>2013-01-03</th>\n",
       "      <td>146.369995</td>\n",
       "      <td>145.339996</td>\n",
       "      <td>145.990005</td>\n",
       "      <td>145.729996</td>\n",
       "      <td>144761800.0</td>\n",
       "      <td>126.222488</td>\n",
       "      <td>-0.330002</td>\n",
       "      <td>3.979996</td>\n",
       "      <td>0.360001</td>\n",
       "      <td>69.744501</td>\n",
       "      <td>...</td>\n",
       "      <td>142.521100</td>\n",
       "      <td>142.695137</td>\n",
       "      <td>143.330538</td>\n",
       "      <td>0.635401</td>\n",
       "      <td>0.480296</td>\n",
       "      <td>1.624283</td>\n",
       "      <td>49.365932</td>\n",
       "      <td>28.005530</td>\n",
       "      <td>23.136879</td>\n",
       "      <td>-0.002259</td>\n",
       "    </tr>\n",
       "    <tr>\n",
       "      <th>2013-01-04</th>\n",
       "      <td>146.610001</td>\n",
       "      <td>145.669998</td>\n",
       "      <td>145.970001</td>\n",
       "      <td>146.369995</td>\n",
       "      <td>116817700.0</td>\n",
       "      <td>126.776825</td>\n",
       "      <td>0.639999</td>\n",
       "      <td>4.809998</td>\n",
       "      <td>2.080002</td>\n",
       "      <td>67.134156</td>\n",
       "      <td>...</td>\n",
       "      <td>142.578700</td>\n",
       "      <td>142.967351</td>\n",
       "      <td>143.798147</td>\n",
       "      <td>0.830796</td>\n",
       "      <td>0.550396</td>\n",
       "      <td>1.598570</td>\n",
       "      <td>44.785643</td>\n",
       "      <td>24.271459</td>\n",
       "      <td>24.012777</td>\n",
       "      <td>0.004392</td>\n",
       "    </tr>\n",
       "    <tr>\n",
       "      <th>2013-01-07</th>\n",
       "      <td>146.110001</td>\n",
       "      <td>145.429993</td>\n",
       "      <td>145.850006</td>\n",
       "      <td>145.970001</td>\n",
       "      <td>110002500.0</td>\n",
       "      <td>126.430382</td>\n",
       "      <td>-0.399994</td>\n",
       "      <td>5.940002</td>\n",
       "      <td>0.850006</td>\n",
       "      <td>67.544682</td>\n",
       "      <td>...</td>\n",
       "      <td>142.630000</td>\n",
       "      <td>143.189772</td>\n",
       "      <td>144.132278</td>\n",
       "      <td>0.942506</td>\n",
       "      <td>0.628818</td>\n",
       "      <td>1.612141</td>\n",
       "      <td>38.814224</td>\n",
       "      <td>23.020248</td>\n",
       "      <td>24.216720</td>\n",
       "      <td>-0.002733</td>\n",
       "    </tr>\n",
       "    <tr>\n",
       "      <th>2013-01-08</th>\n",
       "      <td>145.910004</td>\n",
       "      <td>144.979996</td>\n",
       "      <td>145.710007</td>\n",
       "      <td>145.550003</td>\n",
       "      <td>121265100.0</td>\n",
       "      <td>126.066605</td>\n",
       "      <td>-0.419998</td>\n",
       "      <td>3.139999</td>\n",
       "      <td>2.760010</td>\n",
       "      <td>69.113926</td>\n",
       "      <td>...</td>\n",
       "      <td>142.677800</td>\n",
       "      <td>143.364605</td>\n",
       "      <td>144.350390</td>\n",
       "      <td>0.985784</td>\n",
       "      <td>0.700211</td>\n",
       "      <td>1.557856</td>\n",
       "      <td>33.638994</td>\n",
       "      <td>23.802303</td>\n",
       "      <td>23.271127</td>\n",
       "      <td>-0.002877</td>\n",
       "    </tr>\n",
       "    <tr>\n",
       "      <th>...</th>\n",
       "      <td>...</td>\n",
       "      <td>...</td>\n",
       "      <td>...</td>\n",
       "      <td>...</td>\n",
       "      <td>...</td>\n",
       "      <td>...</td>\n",
       "      <td>...</td>\n",
       "      <td>...</td>\n",
       "      <td>...</td>\n",
       "      <td>...</td>\n",
       "      <td>...</td>\n",
       "      <td>...</td>\n",
       "      <td>...</td>\n",
       "      <td>...</td>\n",
       "      <td>...</td>\n",
       "      <td>...</td>\n",
       "      <td>...</td>\n",
       "      <td>...</td>\n",
       "      <td>...</td>\n",
       "      <td>...</td>\n",
       "      <td>...</td>\n",
       "    </tr>\n",
       "    <tr>\n",
       "      <th>2019-12-24</th>\n",
       "      <td>321.519989</td>\n",
       "      <td>320.899994</td>\n",
       "      <td>321.470001</td>\n",
       "      <td>321.230011</td>\n",
       "      <td>20270000.0</td>\n",
       "      <td>319.352142</td>\n",
       "      <td>0.010010</td>\n",
       "      <td>1.660004</td>\n",
       "      <td>7.700012</td>\n",
       "      <td>67.076614</td>\n",
       "      <td>...</td>\n",
       "      <td>301.638199</td>\n",
       "      <td>315.278385</td>\n",
       "      <td>318.588601</td>\n",
       "      <td>3.310215</td>\n",
       "      <td>3.046026</td>\n",
       "      <td>1.499285</td>\n",
       "      <td>31.481583</td>\n",
       "      <td>10.573711</td>\n",
       "      <td>40.107975</td>\n",
       "      <td>0.000031</td>\n",
       "    </tr>\n",
       "    <tr>\n",
       "      <th>2019-12-26</th>\n",
       "      <td>322.950012</td>\n",
       "      <td>321.640015</td>\n",
       "      <td>321.649994</td>\n",
       "      <td>322.940002</td>\n",
       "      <td>30911200.0</td>\n",
       "      <td>321.052124</td>\n",
       "      <td>1.709991</td>\n",
       "      <td>3.350006</td>\n",
       "      <td>8.519989</td>\n",
       "      <td>69.183954</td>\n",
       "      <td>...</td>\n",
       "      <td>302.029399</td>\n",
       "      <td>315.845913</td>\n",
       "      <td>319.258047</td>\n",
       "      <td>3.412135</td>\n",
       "      <td>3.119248</td>\n",
       "      <td>1.559285</td>\n",
       "      <td>39.512066</td>\n",
       "      <td>9.163883</td>\n",
       "      <td>43.073230</td>\n",
       "      <td>0.005323</td>\n",
       "    </tr>\n",
       "    <tr>\n",
       "      <th>2019-12-27</th>\n",
       "      <td>323.799988</td>\n",
       "      <td>322.279999</td>\n",
       "      <td>323.739990</td>\n",
       "      <td>322.859985</td>\n",
       "      <td>42528800.0</td>\n",
       "      <td>320.972565</td>\n",
       "      <td>-0.080017</td>\n",
       "      <td>1.959991</td>\n",
       "      <td>5.729980</td>\n",
       "      <td>70.675046</td>\n",
       "      <td>...</td>\n",
       "      <td>302.379999</td>\n",
       "      <td>316.365474</td>\n",
       "      <td>319.812192</td>\n",
       "      <td>3.446718</td>\n",
       "      <td>3.184742</td>\n",
       "      <td>1.385712</td>\n",
       "      <td>42.422265</td>\n",
       "      <td>7.942032</td>\n",
       "      <td>46.458354</td>\n",
       "      <td>-0.000248</td>\n",
       "    </tr>\n",
       "    <tr>\n",
       "      <th>2019-12-30</th>\n",
       "      <td>323.100006</td>\n",
       "      <td>320.549988</td>\n",
       "      <td>322.950012</td>\n",
       "      <td>321.079987</td>\n",
       "      <td>49729100.0</td>\n",
       "      <td>319.202972</td>\n",
       "      <td>-1.779999</td>\n",
       "      <td>0.349976</td>\n",
       "      <td>3.759979</td>\n",
       "      <td>61.686976</td>\n",
       "      <td>...</td>\n",
       "      <td>302.711099</td>\n",
       "      <td>316.714697</td>\n",
       "      <td>320.007237</td>\n",
       "      <td>3.292540</td>\n",
       "      <td>3.206302</td>\n",
       "      <td>1.474282</td>\n",
       "      <td>36.765963</td>\n",
       "      <td>22.529223</td>\n",
       "      <td>43.465232</td>\n",
       "      <td>-0.005513</td>\n",
       "    </tr>\n",
       "    <tr>\n",
       "      <th>2019-12-31</th>\n",
       "      <td>322.130005</td>\n",
       "      <td>320.149994</td>\n",
       "      <td>320.529999</td>\n",
       "      <td>321.859985</td>\n",
       "      <td>57077300.0</td>\n",
       "      <td>319.978424</td>\n",
       "      <td>0.779999</td>\n",
       "      <td>0.639984</td>\n",
       "      <td>2.359985</td>\n",
       "      <td>58.191330</td>\n",
       "      <td>...</td>\n",
       "      <td>302.993499</td>\n",
       "      <td>317.095829</td>\n",
       "      <td>320.292275</td>\n",
       "      <td>3.196446</td>\n",
       "      <td>3.204330</td>\n",
       "      <td>1.472855</td>\n",
       "      <td>31.863835</td>\n",
       "      <td>23.146358</td>\n",
       "      <td>39.782804</td>\n",
       "      <td>0.002429</td>\n",
       "    </tr>\n",
       "  </tbody>\n",
       "</table>\n",
       "<p>1762 rows × 24 columns</p>\n",
       "</div>"
      ],
      "text/plain": [
       "                  High         Low        Open       Close       Volume  \\\n",
       "Date                                                                      \n",
       "2013-01-02  146.149994  144.729996  145.110001  146.059998  192059000.0   \n",
       "2013-01-03  146.369995  145.339996  145.990005  145.729996  144761800.0   \n",
       "2013-01-04  146.610001  145.669998  145.970001  146.369995  116817700.0   \n",
       "2013-01-07  146.110001  145.429993  145.850006  145.970001  110002500.0   \n",
       "2013-01-08  145.910004  144.979996  145.710007  145.550003  121265100.0   \n",
       "...                ...         ...         ...         ...          ...   \n",
       "2019-12-24  321.519989  320.899994  321.470001  321.230011   20270000.0   \n",
       "2019-12-26  322.950012  321.640015  321.649994  322.940002   30911200.0   \n",
       "2019-12-27  323.799988  322.279999  323.739990  322.859985   42528800.0   \n",
       "2019-12-30  323.100006  320.549988  322.950012  321.079987   49729100.0   \n",
       "2019-12-31  322.130005  320.149994  320.529999  321.859985   57077300.0   \n",
       "\n",
       "             Adj Close  Momentum_1D  Momentum_5D  Momentum_10D    RSI_14D  \\\n",
       "Date                                                                        \n",
       "2013-01-02  126.508362     3.649994     3.709991      2.289993  64.211520   \n",
       "2013-01-03  126.222488    -0.330002     3.979996      0.360001  69.744501   \n",
       "2013-01-04  126.776825     0.639999     4.809998      2.080002  67.134156   \n",
       "2013-01-07  126.430382    -0.399994     5.940002      0.850006  67.544682   \n",
       "2013-01-08  126.066605    -0.419998     3.139999      2.760010  69.113926   \n",
       "...                ...          ...          ...           ...        ...   \n",
       "2019-12-24  319.352142     0.010010     1.660004      7.700012  67.076614   \n",
       "2019-12-26  321.052124     1.709991     3.350006      8.519989  69.183954   \n",
       "2019-12-27  320.972565    -0.080017     1.959991      5.729980  70.675046   \n",
       "2019-12-30  319.202972    -1.779999     0.349976      3.759979  61.686976   \n",
       "2019-12-31  319.978424     0.779999     0.639984      2.359985  58.191330   \n",
       "\n",
       "            ...     SMA_100      26_EMA      12_EMA      MACD  MACD_signal  \\\n",
       "Date        ...                                                              \n",
       "2013-01-02  ...  142.468700  142.452345  142.894273  0.441928     0.441519   \n",
       "2013-01-03  ...  142.521100  142.695137  143.330538  0.635401     0.480296   \n",
       "2013-01-04  ...  142.578700  142.967351  143.798147  0.830796     0.550396   \n",
       "2013-01-07  ...  142.630000  143.189772  144.132278  0.942506     0.628818   \n",
       "2013-01-08  ...  142.677800  143.364605  144.350390  0.985784     0.700211   \n",
       "...         ...         ...         ...         ...       ...          ...   \n",
       "2019-12-24  ...  301.638199  315.278385  318.588601  3.310215     3.046026   \n",
       "2019-12-26  ...  302.029399  315.845913  319.258047  3.412135     3.119248   \n",
       "2019-12-27  ...  302.379999  316.365474  319.812192  3.446718     3.184742   \n",
       "2019-12-30  ...  302.711099  316.714697  320.007237  3.292540     3.206302   \n",
       "2019-12-31  ...  302.993499  317.095829  320.292275  3.196446     3.204330   \n",
       "\n",
       "                 ATR    DI_plus   DI_minus        ADX       pct  \n",
       "Date                                                             \n",
       "2013-01-02  1.652140  54.876919  32.314073  22.449076  0.025630  \n",
       "2013-01-03  1.624283  49.365932  28.005530  23.136879 -0.002259  \n",
       "2013-01-04  1.598570  44.785643  24.271459  24.012777  0.004392  \n",
       "2013-01-07  1.612141  38.814224  23.020248  24.216720 -0.002733  \n",
       "2013-01-08  1.557856  33.638994  23.802303  23.271127 -0.002877  \n",
       "...              ...        ...        ...        ...       ...  \n",
       "2019-12-24  1.499285  31.481583  10.573711  40.107975  0.000031  \n",
       "2019-12-26  1.559285  39.512066   9.163883  43.073230  0.005323  \n",
       "2019-12-27  1.385712  42.422265   7.942032  46.458354 -0.000248  \n",
       "2019-12-30  1.474282  36.765963  22.529223  43.465232 -0.005513  \n",
       "2019-12-31  1.472855  31.863835  23.146358  39.782804  0.002429  \n",
       "\n",
       "[1762 rows x 24 columns]"
      ]
     },
     "execution_count": 10,
     "metadata": {},
     "output_type": "execute_result"
    }
   ],
   "source": [
    "data[\"pct\"] = data['Close'].pct_change()\n",
    "#df = pd.read_csv(\"CFRM_521_SPY.csv\", index_col=0)\n",
    "df = data.loc['2013-01-01':'2019-12-31']\n",
    "df"
   ]
  },
  {
   "cell_type": "markdown",
   "metadata": {},
   "source": [
    "# Section 3 --- Algorithms "
   ]
  },
  {
   "cell_type": "markdown",
   "metadata": {},
   "source": [
    "<h2>\n",
    "<center> Predict SPY's Volatility in df8 </center>\n",
    "</h2>"
   ]
  },
  {
   "cell_type": "markdown",
   "metadata": {},
   "source": [
    "### Note: label '3' represent SPY up more than 5% today, label '2' represent SPY up 2% ~ 5% today, label '1' represent SPY up 0% ~ 2% today. While label '-3' represent SPY was down more than 5% today, label '-2' represent SPY was down 2% ~ 5% today, label '-1' represent SPY was down 0% ~ 2% today. \n",
    "\n",
    "### We predict next day's volatiliy base on the past day's indicators"
   ]
  },
  {
   "cell_type": "code",
   "execution_count": 11,
   "metadata": {},
   "outputs": [
    {
     "data": {
      "text/html": [
       "<div>\n",
       "<style scoped>\n",
       "    .dataframe tbody tr th:only-of-type {\n",
       "        vertical-align: middle;\n",
       "    }\n",
       "\n",
       "    .dataframe tbody tr th {\n",
       "        vertical-align: top;\n",
       "    }\n",
       "\n",
       "    .dataframe thead th {\n",
       "        text-align: right;\n",
       "    }\n",
       "</style>\n",
       "<table border=\"1\" class=\"dataframe\">\n",
       "  <thead>\n",
       "    <tr style=\"text-align: right;\">\n",
       "      <th></th>\n",
       "      <th>High</th>\n",
       "      <th>Low</th>\n",
       "      <th>Open</th>\n",
       "      <th>Close</th>\n",
       "      <th>Volume</th>\n",
       "      <th>Adj Close</th>\n",
       "      <th>Momentum_1D</th>\n",
       "      <th>Momentum_5D</th>\n",
       "      <th>Momentum_10D</th>\n",
       "      <th>RSI_14D</th>\n",
       "      <th>...</th>\n",
       "      <th>26_EMA</th>\n",
       "      <th>12_EMA</th>\n",
       "      <th>MACD</th>\n",
       "      <th>MACD_signal</th>\n",
       "      <th>ATR</th>\n",
       "      <th>DI_plus</th>\n",
       "      <th>DI_minus</th>\n",
       "      <th>ADX</th>\n",
       "      <th>pct</th>\n",
       "      <th>price_movement</th>\n",
       "    </tr>\n",
       "    <tr>\n",
       "      <th>Date</th>\n",
       "      <th></th>\n",
       "      <th></th>\n",
       "      <th></th>\n",
       "      <th></th>\n",
       "      <th></th>\n",
       "      <th></th>\n",
       "      <th></th>\n",
       "      <th></th>\n",
       "      <th></th>\n",
       "      <th></th>\n",
       "      <th></th>\n",
       "      <th></th>\n",
       "      <th></th>\n",
       "      <th></th>\n",
       "      <th></th>\n",
       "      <th></th>\n",
       "      <th></th>\n",
       "      <th></th>\n",
       "      <th></th>\n",
       "      <th></th>\n",
       "      <th></th>\n",
       "    </tr>\n",
       "  </thead>\n",
       "  <tbody>\n",
       "    <tr>\n",
       "      <th>2013-01-02</th>\n",
       "      <td>146.149994</td>\n",
       "      <td>144.729996</td>\n",
       "      <td>145.110001</td>\n",
       "      <td>146.059998</td>\n",
       "      <td>192059000.0</td>\n",
       "      <td>126.508362</td>\n",
       "      <td>3.649994</td>\n",
       "      <td>3.709991</td>\n",
       "      <td>2.289993</td>\n",
       "      <td>64.211520</td>\n",
       "      <td>...</td>\n",
       "      <td>142.452345</td>\n",
       "      <td>142.894273</td>\n",
       "      <td>0.441928</td>\n",
       "      <td>0.441519</td>\n",
       "      <td>1.652140</td>\n",
       "      <td>54.876919</td>\n",
       "      <td>32.314073</td>\n",
       "      <td>22.449076</td>\n",
       "      <td>0.025630</td>\n",
       "      <td>2</td>\n",
       "    </tr>\n",
       "    <tr>\n",
       "      <th>2013-01-03</th>\n",
       "      <td>146.369995</td>\n",
       "      <td>145.339996</td>\n",
       "      <td>145.990005</td>\n",
       "      <td>145.729996</td>\n",
       "      <td>144761800.0</td>\n",
       "      <td>126.222488</td>\n",
       "      <td>-0.330002</td>\n",
       "      <td>3.979996</td>\n",
       "      <td>0.360001</td>\n",
       "      <td>69.744501</td>\n",
       "      <td>...</td>\n",
       "      <td>142.695137</td>\n",
       "      <td>143.330538</td>\n",
       "      <td>0.635401</td>\n",
       "      <td>0.480296</td>\n",
       "      <td>1.624283</td>\n",
       "      <td>49.365932</td>\n",
       "      <td>28.005530</td>\n",
       "      <td>23.136879</td>\n",
       "      <td>-0.002259</td>\n",
       "      <td>-1</td>\n",
       "    </tr>\n",
       "    <tr>\n",
       "      <th>2013-01-04</th>\n",
       "      <td>146.610001</td>\n",
       "      <td>145.669998</td>\n",
       "      <td>145.970001</td>\n",
       "      <td>146.369995</td>\n",
       "      <td>116817700.0</td>\n",
       "      <td>126.776825</td>\n",
       "      <td>0.639999</td>\n",
       "      <td>4.809998</td>\n",
       "      <td>2.080002</td>\n",
       "      <td>67.134156</td>\n",
       "      <td>...</td>\n",
       "      <td>142.967351</td>\n",
       "      <td>143.798147</td>\n",
       "      <td>0.830796</td>\n",
       "      <td>0.550396</td>\n",
       "      <td>1.598570</td>\n",
       "      <td>44.785643</td>\n",
       "      <td>24.271459</td>\n",
       "      <td>24.012777</td>\n",
       "      <td>0.004392</td>\n",
       "      <td>1</td>\n",
       "    </tr>\n",
       "    <tr>\n",
       "      <th>2013-01-07</th>\n",
       "      <td>146.110001</td>\n",
       "      <td>145.429993</td>\n",
       "      <td>145.850006</td>\n",
       "      <td>145.970001</td>\n",
       "      <td>110002500.0</td>\n",
       "      <td>126.430382</td>\n",
       "      <td>-0.399994</td>\n",
       "      <td>5.940002</td>\n",
       "      <td>0.850006</td>\n",
       "      <td>67.544682</td>\n",
       "      <td>...</td>\n",
       "      <td>143.189772</td>\n",
       "      <td>144.132278</td>\n",
       "      <td>0.942506</td>\n",
       "      <td>0.628818</td>\n",
       "      <td>1.612141</td>\n",
       "      <td>38.814224</td>\n",
       "      <td>23.020248</td>\n",
       "      <td>24.216720</td>\n",
       "      <td>-0.002733</td>\n",
       "      <td>-1</td>\n",
       "    </tr>\n",
       "    <tr>\n",
       "      <th>2013-01-08</th>\n",
       "      <td>145.910004</td>\n",
       "      <td>144.979996</td>\n",
       "      <td>145.710007</td>\n",
       "      <td>145.550003</td>\n",
       "      <td>121265100.0</td>\n",
       "      <td>126.066605</td>\n",
       "      <td>-0.419998</td>\n",
       "      <td>3.139999</td>\n",
       "      <td>2.760010</td>\n",
       "      <td>69.113926</td>\n",
       "      <td>...</td>\n",
       "      <td>143.364605</td>\n",
       "      <td>144.350390</td>\n",
       "      <td>0.985784</td>\n",
       "      <td>0.700211</td>\n",
       "      <td>1.557856</td>\n",
       "      <td>33.638994</td>\n",
       "      <td>23.802303</td>\n",
       "      <td>23.271127</td>\n",
       "      <td>-0.002877</td>\n",
       "      <td>-1</td>\n",
       "    </tr>\n",
       "    <tr>\n",
       "      <th>...</th>\n",
       "      <td>...</td>\n",
       "      <td>...</td>\n",
       "      <td>...</td>\n",
       "      <td>...</td>\n",
       "      <td>...</td>\n",
       "      <td>...</td>\n",
       "      <td>...</td>\n",
       "      <td>...</td>\n",
       "      <td>...</td>\n",
       "      <td>...</td>\n",
       "      <td>...</td>\n",
       "      <td>...</td>\n",
       "      <td>...</td>\n",
       "      <td>...</td>\n",
       "      <td>...</td>\n",
       "      <td>...</td>\n",
       "      <td>...</td>\n",
       "      <td>...</td>\n",
       "      <td>...</td>\n",
       "      <td>...</td>\n",
       "      <td>...</td>\n",
       "    </tr>\n",
       "    <tr>\n",
       "      <th>2019-12-24</th>\n",
       "      <td>321.519989</td>\n",
       "      <td>320.899994</td>\n",
       "      <td>321.470001</td>\n",
       "      <td>321.230011</td>\n",
       "      <td>20270000.0</td>\n",
       "      <td>319.352142</td>\n",
       "      <td>0.010010</td>\n",
       "      <td>1.660004</td>\n",
       "      <td>7.700012</td>\n",
       "      <td>67.076614</td>\n",
       "      <td>...</td>\n",
       "      <td>315.278385</td>\n",
       "      <td>318.588601</td>\n",
       "      <td>3.310215</td>\n",
       "      <td>3.046026</td>\n",
       "      <td>1.499285</td>\n",
       "      <td>31.481583</td>\n",
       "      <td>10.573711</td>\n",
       "      <td>40.107975</td>\n",
       "      <td>0.000031</td>\n",
       "      <td>1</td>\n",
       "    </tr>\n",
       "    <tr>\n",
       "      <th>2019-12-26</th>\n",
       "      <td>322.950012</td>\n",
       "      <td>321.640015</td>\n",
       "      <td>321.649994</td>\n",
       "      <td>322.940002</td>\n",
       "      <td>30911200.0</td>\n",
       "      <td>321.052124</td>\n",
       "      <td>1.709991</td>\n",
       "      <td>3.350006</td>\n",
       "      <td>8.519989</td>\n",
       "      <td>69.183954</td>\n",
       "      <td>...</td>\n",
       "      <td>315.845913</td>\n",
       "      <td>319.258047</td>\n",
       "      <td>3.412135</td>\n",
       "      <td>3.119248</td>\n",
       "      <td>1.559285</td>\n",
       "      <td>39.512066</td>\n",
       "      <td>9.163883</td>\n",
       "      <td>43.073230</td>\n",
       "      <td>0.005323</td>\n",
       "      <td>1</td>\n",
       "    </tr>\n",
       "    <tr>\n",
       "      <th>2019-12-27</th>\n",
       "      <td>323.799988</td>\n",
       "      <td>322.279999</td>\n",
       "      <td>323.739990</td>\n",
       "      <td>322.859985</td>\n",
       "      <td>42528800.0</td>\n",
       "      <td>320.972565</td>\n",
       "      <td>-0.080017</td>\n",
       "      <td>1.959991</td>\n",
       "      <td>5.729980</td>\n",
       "      <td>70.675046</td>\n",
       "      <td>...</td>\n",
       "      <td>316.365474</td>\n",
       "      <td>319.812192</td>\n",
       "      <td>3.446718</td>\n",
       "      <td>3.184742</td>\n",
       "      <td>1.385712</td>\n",
       "      <td>42.422265</td>\n",
       "      <td>7.942032</td>\n",
       "      <td>46.458354</td>\n",
       "      <td>-0.000248</td>\n",
       "      <td>-1</td>\n",
       "    </tr>\n",
       "    <tr>\n",
       "      <th>2019-12-30</th>\n",
       "      <td>323.100006</td>\n",
       "      <td>320.549988</td>\n",
       "      <td>322.950012</td>\n",
       "      <td>321.079987</td>\n",
       "      <td>49729100.0</td>\n",
       "      <td>319.202972</td>\n",
       "      <td>-1.779999</td>\n",
       "      <td>0.349976</td>\n",
       "      <td>3.759979</td>\n",
       "      <td>61.686976</td>\n",
       "      <td>...</td>\n",
       "      <td>316.714697</td>\n",
       "      <td>320.007237</td>\n",
       "      <td>3.292540</td>\n",
       "      <td>3.206302</td>\n",
       "      <td>1.474282</td>\n",
       "      <td>36.765963</td>\n",
       "      <td>22.529223</td>\n",
       "      <td>43.465232</td>\n",
       "      <td>-0.005513</td>\n",
       "      <td>-1</td>\n",
       "    </tr>\n",
       "    <tr>\n",
       "      <th>2019-12-31</th>\n",
       "      <td>322.130005</td>\n",
       "      <td>320.149994</td>\n",
       "      <td>320.529999</td>\n",
       "      <td>321.859985</td>\n",
       "      <td>57077300.0</td>\n",
       "      <td>319.978424</td>\n",
       "      <td>0.779999</td>\n",
       "      <td>0.639984</td>\n",
       "      <td>2.359985</td>\n",
       "      <td>58.191330</td>\n",
       "      <td>...</td>\n",
       "      <td>317.095829</td>\n",
       "      <td>320.292275</td>\n",
       "      <td>3.196446</td>\n",
       "      <td>3.204330</td>\n",
       "      <td>1.472855</td>\n",
       "      <td>31.863835</td>\n",
       "      <td>23.146358</td>\n",
       "      <td>39.782804</td>\n",
       "      <td>0.002429</td>\n",
       "      <td>1</td>\n",
       "    </tr>\n",
       "  </tbody>\n",
       "</table>\n",
       "<p>1762 rows × 25 columns</p>\n",
       "</div>"
      ],
      "text/plain": [
       "                  High         Low        Open       Close       Volume  \\\n",
       "Date                                                                      \n",
       "2013-01-02  146.149994  144.729996  145.110001  146.059998  192059000.0   \n",
       "2013-01-03  146.369995  145.339996  145.990005  145.729996  144761800.0   \n",
       "2013-01-04  146.610001  145.669998  145.970001  146.369995  116817700.0   \n",
       "2013-01-07  146.110001  145.429993  145.850006  145.970001  110002500.0   \n",
       "2013-01-08  145.910004  144.979996  145.710007  145.550003  121265100.0   \n",
       "...                ...         ...         ...         ...          ...   \n",
       "2019-12-24  321.519989  320.899994  321.470001  321.230011   20270000.0   \n",
       "2019-12-26  322.950012  321.640015  321.649994  322.940002   30911200.0   \n",
       "2019-12-27  323.799988  322.279999  323.739990  322.859985   42528800.0   \n",
       "2019-12-30  323.100006  320.549988  322.950012  321.079987   49729100.0   \n",
       "2019-12-31  322.130005  320.149994  320.529999  321.859985   57077300.0   \n",
       "\n",
       "             Adj Close  Momentum_1D  Momentum_5D  Momentum_10D    RSI_14D  \\\n",
       "Date                                                                        \n",
       "2013-01-02  126.508362     3.649994     3.709991      2.289993  64.211520   \n",
       "2013-01-03  126.222488    -0.330002     3.979996      0.360001  69.744501   \n",
       "2013-01-04  126.776825     0.639999     4.809998      2.080002  67.134156   \n",
       "2013-01-07  126.430382    -0.399994     5.940002      0.850006  67.544682   \n",
       "2013-01-08  126.066605    -0.419998     3.139999      2.760010  69.113926   \n",
       "...                ...          ...          ...           ...        ...   \n",
       "2019-12-24  319.352142     0.010010     1.660004      7.700012  67.076614   \n",
       "2019-12-26  321.052124     1.709991     3.350006      8.519989  69.183954   \n",
       "2019-12-27  320.972565    -0.080017     1.959991      5.729980  70.675046   \n",
       "2019-12-30  319.202972    -1.779999     0.349976      3.759979  61.686976   \n",
       "2019-12-31  319.978424     0.779999     0.639984      2.359985  58.191330   \n",
       "\n",
       "            ...      26_EMA      12_EMA      MACD  MACD_signal       ATR  \\\n",
       "Date        ...                                                            \n",
       "2013-01-02  ...  142.452345  142.894273  0.441928     0.441519  1.652140   \n",
       "2013-01-03  ...  142.695137  143.330538  0.635401     0.480296  1.624283   \n",
       "2013-01-04  ...  142.967351  143.798147  0.830796     0.550396  1.598570   \n",
       "2013-01-07  ...  143.189772  144.132278  0.942506     0.628818  1.612141   \n",
       "2013-01-08  ...  143.364605  144.350390  0.985784     0.700211  1.557856   \n",
       "...         ...         ...         ...       ...          ...       ...   \n",
       "2019-12-24  ...  315.278385  318.588601  3.310215     3.046026  1.499285   \n",
       "2019-12-26  ...  315.845913  319.258047  3.412135     3.119248  1.559285   \n",
       "2019-12-27  ...  316.365474  319.812192  3.446718     3.184742  1.385712   \n",
       "2019-12-30  ...  316.714697  320.007237  3.292540     3.206302  1.474282   \n",
       "2019-12-31  ...  317.095829  320.292275  3.196446     3.204330  1.472855   \n",
       "\n",
       "              DI_plus   DI_minus        ADX       pct  price_movement  \n",
       "Date                                                                   \n",
       "2013-01-02  54.876919  32.314073  22.449076  0.025630               2  \n",
       "2013-01-03  49.365932  28.005530  23.136879 -0.002259              -1  \n",
       "2013-01-04  44.785643  24.271459  24.012777  0.004392               1  \n",
       "2013-01-07  38.814224  23.020248  24.216720 -0.002733              -1  \n",
       "2013-01-08  33.638994  23.802303  23.271127 -0.002877              -1  \n",
       "...               ...        ...        ...       ...             ...  \n",
       "2019-12-24  31.481583  10.573711  40.107975  0.000031               1  \n",
       "2019-12-26  39.512066   9.163883  43.073230  0.005323               1  \n",
       "2019-12-27  42.422265   7.942032  46.458354 -0.000248              -1  \n",
       "2019-12-30  36.765963  22.529223  43.465232 -0.005513              -1  \n",
       "2019-12-31  31.863835  23.146358  39.782804  0.002429               1  \n",
       "\n",
       "[1762 rows x 25 columns]"
      ]
     },
     "execution_count": 11,
     "metadata": {},
     "output_type": "execute_result"
    }
   ],
   "source": [
    "df8 = df.copy()\n",
    "col = 'pct'\n",
    "conditions  = [(df8[col] >= 0.03), \n",
    "               (df8[col] < 0.03) & (df8[col]>= 0.015),\n",
    "               (df8[col] < 0.015) & (df8[col]>= 0.00),\n",
    "               (df8[col] < 0.00) & (df8[col]>= -0.015),\n",
    "               (df8[col] < -0.015) & (df8[col]>= -0.03),\n",
    "               (df8[col] <= -0.03) \n",
    "              ]\n",
    "choices  = ['3','2','1','-1','-2','-3' ]\n",
    "\n",
    "df8['price_movement'] = np.select(conditions, choices, default = np.nan)\n",
    "df8"
   ]
  },
  {
   "cell_type": "code",
   "execution_count": 12,
   "metadata": {},
   "outputs": [],
   "source": [
    "X_train, X_test, y_train, y_test = train_test_split(df8.iloc[:(len(df8)-1),:23], df8[\"price_movement\"][1:], \n",
    "                                                    test_size=0.2, shuffle = False, random_state=42)\n",
    "scaler = StandardScaler()\n",
    "X_train_scaled = scaler.fit_transform(X_train)\n",
    "X_test_scaled = scaler.transform(X_test)"
   ]
  },
  {
   "cell_type": "code",
   "execution_count": 13,
   "metadata": {},
   "outputs": [
    {
     "data": {
      "text/html": [
       "<div>\n",
       "<style scoped>\n",
       "    .dataframe tbody tr th:only-of-type {\n",
       "        vertical-align: middle;\n",
       "    }\n",
       "\n",
       "    .dataframe tbody tr th {\n",
       "        vertical-align: top;\n",
       "    }\n",
       "\n",
       "    .dataframe thead th {\n",
       "        text-align: right;\n",
       "    }\n",
       "</style>\n",
       "<table border=\"1\" class=\"dataframe\">\n",
       "  <thead>\n",
       "    <tr style=\"text-align: right;\">\n",
       "      <th></th>\n",
       "      <th>High</th>\n",
       "      <th>Low</th>\n",
       "      <th>Open</th>\n",
       "      <th>Close</th>\n",
       "      <th>Volume</th>\n",
       "      <th>Adj Close</th>\n",
       "      <th>Momentum_1D</th>\n",
       "      <th>Momentum_5D</th>\n",
       "      <th>Momentum_10D</th>\n",
       "      <th>RSI_14D</th>\n",
       "      <th>...</th>\n",
       "      <th>SMA_20</th>\n",
       "      <th>SMA_100</th>\n",
       "      <th>26_EMA</th>\n",
       "      <th>12_EMA</th>\n",
       "      <th>MACD</th>\n",
       "      <th>MACD_signal</th>\n",
       "      <th>ATR</th>\n",
       "      <th>DI_plus</th>\n",
       "      <th>DI_minus</th>\n",
       "      <th>ADX</th>\n",
       "    </tr>\n",
       "  </thead>\n",
       "  <tbody>\n",
       "    <tr>\n",
       "      <th>count</th>\n",
       "      <td>1408.000000</td>\n",
       "      <td>1408.000000</td>\n",
       "      <td>1408.000000</td>\n",
       "      <td>1408.000000</td>\n",
       "      <td>1.408000e+03</td>\n",
       "      <td>1408.000000</td>\n",
       "      <td>1408.000000</td>\n",
       "      <td>1408.000000</td>\n",
       "      <td>1408.000000</td>\n",
       "      <td>1408.000000</td>\n",
       "      <td>...</td>\n",
       "      <td>1408.000000</td>\n",
       "      <td>1408.000000</td>\n",
       "      <td>1408.000000</td>\n",
       "      <td>1408.000000</td>\n",
       "      <td>1408.000000</td>\n",
       "      <td>1408.000000</td>\n",
       "      <td>1408.000000</td>\n",
       "      <td>1408.000000</td>\n",
       "      <td>1408.000000</td>\n",
       "      <td>1408.000000</td>\n",
       "    </tr>\n",
       "    <tr>\n",
       "      <th>mean</th>\n",
       "      <td>211.722898</td>\n",
       "      <td>209.890426</td>\n",
       "      <td>210.841456</td>\n",
       "      <td>210.888061</td>\n",
       "      <td>1.046878e+08</td>\n",
       "      <td>193.819247</td>\n",
       "      <td>0.100277</td>\n",
       "      <td>0.497180</td>\n",
       "      <td>0.986697</td>\n",
       "      <td>52.900895</td>\n",
       "      <td>...</td>\n",
       "      <td>209.951855</td>\n",
       "      <td>206.219865</td>\n",
       "      <td>209.669121</td>\n",
       "      <td>210.345049</td>\n",
       "      <td>0.675927</td>\n",
       "      <td>0.671918</td>\n",
       "      <td>1.718189</td>\n",
       "      <td>28.774771</td>\n",
       "      <td>28.619158</td>\n",
       "      <td>30.145172</td>\n",
       "    </tr>\n",
       "    <tr>\n",
       "      <th>std</th>\n",
       "      <td>33.764130</td>\n",
       "      <td>33.588303</td>\n",
       "      <td>33.690886</td>\n",
       "      <td>33.669596</td>\n",
       "      <td>4.845045e+07</td>\n",
       "      <td>37.042567</td>\n",
       "      <td>1.638680</td>\n",
       "      <td>3.483542</td>\n",
       "      <td>4.726300</td>\n",
       "      <td>11.214131</td>\n",
       "      <td>...</td>\n",
       "      <td>33.510054</td>\n",
       "      <td>33.211964</td>\n",
       "      <td>33.453819</td>\n",
       "      <td>33.549493</td>\n",
       "      <td>1.377536</td>\n",
       "      <td>1.254433</td>\n",
       "      <td>0.784232</td>\n",
       "      <td>10.642221</td>\n",
       "      <td>15.523253</td>\n",
       "      <td>11.005441</td>\n",
       "    </tr>\n",
       "    <tr>\n",
       "      <th>min</th>\n",
       "      <td>145.910004</td>\n",
       "      <td>144.729996</td>\n",
       "      <td>145.110001</td>\n",
       "      <td>145.550003</td>\n",
       "      <td>2.785650e+07</td>\n",
       "      <td>126.066605</td>\n",
       "      <td>-11.520020</td>\n",
       "      <td>-23.949982</td>\n",
       "      <td>-25.669983</td>\n",
       "      <td>23.107921</td>\n",
       "      <td>...</td>\n",
       "      <td>142.839500</td>\n",
       "      <td>142.468700</td>\n",
       "      <td>142.452345</td>\n",
       "      <td>142.894273</td>\n",
       "      <td>-4.850263</td>\n",
       "      <td>-4.113097</td>\n",
       "      <td>0.698575</td>\n",
       "      <td>6.984552</td>\n",
       "      <td>2.582882</td>\n",
       "      <td>12.029518</td>\n",
       "    </tr>\n",
       "    <tr>\n",
       "      <th>25%</th>\n",
       "      <td>189.137501</td>\n",
       "      <td>187.152504</td>\n",
       "      <td>188.407497</td>\n",
       "      <td>188.104996</td>\n",
       "      <td>7.191665e+07</td>\n",
       "      <td>168.242580</td>\n",
       "      <td>-0.602482</td>\n",
       "      <td>-0.994991</td>\n",
       "      <td>-1.214996</td>\n",
       "      <td>44.900837</td>\n",
       "      <td>...</td>\n",
       "      <td>188.463875</td>\n",
       "      <td>185.106750</td>\n",
       "      <td>188.486050</td>\n",
       "      <td>188.457704</td>\n",
       "      <td>-0.070070</td>\n",
       "      <td>0.023699</td>\n",
       "      <td>1.205535</td>\n",
       "      <td>21.416785</td>\n",
       "      <td>17.786351</td>\n",
       "      <td>21.965467</td>\n",
       "    </tr>\n",
       "    <tr>\n",
       "      <th>50%</th>\n",
       "      <td>208.379997</td>\n",
       "      <td>206.485001</td>\n",
       "      <td>207.345001</td>\n",
       "      <td>207.620003</td>\n",
       "      <td>9.334460e+07</td>\n",
       "      <td>189.166054</td>\n",
       "      <td>0.120010</td>\n",
       "      <td>0.770004</td>\n",
       "      <td>1.230003</td>\n",
       "      <td>51.819939</td>\n",
       "      <td>...</td>\n",
       "      <td>207.368000</td>\n",
       "      <td>203.651600</td>\n",
       "      <td>206.428470</td>\n",
       "      <td>207.235972</td>\n",
       "      <td>0.908003</td>\n",
       "      <td>0.854675</td>\n",
       "      <td>1.511072</td>\n",
       "      <td>27.705305</td>\n",
       "      <td>26.343693</td>\n",
       "      <td>28.014078</td>\n",
       "    </tr>\n",
       "    <tr>\n",
       "      <th>75%</th>\n",
       "      <td>235.887505</td>\n",
       "      <td>234.205002</td>\n",
       "      <td>235.037498</td>\n",
       "      <td>235.322506</td>\n",
       "      <td>1.250895e+08</td>\n",
       "      <td>221.936615</td>\n",
       "      <td>0.939991</td>\n",
       "      <td>2.452496</td>\n",
       "      <td>3.842510</td>\n",
       "      <td>59.756429</td>\n",
       "      <td>...</td>\n",
       "      <td>234.867749</td>\n",
       "      <td>225.161676</td>\n",
       "      <td>234.813909</td>\n",
       "      <td>235.332436</td>\n",
       "      <td>1.607917</td>\n",
       "      <td>1.512665</td>\n",
       "      <td>1.916070</td>\n",
       "      <td>34.698990</td>\n",
       "      <td>36.393340</td>\n",
       "      <td>36.286868</td>\n",
       "    </tr>\n",
       "    <tr>\n",
       "      <th>max</th>\n",
       "      <td>286.630005</td>\n",
       "      <td>284.500000</td>\n",
       "      <td>285.929993</td>\n",
       "      <td>286.579987</td>\n",
       "      <td>5.072443e+08</td>\n",
       "      <td>274.397858</td>\n",
       "      <td>7.190002</td>\n",
       "      <td>15.399994</td>\n",
       "      <td>17.079987</td>\n",
       "      <td>87.489994</td>\n",
       "      <td>...</td>\n",
       "      <td>280.593999</td>\n",
       "      <td>271.926799</td>\n",
       "      <td>279.465124</td>\n",
       "      <td>281.399463</td>\n",
       "      <td>4.714758</td>\n",
       "      <td>4.251537</td>\n",
       "      <td>5.265718</td>\n",
       "      <td>82.613958</td>\n",
       "      <td>135.656974</td>\n",
       "      <td>72.957433</td>\n",
       "    </tr>\n",
       "  </tbody>\n",
       "</table>\n",
       "<p>8 rows × 23 columns</p>\n",
       "</div>"
      ],
      "text/plain": [
       "              High          Low         Open        Close        Volume  \\\n",
       "count  1408.000000  1408.000000  1408.000000  1408.000000  1.408000e+03   \n",
       "mean    211.722898   209.890426   210.841456   210.888061  1.046878e+08   \n",
       "std      33.764130    33.588303    33.690886    33.669596  4.845045e+07   \n",
       "min     145.910004   144.729996   145.110001   145.550003  2.785650e+07   \n",
       "25%     189.137501   187.152504   188.407497   188.104996  7.191665e+07   \n",
       "50%     208.379997   206.485001   207.345001   207.620003  9.334460e+07   \n",
       "75%     235.887505   234.205002   235.037498   235.322506  1.250895e+08   \n",
       "max     286.630005   284.500000   285.929993   286.579987  5.072443e+08   \n",
       "\n",
       "         Adj Close  Momentum_1D  Momentum_5D  Momentum_10D      RSI_14D  ...  \\\n",
       "count  1408.000000  1408.000000  1408.000000   1408.000000  1408.000000  ...   \n",
       "mean    193.819247     0.100277     0.497180      0.986697    52.900895  ...   \n",
       "std      37.042567     1.638680     3.483542      4.726300    11.214131  ...   \n",
       "min     126.066605   -11.520020   -23.949982    -25.669983    23.107921  ...   \n",
       "25%     168.242580    -0.602482    -0.994991     -1.214996    44.900837  ...   \n",
       "50%     189.166054     0.120010     0.770004      1.230003    51.819939  ...   \n",
       "75%     221.936615     0.939991     2.452496      3.842510    59.756429  ...   \n",
       "max     274.397858     7.190002    15.399994     17.079987    87.489994  ...   \n",
       "\n",
       "            SMA_20      SMA_100       26_EMA       12_EMA         MACD  \\\n",
       "count  1408.000000  1408.000000  1408.000000  1408.000000  1408.000000   \n",
       "mean    209.951855   206.219865   209.669121   210.345049     0.675927   \n",
       "std      33.510054    33.211964    33.453819    33.549493     1.377536   \n",
       "min     142.839500   142.468700   142.452345   142.894273    -4.850263   \n",
       "25%     188.463875   185.106750   188.486050   188.457704    -0.070070   \n",
       "50%     207.368000   203.651600   206.428470   207.235972     0.908003   \n",
       "75%     234.867749   225.161676   234.813909   235.332436     1.607917   \n",
       "max     280.593999   271.926799   279.465124   281.399463     4.714758   \n",
       "\n",
       "       MACD_signal          ATR      DI_plus     DI_minus          ADX  \n",
       "count  1408.000000  1408.000000  1408.000000  1408.000000  1408.000000  \n",
       "mean      0.671918     1.718189    28.774771    28.619158    30.145172  \n",
       "std       1.254433     0.784232    10.642221    15.523253    11.005441  \n",
       "min      -4.113097     0.698575     6.984552     2.582882    12.029518  \n",
       "25%       0.023699     1.205535    21.416785    17.786351    21.965467  \n",
       "50%       0.854675     1.511072    27.705305    26.343693    28.014078  \n",
       "75%       1.512665     1.916070    34.698990    36.393340    36.286868  \n",
       "max       4.251537     5.265718    82.613958   135.656974    72.957433  \n",
       "\n",
       "[8 rows x 23 columns]"
      ]
     },
     "execution_count": 13,
     "metadata": {},
     "output_type": "execute_result"
    }
   ],
   "source": [
    "X_train.describe()"
   ]
  },
  {
   "cell_type": "code",
   "execution_count": 14,
   "metadata": {},
   "outputs": [
    {
     "data": {
      "text/plain": [
       "count     1408\n",
       "unique       6\n",
       "top          1\n",
       "freq       744\n",
       "Name: price_movement, dtype: object"
      ]
     },
     "execution_count": 14,
     "metadata": {},
     "output_type": "execute_result"
    }
   ],
   "source": [
    "y_train.describe()"
   ]
  },
  {
   "cell_type": "code",
   "execution_count": 15,
   "metadata": {},
   "outputs": [
    {
     "data": {
      "text/html": [
       "<div>\n",
       "<style scoped>\n",
       "    .dataframe tbody tr th:only-of-type {\n",
       "        vertical-align: middle;\n",
       "    }\n",
       "\n",
       "    .dataframe tbody tr th {\n",
       "        vertical-align: top;\n",
       "    }\n",
       "\n",
       "    .dataframe thead th {\n",
       "        text-align: right;\n",
       "    }\n",
       "</style>\n",
       "<table border=\"1\" class=\"dataframe\">\n",
       "  <thead>\n",
       "    <tr style=\"text-align: right;\">\n",
       "      <th></th>\n",
       "      <th>price_movement</th>\n",
       "    </tr>\n",
       "  </thead>\n",
       "  <tbody>\n",
       "    <tr>\n",
       "      <th>count</th>\n",
       "      <td>1408</td>\n",
       "    </tr>\n",
       "    <tr>\n",
       "      <th>unique</th>\n",
       "      <td>6</td>\n",
       "    </tr>\n",
       "    <tr>\n",
       "      <th>top</th>\n",
       "      <td>1</td>\n",
       "    </tr>\n",
       "    <tr>\n",
       "      <th>freq</th>\n",
       "      <td>744</td>\n",
       "    </tr>\n",
       "  </tbody>\n",
       "</table>\n",
       "</div>"
      ],
      "text/plain": [
       "       price_movement\n",
       "count            1408\n",
       "unique              6\n",
       "top                 1\n",
       "freq              744"
      ]
     },
     "execution_count": 15,
     "metadata": {},
     "output_type": "execute_result"
    }
   ],
   "source": [
    "pd.DataFrame(y_train).describe()"
   ]
  },
  {
   "cell_type": "markdown",
   "metadata": {},
   "source": [
    "Here we can see the distribution of our targets for the training set:"
   ]
  },
  {
   "cell_type": "code",
   "execution_count": 16,
   "metadata": {},
   "outputs": [
    {
     "data": {
      "text/plain": [
       "(array([581.,   0., 744.,   0.,  42.,   0.,  35.,   0.,   5.,   1.]),\n",
       " array([0. , 0.5, 1. , 1.5, 2. , 2.5, 3. , 3.5, 4. , 4.5, 5. ]),\n",
       " <a list of 10 Patch objects>)"
      ]
     },
     "execution_count": 16,
     "metadata": {},
     "output_type": "execute_result"
    },
    {
     "data": {
      "image/png": "[encoded data removed]",
      "text/plain": [
       "<Figure size 432x288 with 1 Axes>"
      ]
     },
     "metadata": {
      "needs_background": "light"
     },
     "output_type": "display_data"
    }
   ],
   "source": [
    "plt.hist(y_train)"
   ]
  },
  {
   "cell_type": "code",
   "execution_count": 17,
   "metadata": {},
   "outputs": [
    {
     "data": {
      "text/plain": [
       "(array([186.,   0., 133.,   0.,   4.,   0.,  19.,   0.,   9.,   2.]),\n",
       " array([0. , 0.5, 1. , 1.5, 2. , 2.5, 3. , 3.5, 4. , 4.5, 5. ]),\n",
       " <a list of 10 Patch objects>)"
      ]
     },
     "execution_count": 17,
     "metadata": {},
     "output_type": "execute_result"
    },
    {
     "data": {
      "image/png": "[encoded data removed]",
      "text/plain": [
       "<Figure size 432x288 with 1 Axes>"
      ]
     },
     "metadata": {
      "needs_background": "light"
     },
     "output_type": "display_data"
    }
   ],
   "source": [
    "plt.hist(y_test)"
   ]
  },
  {
   "cell_type": "code",
   "execution_count": 18,
   "metadata": {},
   "outputs": [
    {
     "data": {
      "text/html": [
       "<div>\n",
       "<style scoped>\n",
       "    .dataframe tbody tr th:only-of-type {\n",
       "        vertical-align: middle;\n",
       "    }\n",
       "\n",
       "    .dataframe tbody tr th {\n",
       "        vertical-align: top;\n",
       "    }\n",
       "\n",
       "    .dataframe thead th {\n",
       "        text-align: right;\n",
       "    }\n",
       "</style>\n",
       "<table border=\"1\" class=\"dataframe\">\n",
       "  <thead>\n",
       "    <tr style=\"text-align: right;\">\n",
       "      <th></th>\n",
       "      <th>price_movement</th>\n",
       "    </tr>\n",
       "  </thead>\n",
       "  <tbody>\n",
       "    <tr>\n",
       "      <th>count</th>\n",
       "      <td>353</td>\n",
       "    </tr>\n",
       "    <tr>\n",
       "      <th>unique</th>\n",
       "      <td>6</td>\n",
       "    </tr>\n",
       "    <tr>\n",
       "      <th>top</th>\n",
       "      <td>1</td>\n",
       "    </tr>\n",
       "    <tr>\n",
       "      <th>freq</th>\n",
       "      <td>186</td>\n",
       "    </tr>\n",
       "  </tbody>\n",
       "</table>\n",
       "</div>"
      ],
      "text/plain": [
       "       price_movement\n",
       "count             353\n",
       "unique              6\n",
       "top                 1\n",
       "freq              186"
      ]
     },
     "execution_count": 18,
     "metadata": {},
     "output_type": "execute_result"
    }
   ],
   "source": [
    "pd.DataFrame(y_test).describe()"
   ]
  },
  {
   "cell_type": "code",
   "execution_count": 19,
   "metadata": {},
   "outputs": [
    {
     "name": "stdout",
     "output_type": "stream",
     "text": [
      "<class 'pandas.core.frame.DataFrame'>\n",
      "DatetimeIndex: 1408 entries, 2013-01-03 to 2018-08-06\n",
      "Data columns (total 1 columns):\n",
      " #   Column          Non-Null Count  Dtype \n",
      "---  ------          --------------  ----- \n",
      " 0   price_movement  1408 non-null   object\n",
      "dtypes: object(1)\n",
      "memory usage: 22.0+ KB\n"
     ]
    }
   ],
   "source": [
    "pd.DataFrame(y_train).info()"
   ]
  },
  {
   "cell_type": "markdown",
   "metadata": {},
   "source": [
    "<h2>\n",
    "<center> Predict Volatility level and direction seperately in df9 </center>\n",
    "</h2>"
   ]
  },
  {
   "cell_type": "markdown",
   "metadata": {},
   "source": [
    "### break down our y-label into two parts: sign (+/-) and magnitude (1/2/3), called y1 and y2. We fit the features (technical indicators from “yesterday”) to y1 and y2 separately and test the model. "
   ]
  },
  {
   "cell_type": "code",
   "execution_count": 15,
   "metadata": {},
   "outputs": [
    {
     "data": {
      "text/html": [
       "<div>\n",
       "<style scoped>\n",
       "    .dataframe tbody tr th:only-of-type {\n",
       "        vertical-align: middle;\n",
       "    }\n",
       "\n",
       "    .dataframe tbody tr th {\n",
       "        vertical-align: top;\n",
       "    }\n",
       "\n",
       "    .dataframe thead th {\n",
       "        text-align: right;\n",
       "    }\n",
       "</style>\n",
       "<table border=\"1\" class=\"dataframe\">\n",
       "  <thead>\n",
       "    <tr style=\"text-align: right;\">\n",
       "      <th></th>\n",
       "      <th>High</th>\n",
       "      <th>Low</th>\n",
       "      <th>Open</th>\n",
       "      <th>Close</th>\n",
       "      <th>Volume</th>\n",
       "      <th>Adj Close</th>\n",
       "      <th>Momentum_1D</th>\n",
       "      <th>Momentum_5D</th>\n",
       "      <th>Momentum_10D</th>\n",
       "      <th>RSI_14D</th>\n",
       "      <th>...</th>\n",
       "      <th>12_EMA</th>\n",
       "      <th>MACD</th>\n",
       "      <th>MACD_signal</th>\n",
       "      <th>ATR</th>\n",
       "      <th>DI_plus</th>\n",
       "      <th>DI_minus</th>\n",
       "      <th>ADX</th>\n",
       "      <th>pct</th>\n",
       "      <th>price_movement</th>\n",
       "      <th>up_or_down</th>\n",
       "    </tr>\n",
       "    <tr>\n",
       "      <th>Date</th>\n",
       "      <th></th>\n",
       "      <th></th>\n",
       "      <th></th>\n",
       "      <th></th>\n",
       "      <th></th>\n",
       "      <th></th>\n",
       "      <th></th>\n",
       "      <th></th>\n",
       "      <th></th>\n",
       "      <th></th>\n",
       "      <th></th>\n",
       "      <th></th>\n",
       "      <th></th>\n",
       "      <th></th>\n",
       "      <th></th>\n",
       "      <th></th>\n",
       "      <th></th>\n",
       "      <th></th>\n",
       "      <th></th>\n",
       "      <th></th>\n",
       "      <th></th>\n",
       "    </tr>\n",
       "  </thead>\n",
       "  <tbody>\n",
       "    <tr>\n",
       "      <th>2013-01-02</th>\n",
       "      <td>146.149994</td>\n",
       "      <td>144.729996</td>\n",
       "      <td>145.110001</td>\n",
       "      <td>146.059998</td>\n",
       "      <td>192059000.0</td>\n",
       "      <td>126.508362</td>\n",
       "      <td>3.649994</td>\n",
       "      <td>3.709991</td>\n",
       "      <td>2.289993</td>\n",
       "      <td>64.211520</td>\n",
       "      <td>...</td>\n",
       "      <td>142.894273</td>\n",
       "      <td>0.441928</td>\n",
       "      <td>0.441519</td>\n",
       "      <td>1.652140</td>\n",
       "      <td>54.876919</td>\n",
       "      <td>32.314073</td>\n",
       "      <td>22.449076</td>\n",
       "      <td>0.025630</td>\n",
       "      <td>2</td>\n",
       "      <td>+</td>\n",
       "    </tr>\n",
       "    <tr>\n",
       "      <th>2013-01-03</th>\n",
       "      <td>146.369995</td>\n",
       "      <td>145.339996</td>\n",
       "      <td>145.990005</td>\n",
       "      <td>145.729996</td>\n",
       "      <td>144761800.0</td>\n",
       "      <td>126.222488</td>\n",
       "      <td>-0.330002</td>\n",
       "      <td>3.979996</td>\n",
       "      <td>0.360001</td>\n",
       "      <td>69.744501</td>\n",
       "      <td>...</td>\n",
       "      <td>143.330538</td>\n",
       "      <td>0.635401</td>\n",
       "      <td>0.480296</td>\n",
       "      <td>1.624283</td>\n",
       "      <td>49.365932</td>\n",
       "      <td>28.005530</td>\n",
       "      <td>23.136879</td>\n",
       "      <td>-0.002259</td>\n",
       "      <td>1</td>\n",
       "      <td>-</td>\n",
       "    </tr>\n",
       "    <tr>\n",
       "      <th>2013-01-04</th>\n",
       "      <td>146.610001</td>\n",
       "      <td>145.669998</td>\n",
       "      <td>145.970001</td>\n",
       "      <td>146.369995</td>\n",
       "      <td>116817700.0</td>\n",
       "      <td>126.776825</td>\n",
       "      <td>0.639999</td>\n",
       "      <td>4.809998</td>\n",
       "      <td>2.080002</td>\n",
       "      <td>67.134156</td>\n",
       "      <td>...</td>\n",
       "      <td>143.798147</td>\n",
       "      <td>0.830796</td>\n",
       "      <td>0.550396</td>\n",
       "      <td>1.598570</td>\n",
       "      <td>44.785643</td>\n",
       "      <td>24.271459</td>\n",
       "      <td>24.012777</td>\n",
       "      <td>0.004392</td>\n",
       "      <td>1</td>\n",
       "      <td>+</td>\n",
       "    </tr>\n",
       "    <tr>\n",
       "      <th>2013-01-07</th>\n",
       "      <td>146.110001</td>\n",
       "      <td>145.429993</td>\n",
       "      <td>145.850006</td>\n",
       "      <td>145.970001</td>\n",
       "      <td>110002500.0</td>\n",
       "      <td>126.430382</td>\n",
       "      <td>-0.399994</td>\n",
       "      <td>5.940002</td>\n",
       "      <td>0.850006</td>\n",
       "      <td>67.544682</td>\n",
       "      <td>...</td>\n",
       "      <td>144.132278</td>\n",
       "      <td>0.942506</td>\n",
       "      <td>0.628818</td>\n",
       "      <td>1.612141</td>\n",
       "      <td>38.814224</td>\n",
       "      <td>23.020248</td>\n",
       "      <td>24.216720</td>\n",
       "      <td>-0.002733</td>\n",
       "      <td>1</td>\n",
       "      <td>-</td>\n",
       "    </tr>\n",
       "    <tr>\n",
       "      <th>2013-01-08</th>\n",
       "      <td>145.910004</td>\n",
       "      <td>144.979996</td>\n",
       "      <td>145.710007</td>\n",
       "      <td>145.550003</td>\n",
       "      <td>121265100.0</td>\n",
       "      <td>126.066605</td>\n",
       "      <td>-0.419998</td>\n",
       "      <td>3.139999</td>\n",
       "      <td>2.760010</td>\n",
       "      <td>69.113926</td>\n",
       "      <td>...</td>\n",
       "      <td>144.350390</td>\n",
       "      <td>0.985784</td>\n",
       "      <td>0.700211</td>\n",
       "      <td>1.557856</td>\n",
       "      <td>33.638994</td>\n",
       "      <td>23.802303</td>\n",
       "      <td>23.271127</td>\n",
       "      <td>-0.002877</td>\n",
       "      <td>1</td>\n",
       "      <td>-</td>\n",
       "    </tr>\n",
       "    <tr>\n",
       "      <th>...</th>\n",
       "      <td>...</td>\n",
       "      <td>...</td>\n",
       "      <td>...</td>\n",
       "      <td>...</td>\n",
       "      <td>...</td>\n",
       "      <td>...</td>\n",
       "      <td>...</td>\n",
       "      <td>...</td>\n",
       "      <td>...</td>\n",
       "      <td>...</td>\n",
       "      <td>...</td>\n",
       "      <td>...</td>\n",
       "      <td>...</td>\n",
       "      <td>...</td>\n",
       "      <td>...</td>\n",
       "      <td>...</td>\n",
       "      <td>...</td>\n",
       "      <td>...</td>\n",
       "      <td>...</td>\n",
       "      <td>...</td>\n",
       "      <td>...</td>\n",
       "    </tr>\n",
       "    <tr>\n",
       "      <th>2019-12-24</th>\n",
       "      <td>321.519989</td>\n",
       "      <td>320.899994</td>\n",
       "      <td>321.470001</td>\n",
       "      <td>321.230011</td>\n",
       "      <td>20270000.0</td>\n",
       "      <td>319.352142</td>\n",
       "      <td>0.010010</td>\n",
       "      <td>1.660004</td>\n",
       "      <td>7.700012</td>\n",
       "      <td>67.076614</td>\n",
       "      <td>...</td>\n",
       "      <td>318.588601</td>\n",
       "      <td>3.310215</td>\n",
       "      <td>3.046026</td>\n",
       "      <td>1.499285</td>\n",
       "      <td>31.481583</td>\n",
       "      <td>10.573711</td>\n",
       "      <td>40.107975</td>\n",
       "      <td>0.000031</td>\n",
       "      <td>1</td>\n",
       "      <td>+</td>\n",
       "    </tr>\n",
       "    <tr>\n",
       "      <th>2019-12-26</th>\n",
       "      <td>322.950012</td>\n",
       "      <td>321.640015</td>\n",
       "      <td>321.649994</td>\n",
       "      <td>322.940002</td>\n",
       "      <td>30911200.0</td>\n",
       "      <td>321.052124</td>\n",
       "      <td>1.709991</td>\n",
       "      <td>3.350006</td>\n",
       "      <td>8.519989</td>\n",
       "      <td>69.183954</td>\n",
       "      <td>...</td>\n",
       "      <td>319.258047</td>\n",
       "      <td>3.412135</td>\n",
       "      <td>3.119248</td>\n",
       "      <td>1.559285</td>\n",
       "      <td>39.512066</td>\n",
       "      <td>9.163883</td>\n",
       "      <td>43.073230</td>\n",
       "      <td>0.005323</td>\n",
       "      <td>1</td>\n",
       "      <td>+</td>\n",
       "    </tr>\n",
       "    <tr>\n",
       "      <th>2019-12-27</th>\n",
       "      <td>323.799988</td>\n",
       "      <td>322.279999</td>\n",
       "      <td>323.739990</td>\n",
       "      <td>322.859985</td>\n",
       "      <td>42528800.0</td>\n",
       "      <td>320.972565</td>\n",
       "      <td>-0.080017</td>\n",
       "      <td>1.959991</td>\n",
       "      <td>5.729980</td>\n",
       "      <td>70.675046</td>\n",
       "      <td>...</td>\n",
       "      <td>319.812192</td>\n",
       "      <td>3.446718</td>\n",
       "      <td>3.184742</td>\n",
       "      <td>1.385712</td>\n",
       "      <td>42.422265</td>\n",
       "      <td>7.942032</td>\n",
       "      <td>46.458354</td>\n",
       "      <td>-0.000248</td>\n",
       "      <td>1</td>\n",
       "      <td>-</td>\n",
       "    </tr>\n",
       "    <tr>\n",
       "      <th>2019-12-30</th>\n",
       "      <td>323.100006</td>\n",
       "      <td>320.549988</td>\n",
       "      <td>322.950012</td>\n",
       "      <td>321.079987</td>\n",
       "      <td>49729100.0</td>\n",
       "      <td>319.202972</td>\n",
       "      <td>-1.779999</td>\n",
       "      <td>0.349976</td>\n",
       "      <td>3.759979</td>\n",
       "      <td>61.686976</td>\n",
       "      <td>...</td>\n",
       "      <td>320.007237</td>\n",
       "      <td>3.292540</td>\n",
       "      <td>3.206302</td>\n",
       "      <td>1.474282</td>\n",
       "      <td>36.765963</td>\n",
       "      <td>22.529223</td>\n",
       "      <td>43.465232</td>\n",
       "      <td>-0.005513</td>\n",
       "      <td>1</td>\n",
       "      <td>-</td>\n",
       "    </tr>\n",
       "    <tr>\n",
       "      <th>2019-12-31</th>\n",
       "      <td>322.130005</td>\n",
       "      <td>320.149994</td>\n",
       "      <td>320.529999</td>\n",
       "      <td>321.859985</td>\n",
       "      <td>57077300.0</td>\n",
       "      <td>319.978424</td>\n",
       "      <td>0.779999</td>\n",
       "      <td>0.639984</td>\n",
       "      <td>2.359985</td>\n",
       "      <td>58.191330</td>\n",
       "      <td>...</td>\n",
       "      <td>320.292275</td>\n",
       "      <td>3.196446</td>\n",
       "      <td>3.204330</td>\n",
       "      <td>1.472855</td>\n",
       "      <td>31.863835</td>\n",
       "      <td>23.146358</td>\n",
       "      <td>39.782804</td>\n",
       "      <td>0.002429</td>\n",
       "      <td>1</td>\n",
       "      <td>+</td>\n",
       "    </tr>\n",
       "  </tbody>\n",
       "</table>\n",
       "<p>1762 rows × 26 columns</p>\n",
       "</div>"
      ],
      "text/plain": [
       "                  High         Low        Open       Close       Volume  \\\n",
       "Date                                                                      \n",
       "2013-01-02  146.149994  144.729996  145.110001  146.059998  192059000.0   \n",
       "2013-01-03  146.369995  145.339996  145.990005  145.729996  144761800.0   \n",
       "2013-01-04  146.610001  145.669998  145.970001  146.369995  116817700.0   \n",
       "2013-01-07  146.110001  145.429993  145.850006  145.970001  110002500.0   \n",
       "2013-01-08  145.910004  144.979996  145.710007  145.550003  121265100.0   \n",
       "...                ...         ...         ...         ...          ...   \n",
       "2019-12-24  321.519989  320.899994  321.470001  321.230011   20270000.0   \n",
       "2019-12-26  322.950012  321.640015  321.649994  322.940002   30911200.0   \n",
       "2019-12-27  323.799988  322.279999  323.739990  322.859985   42528800.0   \n",
       "2019-12-30  323.100006  320.549988  322.950012  321.079987   49729100.0   \n",
       "2019-12-31  322.130005  320.149994  320.529999  321.859985   57077300.0   \n",
       "\n",
       "             Adj Close  Momentum_1D  Momentum_5D  Momentum_10D    RSI_14D  \\\n",
       "Date                                                                        \n",
       "2013-01-02  126.508362     3.649994     3.709991      2.289993  64.211520   \n",
       "2013-01-03  126.222488    -0.330002     3.979996      0.360001  69.744501   \n",
       "2013-01-04  126.776825     0.639999     4.809998      2.080002  67.134156   \n",
       "2013-01-07  126.430382    -0.399994     5.940002      0.850006  67.544682   \n",
       "2013-01-08  126.066605    -0.419998     3.139999      2.760010  69.113926   \n",
       "...                ...          ...          ...           ...        ...   \n",
       "2019-12-24  319.352142     0.010010     1.660004      7.700012  67.076614   \n",
       "2019-12-26  321.052124     1.709991     3.350006      8.519989  69.183954   \n",
       "2019-12-27  320.972565    -0.080017     1.959991      5.729980  70.675046   \n",
       "2019-12-30  319.202972    -1.779999     0.349976      3.759979  61.686976   \n",
       "2019-12-31  319.978424     0.779999     0.639984      2.359985  58.191330   \n",
       "\n",
       "            ...      12_EMA      MACD  MACD_signal       ATR    DI_plus  \\\n",
       "Date        ...                                                           \n",
       "2013-01-02  ...  142.894273  0.441928     0.441519  1.652140  54.876919   \n",
       "2013-01-03  ...  143.330538  0.635401     0.480296  1.624283  49.365932   \n",
       "2013-01-04  ...  143.798147  0.830796     0.550396  1.598570  44.785643   \n",
       "2013-01-07  ...  144.132278  0.942506     0.628818  1.612141  38.814224   \n",
       "2013-01-08  ...  144.350390  0.985784     0.700211  1.557856  33.638994   \n",
       "...         ...         ...       ...          ...       ...        ...   \n",
       "2019-12-24  ...  318.588601  3.310215     3.046026  1.499285  31.481583   \n",
       "2019-12-26  ...  319.258047  3.412135     3.119248  1.559285  39.512066   \n",
       "2019-12-27  ...  319.812192  3.446718     3.184742  1.385712  42.422265   \n",
       "2019-12-30  ...  320.007237  3.292540     3.206302  1.474282  36.765963   \n",
       "2019-12-31  ...  320.292275  3.196446     3.204330  1.472855  31.863835   \n",
       "\n",
       "             DI_minus        ADX       pct  price_movement  up_or_down  \n",
       "Date                                                                    \n",
       "2013-01-02  32.314073  22.449076  0.025630               2           +  \n",
       "2013-01-03  28.005530  23.136879 -0.002259               1           -  \n",
       "2013-01-04  24.271459  24.012777  0.004392               1           +  \n",
       "2013-01-07  23.020248  24.216720 -0.002733               1           -  \n",
       "2013-01-08  23.802303  23.271127 -0.002877               1           -  \n",
       "...               ...        ...       ...             ...         ...  \n",
       "2019-12-24  10.573711  40.107975  0.000031               1           +  \n",
       "2019-12-26   9.163883  43.073230  0.005323               1           +  \n",
       "2019-12-27   7.942032  46.458354 -0.000248               1           -  \n",
       "2019-12-30  22.529223  43.465232 -0.005513               1           -  \n",
       "2019-12-31  23.146358  39.782804  0.002429               1           +  \n",
       "\n",
       "[1762 rows x 26 columns]"
      ]
     },
     "execution_count": 15,
     "metadata": {},
     "output_type": "execute_result"
    }
   ],
   "source": [
    "df9 = df.copy()\n",
    "col = 'pct'\n",
    "conditions1  = [(df9[col] >= 0.03), \n",
    "               (df9[col] < 0.03) & (df9[col]>= 0.015),\n",
    "               (df9[col] < 0.015) & (df9[col]>= 0.00),\n",
    "               (df9[col] < 0.00) & (df9[col]>= -0.015),\n",
    "               (df9[col] < -0.015) & (df9[col]>= -0.03),\n",
    "               (df9[col] <= -0.03)\n",
    "              ]\n",
    "choices1  = ['3','2','1','1','2','3' ]\n",
    "\n",
    "df9['price_movement'] = np.select(conditions1, choices1, default = np.nan)\n",
    "\n",
    "conditions2  = [(df9[col] >= 0), \n",
    "                (df9[col] < 0)\n",
    "              ]\n",
    "choices2  = ['+','-']\n",
    "df9['up_or_down'] = np.select(conditions2, choices2, default = np.nan)\n",
    "df9"
   ]
  },
  {
   "cell_type": "code",
   "execution_count": 16,
   "metadata": {},
   "outputs": [],
   "source": [
    "X_train, X_test, y_train1, y_test1, y_train2, y_test2 = train_test_split(df9.iloc[:(len(df8)-1),4:23], \n",
    "                                                                         df9[\"price_movement\"][1:],\n",
    "                                                                         df9['up_or_down'][1:],\n",
    "                                                                         test_size=0.2, shuffle = False, random_state=42)\n",
    "\n",
    "scaler = StandardScaler()\n",
    "X_train_scaled = scaler.fit_transform(X_train)\n",
    "X_test_scaled = scaler.transform(X_test)"
   ]
  },
  {
   "cell_type": "code",
   "execution_count": 17,
   "metadata": {},
   "outputs": [
    {
     "data": {
      "text/plain": [
       "(array([1325.,    0.,    0.,    0.,    0.,   77.,    0.,    0.,    0.,\n",
       "           6.]),\n",
       " array([0. , 0.2, 0.4, 0.6, 0.8, 1. , 1.2, 1.4, 1.6, 1.8, 2. ]),\n",
       " <a list of 10 Patch objects>)"
      ]
     },
     "execution_count": 17,
     "metadata": {},
     "output_type": "execute_result"
    },
    {
     "data": {
      "image/png": "[encoded data removed]",
      "text/plain": [
       "<Figure size 432x288 with 1 Axes>"
      ]
     },
     "metadata": {
      "needs_background": "light"
     },
     "output_type": "display_data"
    }
   ],
   "source": [
    "plt.hist(y_train1)"
   ]
  },
  {
   "cell_type": "code",
   "execution_count": 23,
   "metadata": {},
   "outputs": [
    {
     "data": {
      "text/plain": [
       "(array([319.,   0.,   0.,   0.,   0.,   6.,   0.,   0.,   0.,  28.]),\n",
       " array([0. , 0.2, 0.4, 0.6, 0.8, 1. , 1.2, 1.4, 1.6, 1.8, 2. ]),\n",
       " <a list of 10 Patch objects>)"
      ]
     },
     "execution_count": 23,
     "metadata": {},
     "output_type": "execute_result"
    },
    {
     "data": {
      "image/png": "[encoded data removed]",
      "text/plain": [
       "<Figure size 432x288 with 1 Axes>"
      ]
     },
     "metadata": {
      "needs_background": "light"
     },
     "output_type": "display_data"
    }
   ],
   "source": [
    "plt.hist(y_test1)"
   ]
  },
  {
   "cell_type": "markdown",
   "metadata": {},
   "source": [
    "## Algorithm 1: Clustering(KMean) \n",
    "* Ruibo Wei"
   ]
  },
  {
   "cell_type": "code",
   "execution_count": 24,
   "metadata": {},
   "outputs": [
    {
     "name": "stdout",
     "output_type": "stream",
     "text": [
      "k=3\n",
      "k=4\n",
      "k=5\n",
      "k=6\n",
      "k=7\n",
      "k=8\n",
      "k=9\n",
      "k=10\n",
      "k=11\n",
      "k=12\n",
      "k=13\n",
      "k=14\n",
      "k=15\n",
      "k=16\n",
      "k=17\n",
      "k=18\n",
      "k=19\n"
     ]
    }
   ],
   "source": [
    "from sklearn.cluster import KMeans\n",
    "k_range = range(3, 20, 1)\n",
    "kmeans_per_k = []\n",
    "for k in k_range:\n",
    "    print(\"k={}\".format(k))\n",
    "    kmeans = KMeans(n_clusters=k, random_state=42).fit(X_train_scaled)\n",
    "    kmeans_per_k.append(kmeans)"
   ]
  },
  {
   "cell_type": "code",
   "execution_count": 294,
   "metadata": {},
   "outputs": [
    {
     "name": "stdout",
     "output_type": "stream",
     "text": [
      "k=3\n",
      "k=4\n",
      "k=5\n",
      "k=6\n",
      "k=7\n",
      "k=8\n",
      "k=9\n",
      "k=10\n",
      "k=11\n",
      "k=12\n",
      "k=13\n",
      "k=14\n",
      "k=15\n",
      "k=16\n",
      "k=17\n",
      "k=18\n",
      "k=19\n"
     ]
    }
   ],
   "source": [
    "from sklearn.cluster import KMeans\n",
    "k_range = range(3, 20, 1)\n",
    "kmeans_per_k = []\n",
    "for k in k_range:\n",
    "    print(\"k={}\".format(k))\n",
    "    kmeans = KMeans(n_clusters=k, random_state=42).fit(X_train)\n",
    "    kmeans_per_k.append(kmeans)"
   ]
  },
  {
   "cell_type": "code",
   "execution_count": 15,
   "metadata": {},
   "outputs": [
    {
     "data": {
      "image/png": "[encoded data removed]",
      "text/plain": [
       "<Figure size 576x216 with 1 Axes>"
      ]
     },
     "metadata": {
      "needs_background": "light"
     },
     "output_type": "display_data"
    }
   ],
   "source": [
    "from sklearn.metrics import silhouette_score\n",
    "import matplotlib.pyplot as plt\n",
    "\n",
    "scores = [silhouette_score(X_train_scaled, model.labels_)\n",
    "                     for model in kmeans_per_k]\n",
    "best_index = np.argmax(scores)\n",
    "best_k = k_range[best_index]\n",
    "best_score = scores[best_index]\n",
    "\n",
    "plt.figure(figsize=(8, 3))\n",
    "plt.plot(k_range, scores, \"bo-\")\n",
    "plt.xlabel(\"$k$\", fontsize=14)\n",
    "plt.ylabel(\"Silhouette score\", fontsize=14)\n",
    "plt.plot(best_k, best_score, \"rs\")\n",
    "plt.show()"
   ]
  },
  {
   "cell_type": "code",
   "execution_count": 18,
   "metadata": {},
   "outputs": [
    {
     "name": "stdout",
     "output_type": "stream",
     "text": [
      "3 0.5078740157480315\n",
      "4 0.4921259842519685\n",
      "5 0.484251968503937\n",
      "6 0.49606299212598426\n",
      "7 0.5039370078740157\n",
      "8 0.484251968503937\n",
      "9 0.4881889763779528\n",
      "10 0.5196850393700787\n",
      "11 0.5\n",
      "12 0.5\n",
      "13 0.49606299212598426\n",
      "14 0.4881889763779528\n",
      "15 0.5236220472440944\n",
      "16 0.484251968503937\n",
      "17 0.484251968503937\n",
      "18 0.5\n",
      "19 0.484251968503937\n"
     ]
    }
   ],
   "source": [
    "from sklearn.pipeline import Pipeline\n",
    "for n_clusters in k_range:\n",
    "    pipeline = Pipeline([\n",
    "        (\"kmeans\", KMeans(n_clusters=n_clusters, random_state=n_clusters)),\n",
    "        (\"forest_clf\", RandomForestClassifier(n_estimators=500, random_state=42))\n",
    "    ])\n",
    "    pipeline.fit(X_train_scaled, y_train)\n",
    "    print(n_clusters, pipeline.score(X_test_scaled, y_test))"
   ]
  },
  {
   "cell_type": "code",
   "execution_count": 20,
   "metadata": {},
   "outputs": [
    {
     "name": "stdout",
     "output_type": "stream",
     "text": [
      "Fitting 3 folds for each of 97 candidates, totalling 291 fits\n",
      "[CV] kmeans__n_clusters=3 ............................................\n"
     ]
    },
    {
     "name": "stderr",
     "output_type": "stream",
     "text": [
      "[Parallel(n_jobs=1)]: Using backend SequentialBackend with 1 concurrent workers.\n"
     ]
    },
    {
     "name": "stdout",
     "output_type": "stream",
     "text": [
      "[CV] ............................. kmeans__n_clusters=3, total=   2.2s\n",
      "[CV] kmeans__n_clusters=3 ............................................\n"
     ]
    },
    {
     "name": "stderr",
     "output_type": "stream",
     "text": [
      "[Parallel(n_jobs=1)]: Done   1 out of   1 | elapsed:    2.1s remaining:    0.0s\n"
     ]
    },
    {
     "name": "stdout",
     "output_type": "stream",
     "text": [
      "[CV] ............................. kmeans__n_clusters=3, total=   2.1s\n",
      "[CV] kmeans__n_clusters=3 ............................................\n",
      "[CV] ............................. kmeans__n_clusters=3, total=   2.3s\n",
      "[CV] kmeans__n_clusters=4 ............................................\n",
      "[CV] ............................. kmeans__n_clusters=4, total=   2.6s\n",
      "[CV] kmeans__n_clusters=4 ............................................\n",
      "[CV] ............................. kmeans__n_clusters=4, total=   2.7s\n",
      "[CV] kmeans__n_clusters=4 ............................................\n",
      "[CV] ............................. kmeans__n_clusters=4, total=   2.8s\n",
      "[CV] kmeans__n_clusters=5 ............................................\n",
      "[CV] ............................. kmeans__n_clusters=5, total=   2.7s\n",
      "[CV] kmeans__n_clusters=5 ............................................\n",
      "[CV] ............................. kmeans__n_clusters=5, total=   2.6s\n",
      "[CV] kmeans__n_clusters=5 ............................................\n",
      "[CV] ............................. kmeans__n_clusters=5, total=   2.8s\n",
      "[CV] kmeans__n_clusters=6 ............................................\n",
      "[CV] ............................. kmeans__n_clusters=6, total=   2.7s\n",
      "[CV] kmeans__n_clusters=6 ............................................\n",
      "[CV] ............................. kmeans__n_clusters=6, total=   2.8s\n",
      "[CV] kmeans__n_clusters=6 ............................................\n",
      "[CV] ............................. kmeans__n_clusters=6, total=   3.0s\n",
      "[CV] kmeans__n_clusters=7 ............................................\n",
      "[CV] ............................. kmeans__n_clusters=7, total=   3.0s\n",
      "[CV] kmeans__n_clusters=7 ............................................\n",
      "[CV] ............................. kmeans__n_clusters=7, total=   3.2s\n",
      "[CV] kmeans__n_clusters=7 ............................................\n",
      "[CV] ............................. kmeans__n_clusters=7, total=   3.0s\n",
      "[CV] kmeans__n_clusters=8 ............................................\n",
      "[CV] ............................. kmeans__n_clusters=8, total=   2.7s\n",
      "[CV] kmeans__n_clusters=8 ............................................\n",
      "[CV] ............................. kmeans__n_clusters=8, total=   2.7s\n",
      "[CV] kmeans__n_clusters=8 ............................................\n",
      "[CV] ............................. kmeans__n_clusters=8, total=   2.7s\n",
      "[CV] kmeans__n_clusters=9 ............................................\n",
      "[CV] ............................. kmeans__n_clusters=9, total=   3.1s\n",
      "[CV] kmeans__n_clusters=9 ............................................\n",
      "[CV] ............................. kmeans__n_clusters=9, total=   3.4s\n",
      "[CV] kmeans__n_clusters=9 ............................................\n",
      "[CV] ............................. kmeans__n_clusters=9, total=   3.4s\n",
      "[CV] kmeans__n_clusters=10 ...........................................\n",
      "[CV] ............................ kmeans__n_clusters=10, total=   3.1s\n",
      "[CV] kmeans__n_clusters=10 ...........................................\n",
      "[CV] ............................ kmeans__n_clusters=10, total=   3.1s\n",
      "[CV] kmeans__n_clusters=10 ...........................................\n",
      "[CV] ............................ kmeans__n_clusters=10, total=   3.3s\n",
      "[CV] kmeans__n_clusters=11 ...........................................\n",
      "[CV] ............................ kmeans__n_clusters=11, total=   3.3s\n",
      "[CV] kmeans__n_clusters=11 ...........................................\n",
      "[CV] ............................ kmeans__n_clusters=11, total=   3.4s\n",
      "[CV] kmeans__n_clusters=11 ...........................................\n",
      "[CV] ............................ kmeans__n_clusters=11, total=   3.3s\n",
      "[CV] kmeans__n_clusters=12 ...........................................\n",
      "[CV] ............................ kmeans__n_clusters=12, total=   3.2s\n",
      "[CV] kmeans__n_clusters=12 ...........................................\n",
      "[CV] ............................ kmeans__n_clusters=12, total=   3.2s\n",
      "[CV] kmeans__n_clusters=12 ...........................................\n",
      "[CV] ............................ kmeans__n_clusters=12, total=   3.4s\n",
      "[CV] kmeans__n_clusters=13 ...........................................\n",
      "[CV] ............................ kmeans__n_clusters=13, total=   3.2s\n",
      "[CV] kmeans__n_clusters=13 ...........................................\n",
      "[CV] ............................ kmeans__n_clusters=13, total=   3.2s\n",
      "[CV] kmeans__n_clusters=13 ...........................................\n",
      "[CV] ............................ kmeans__n_clusters=13, total=   3.5s\n",
      "[CV] kmeans__n_clusters=14 ...........................................\n",
      "[CV] ............................ kmeans__n_clusters=14, total=   3.2s\n",
      "[CV] kmeans__n_clusters=14 ...........................................\n",
      "[CV] ............................ kmeans__n_clusters=14, total=   3.2s\n",
      "[CV] kmeans__n_clusters=14 ...........................................\n",
      "[CV] ............................ kmeans__n_clusters=14, total=   3.3s\n",
      "[CV] kmeans__n_clusters=15 ...........................................\n",
      "[CV] ............................ kmeans__n_clusters=15, total=   3.2s\n",
      "[CV] kmeans__n_clusters=15 ...........................................\n",
      "[CV] ............................ kmeans__n_clusters=15, total=   3.0s\n",
      "[CV] kmeans__n_clusters=15 ...........................................\n",
      "[CV] ............................ kmeans__n_clusters=15, total=   3.4s\n",
      "[CV] kmeans__n_clusters=16 ...........................................\n",
      "[CV] ............................ kmeans__n_clusters=16, total=   3.7s\n",
      "[CV] kmeans__n_clusters=16 ...........................................\n",
      "[CV] ............................ kmeans__n_clusters=16, total=   3.4s\n",
      "[CV] kmeans__n_clusters=16 ...........................................\n",
      "[CV] ............................ kmeans__n_clusters=16, total=   3.7s\n",
      "[CV] kmeans__n_clusters=17 ...........................................\n",
      "[CV] ............................ kmeans__n_clusters=17, total=   3.1s\n",
      "[CV] kmeans__n_clusters=17 ...........................................\n",
      "[CV] ............................ kmeans__n_clusters=17, total=   3.4s\n",
      "[CV] kmeans__n_clusters=17 ...........................................\n",
      "[CV] ............................ kmeans__n_clusters=17, total=   3.7s\n",
      "[CV] kmeans__n_clusters=18 ...........................................\n",
      "[CV] ............................ kmeans__n_clusters=18, total=   3.6s\n",
      "[CV] kmeans__n_clusters=18 ...........................................\n",
      "[CV] ............................ kmeans__n_clusters=18, total=   3.6s\n",
      "[CV] kmeans__n_clusters=18 ...........................................\n",
      "[CV] ............................ kmeans__n_clusters=18, total=   3.7s\n",
      "[CV] kmeans__n_clusters=19 ...........................................\n",
      "[CV] ............................ kmeans__n_clusters=19, total=   3.6s\n",
      "[CV] kmeans__n_clusters=19 ...........................................\n",
      "[CV] ............................ kmeans__n_clusters=19, total=   3.5s\n",
      "[CV] kmeans__n_clusters=19 ...........................................\n",
      "[CV] ............................ kmeans__n_clusters=19, total=   3.8s\n",
      "[CV] kmeans__n_clusters=20 ...........................................\n",
      "[CV] ............................ kmeans__n_clusters=20, total=   3.6s\n",
      "[CV] kmeans__n_clusters=20 ...........................................\n",
      "[CV] ............................ kmeans__n_clusters=20, total=   3.5s\n",
      "[CV] kmeans__n_clusters=20 ...........................................\n",
      "[CV] ............................ kmeans__n_clusters=20, total=   3.8s\n",
      "[CV] kmeans__n_clusters=21 ...........................................\n",
      "[CV] ............................ kmeans__n_clusters=21, total=   3.8s\n",
      "[CV] kmeans__n_clusters=21 ...........................................\n",
      "[CV] ............................ kmeans__n_clusters=21, total=   4.1s\n",
      "[CV] kmeans__n_clusters=21 ...........................................\n",
      "[CV] ............................ kmeans__n_clusters=21, total=   4.3s\n",
      "[CV] kmeans__n_clusters=22 ...........................................\n",
      "[CV] ............................ kmeans__n_clusters=22, total=   4.0s\n",
      "[CV] kmeans__n_clusters=22 ...........................................\n",
      "[CV] ............................ kmeans__n_clusters=22, total=   3.9s\n",
      "[CV] kmeans__n_clusters=22 ...........................................\n",
      "[CV] ............................ kmeans__n_clusters=22, total=   4.0s\n",
      "[CV] kmeans__n_clusters=23 ...........................................\n",
      "[CV] ............................ kmeans__n_clusters=23, total=   3.8s\n",
      "[CV] kmeans__n_clusters=23 ...........................................\n",
      "[CV] ............................ kmeans__n_clusters=23, total=   3.6s\n",
      "[CV] kmeans__n_clusters=23 ...........................................\n",
      "[CV] ............................ kmeans__n_clusters=23, total=   3.9s\n",
      "[CV] kmeans__n_clusters=24 ...........................................\n",
      "[CV] ............................ kmeans__n_clusters=24, total=   3.8s\n",
      "[CV] kmeans__n_clusters=24 ...........................................\n",
      "[CV] ............................ kmeans__n_clusters=24, total=   3.6s\n",
      "[CV] kmeans__n_clusters=24 ...........................................\n",
      "[CV] ............................ kmeans__n_clusters=24, total=   3.8s\n",
      "[CV] kmeans__n_clusters=25 ...........................................\n",
      "[CV] ............................ kmeans__n_clusters=25, total=   4.4s\n",
      "[CV] kmeans__n_clusters=25 ...........................................\n",
      "[CV] ............................ kmeans__n_clusters=25, total=   4.2s\n",
      "[CV] kmeans__n_clusters=25 ...........................................\n",
      "[CV] ............................ kmeans__n_clusters=25, total=   3.7s\n",
      "[CV] kmeans__n_clusters=26 ...........................................\n",
      "[CV] ............................ kmeans__n_clusters=26, total=   3.9s\n",
      "[CV] kmeans__n_clusters=26 ...........................................\n",
      "[CV] ............................ kmeans__n_clusters=26, total=   4.0s\n",
      "[CV] kmeans__n_clusters=26 ...........................................\n",
      "[CV] ............................ kmeans__n_clusters=26, total=   3.9s\n",
      "[CV] kmeans__n_clusters=27 ...........................................\n",
      "[CV] ............................ kmeans__n_clusters=27, total=   3.7s\n",
      "[CV] kmeans__n_clusters=27 ...........................................\n",
      "[CV] ............................ kmeans__n_clusters=27, total=   4.5s\n",
      "[CV] kmeans__n_clusters=27 ...........................................\n",
      "[CV] ............................ kmeans__n_clusters=27, total=   4.6s\n",
      "[CV] kmeans__n_clusters=28 ...........................................\n",
      "[CV] ............................ kmeans__n_clusters=28, total=   4.2s\n",
      "[CV] kmeans__n_clusters=28 ...........................................\n",
      "[CV] ............................ kmeans__n_clusters=28, total=   4.1s\n",
      "[CV] kmeans__n_clusters=28 ...........................................\n",
      "[CV] ............................ kmeans__n_clusters=28, total=   4.3s\n",
      "[CV] kmeans__n_clusters=29 ...........................................\n",
      "[CV] ............................ kmeans__n_clusters=29, total=   4.2s\n",
      "[CV] kmeans__n_clusters=29 ...........................................\n",
      "[CV] ............................ kmeans__n_clusters=29, total=   4.0s\n",
      "[CV] kmeans__n_clusters=29 ...........................................\n",
      "[CV] ............................ kmeans__n_clusters=29, total=   4.2s\n",
      "[CV] kmeans__n_clusters=30 ...........................................\n",
      "[CV] ............................ kmeans__n_clusters=30, total=   4.1s\n",
      "[CV] kmeans__n_clusters=30 ...........................................\n",
      "[CV] ............................ kmeans__n_clusters=30, total=   4.2s\n",
      "[CV] kmeans__n_clusters=30 ...........................................\n",
      "[CV] ............................ kmeans__n_clusters=30, total=   4.3s\n",
      "[CV] kmeans__n_clusters=31 ...........................................\n",
      "[CV] ............................ kmeans__n_clusters=31, total=   4.2s\n",
      "[CV] kmeans__n_clusters=31 ...........................................\n",
      "[CV] ............................ kmeans__n_clusters=31, total=   4.0s\n",
      "[CV] kmeans__n_clusters=31 ...........................................\n",
      "[CV] ............................ kmeans__n_clusters=31, total=   4.1s\n",
      "[CV] kmeans__n_clusters=32 ...........................................\n",
      "[CV] ............................ kmeans__n_clusters=32, total=   4.1s\n",
      "[CV] kmeans__n_clusters=32 ...........................................\n",
      "[CV] ............................ kmeans__n_clusters=32, total=   4.2s\n",
      "[CV] kmeans__n_clusters=32 ...........................................\n",
      "[CV] ............................ kmeans__n_clusters=32, total=   4.2s\n",
      "[CV] kmeans__n_clusters=33 ...........................................\n",
      "[CV] ............................ kmeans__n_clusters=33, total=   4.1s\n",
      "[CV] kmeans__n_clusters=33 ...........................................\n",
      "[CV] ............................ kmeans__n_clusters=33, total=   4.0s\n",
      "[CV] kmeans__n_clusters=33 ...........................................\n",
      "[CV] ............................ kmeans__n_clusters=33, total=   4.6s\n",
      "[CV] kmeans__n_clusters=34 ...........................................\n",
      "[CV] ............................ kmeans__n_clusters=34, total=   4.3s\n",
      "[CV] kmeans__n_clusters=34 ...........................................\n",
      "[CV] ............................ kmeans__n_clusters=34, total=   4.1s\n",
      "[CV] kmeans__n_clusters=34 ...........................................\n",
      "[CV] ............................ kmeans__n_clusters=34, total=   4.7s\n",
      "[CV] kmeans__n_clusters=35 ...........................................\n",
      "[CV] ............................ kmeans__n_clusters=35, total=   4.4s\n",
      "[CV] kmeans__n_clusters=35 ...........................................\n",
      "[CV] ............................ kmeans__n_clusters=35, total=   4.1s\n",
      "[CV] kmeans__n_clusters=35 ...........................................\n",
      "[CV] ............................ kmeans__n_clusters=35, total=   4.4s\n",
      "[CV] kmeans__n_clusters=36 ...........................................\n",
      "[CV] ............................ kmeans__n_clusters=36, total=   5.0s\n",
      "[CV] kmeans__n_clusters=36 ...........................................\n",
      "[CV] ............................ kmeans__n_clusters=36, total=   4.5s\n",
      "[CV] kmeans__n_clusters=36 ...........................................\n",
      "[CV] ............................ kmeans__n_clusters=36, total=   5.3s\n",
      "[CV] kmeans__n_clusters=37 ...........................................\n",
      "[CV] ............................ kmeans__n_clusters=37, total=   4.6s\n",
      "[CV] kmeans__n_clusters=37 ...........................................\n",
      "[CV] ............................ kmeans__n_clusters=37, total=   4.7s\n",
      "[CV] kmeans__n_clusters=37 ...........................................\n",
      "[CV] ............................ kmeans__n_clusters=37, total=   5.2s\n",
      "[CV] kmeans__n_clusters=38 ...........................................\n",
      "[CV] ............................ kmeans__n_clusters=38, total=   4.5s\n",
      "[CV] kmeans__n_clusters=38 ...........................................\n",
      "[CV] ............................ kmeans__n_clusters=38, total=   5.0s\n",
      "[CV] kmeans__n_clusters=38 ...........................................\n",
      "[CV] ............................ kmeans__n_clusters=38, total=   4.8s\n",
      "[CV] kmeans__n_clusters=39 ...........................................\n",
      "[CV] ............................ kmeans__n_clusters=39, total=   4.6s\n",
      "[CV] kmeans__n_clusters=39 ...........................................\n",
      "[CV] ............................ kmeans__n_clusters=39, total=   4.8s\n",
      "[CV] kmeans__n_clusters=39 ...........................................\n",
      "[CV] ............................ kmeans__n_clusters=39, total=   4.8s\n",
      "[CV] kmeans__n_clusters=40 ...........................................\n",
      "[CV] ............................ kmeans__n_clusters=40, total=   4.6s\n",
      "[CV] kmeans__n_clusters=40 ...........................................\n",
      "[CV] ............................ kmeans__n_clusters=40, total=   4.6s\n",
      "[CV] kmeans__n_clusters=40 ...........................................\n",
      "[CV] ............................ kmeans__n_clusters=40, total=   4.9s\n",
      "[CV] kmeans__n_clusters=41 ...........................................\n",
      "[CV] ............................ kmeans__n_clusters=41, total=   4.7s\n",
      "[CV] kmeans__n_clusters=41 ...........................................\n",
      "[CV] ............................ kmeans__n_clusters=41, total=   4.5s\n",
      "[CV] kmeans__n_clusters=41 ...........................................\n",
      "[CV] ............................ kmeans__n_clusters=41, total=   5.2s\n",
      "[CV] kmeans__n_clusters=42 ...........................................\n",
      "[CV] ............................ kmeans__n_clusters=42, total=   5.1s\n",
      "[CV] kmeans__n_clusters=42 ...........................................\n",
      "[CV] ............................ kmeans__n_clusters=42, total=   4.6s\n",
      "[CV] kmeans__n_clusters=42 ...........................................\n",
      "[CV] ............................ kmeans__n_clusters=42, total=   4.9s\n",
      "[CV] kmeans__n_clusters=43 ...........................................\n",
      "[CV] ............................ kmeans__n_clusters=43, total=   4.9s\n",
      "[CV] kmeans__n_clusters=43 ...........................................\n",
      "[CV] ............................ kmeans__n_clusters=43, total=   5.3s\n",
      "[CV] kmeans__n_clusters=43 ...........................................\n",
      "[CV] ............................ kmeans__n_clusters=43, total=   5.2s\n",
      "[CV] kmeans__n_clusters=44 ...........................................\n",
      "[CV] ............................ kmeans__n_clusters=44, total=   4.7s\n",
      "[CV] kmeans__n_clusters=44 ...........................................\n",
      "[CV] ............................ kmeans__n_clusters=44, total=   4.5s\n",
      "[CV] kmeans__n_clusters=44 ...........................................\n",
      "[CV] ............................ kmeans__n_clusters=44, total=   4.9s\n",
      "[CV] kmeans__n_clusters=45 ...........................................\n",
      "[CV] ............................ kmeans__n_clusters=45, total=   5.4s\n",
      "[CV] kmeans__n_clusters=45 ...........................................\n",
      "[CV] ............................ kmeans__n_clusters=45, total=   4.9s\n",
      "[CV] kmeans__n_clusters=45 ...........................................\n",
      "[CV] ............................ kmeans__n_clusters=45, total=   4.8s\n",
      "[CV] kmeans__n_clusters=46 ...........................................\n",
      "[CV] ............................ kmeans__n_clusters=46, total=   4.6s\n",
      "[CV] kmeans__n_clusters=46 ...........................................\n",
      "[CV] ............................ kmeans__n_clusters=46, total=   4.6s\n",
      "[CV] kmeans__n_clusters=46 ...........................................\n",
      "[CV] ............................ kmeans__n_clusters=46, total=   4.9s\n",
      "[CV] kmeans__n_clusters=47 ...........................................\n",
      "[CV] ............................ kmeans__n_clusters=47, total=   4.1s\n",
      "[CV] kmeans__n_clusters=47 ...........................................\n",
      "[CV] ............................ kmeans__n_clusters=47, total=   6.3s\n",
      "[CV] kmeans__n_clusters=47 ...........................................\n",
      "[CV] ............................ kmeans__n_clusters=47, total=  10.1s\n",
      "[CV] kmeans__n_clusters=48 ...........................................\n",
      "[CV] ............................ kmeans__n_clusters=48, total=   5.8s\n",
      "[CV] kmeans__n_clusters=48 ...........................................\n",
      "[CV] ............................ kmeans__n_clusters=48, total=   7.8s\n",
      "[CV] kmeans__n_clusters=48 ...........................................\n",
      "[CV] ............................ kmeans__n_clusters=48, total=   5.2s\n",
      "[CV] kmeans__n_clusters=49 ...........................................\n",
      "[CV] ............................ kmeans__n_clusters=49, total=   5.4s\n",
      "[CV] kmeans__n_clusters=49 ...........................................\n",
      "[CV] ............................ kmeans__n_clusters=49, total=   5.3s\n",
      "[CV] kmeans__n_clusters=49 ...........................................\n",
      "[CV] ............................ kmeans__n_clusters=49, total=   5.6s\n",
      "[CV] kmeans__n_clusters=50 ...........................................\n",
      "[CV] ............................ kmeans__n_clusters=50, total=   5.5s\n",
      "[CV] kmeans__n_clusters=50 ...........................................\n",
      "[CV] ............................ kmeans__n_clusters=50, total=   5.2s\n",
      "[CV] kmeans__n_clusters=50 ...........................................\n",
      "[CV] ............................ kmeans__n_clusters=50, total=   5.8s\n",
      "[CV] kmeans__n_clusters=51 ...........................................\n",
      "[CV] ............................ kmeans__n_clusters=51, total=   5.4s\n",
      "[CV] kmeans__n_clusters=51 ...........................................\n",
      "[CV] ............................ kmeans__n_clusters=51, total=   5.4s\n",
      "[CV] kmeans__n_clusters=51 ...........................................\n",
      "[CV] ............................ kmeans__n_clusters=51, total=   7.3s\n",
      "[CV] kmeans__n_clusters=52 ...........................................\n",
      "[CV] ............................ kmeans__n_clusters=52, total=   8.9s\n",
      "[CV] kmeans__n_clusters=52 ...........................................\n",
      "[CV] ............................ kmeans__n_clusters=52, total=   9.2s\n",
      "[CV] kmeans__n_clusters=52 ...........................................\n",
      "[CV] ............................ kmeans__n_clusters=52, total=   8.3s\n",
      "[CV] kmeans__n_clusters=53 ...........................................\n",
      "[CV] ............................ kmeans__n_clusters=53, total=   5.5s\n",
      "[CV] kmeans__n_clusters=53 ...........................................\n",
      "[CV] ............................ kmeans__n_clusters=53, total=   6.1s\n",
      "[CV] kmeans__n_clusters=53 ...........................................\n",
      "[CV] ............................ kmeans__n_clusters=53, total=   7.9s\n",
      "[CV] kmeans__n_clusters=54 ...........................................\n",
      "[CV] ............................ kmeans__n_clusters=54, total=   7.4s\n",
      "[CV] kmeans__n_clusters=54 ...........................................\n",
      "[CV] ............................ kmeans__n_clusters=54, total=  10.5s\n",
      "[CV] kmeans__n_clusters=54 ...........................................\n",
      "[CV] ............................ kmeans__n_clusters=54, total=   8.3s\n",
      "[CV] kmeans__n_clusters=55 ...........................................\n",
      "[CV] ............................ kmeans__n_clusters=55, total=   8.8s\n",
      "[CV] kmeans__n_clusters=55 ...........................................\n",
      "[CV] ............................ kmeans__n_clusters=55, total=   6.7s\n",
      "[CV] kmeans__n_clusters=55 ...........................................\n",
      "[CV] ............................ kmeans__n_clusters=55, total=   9.3s\n",
      "[CV] kmeans__n_clusters=56 ...........................................\n",
      "[CV] ............................ kmeans__n_clusters=56, total=  10.0s\n",
      "[CV] kmeans__n_clusters=56 ...........................................\n",
      "[CV] ............................ kmeans__n_clusters=56, total=   8.4s\n",
      "[CV] kmeans__n_clusters=56 ...........................................\n",
      "[CV] ............................ kmeans__n_clusters=56, total=   7.6s\n",
      "[CV] kmeans__n_clusters=57 ...........................................\n",
      "[CV] ............................ kmeans__n_clusters=57, total=   7.0s\n",
      "[CV] kmeans__n_clusters=57 ...........................................\n",
      "[CV] ............................ kmeans__n_clusters=57, total=   5.0s\n",
      "[CV] kmeans__n_clusters=57 ...........................................\n",
      "[CV] ............................ kmeans__n_clusters=57, total=   4.9s\n",
      "[CV] kmeans__n_clusters=58 ...........................................\n",
      "[CV] ............................ kmeans__n_clusters=58, total=   5.4s\n",
      "[CV] kmeans__n_clusters=58 ...........................................\n",
      "[CV] ............................ kmeans__n_clusters=58, total=   5.2s\n",
      "[CV] kmeans__n_clusters=58 ...........................................\n",
      "[CV] ............................ kmeans__n_clusters=58, total=   5.6s\n",
      "[CV] kmeans__n_clusters=59 ...........................................\n",
      "[CV] ............................ kmeans__n_clusters=59, total=   5.2s\n",
      "[CV] kmeans__n_clusters=59 ...........................................\n",
      "[CV] ............................ kmeans__n_clusters=59, total=   8.1s\n",
      "[CV] kmeans__n_clusters=59 ...........................................\n",
      "[CV] ............................ kmeans__n_clusters=59, total=   6.9s\n",
      "[CV] kmeans__n_clusters=60 ...........................................\n",
      "[CV] ............................ kmeans__n_clusters=60, total=   7.2s\n",
      "[CV] kmeans__n_clusters=60 ...........................................\n",
      "[CV] ............................ kmeans__n_clusters=60, total=   6.6s\n",
      "[CV] kmeans__n_clusters=60 ...........................................\n",
      "[CV] ............................ kmeans__n_clusters=60, total=   7.1s\n",
      "[CV] kmeans__n_clusters=61 ...........................................\n",
      "[CV] ............................ kmeans__n_clusters=61, total=   7.3s\n",
      "[CV] kmeans__n_clusters=61 ...........................................\n",
      "[CV] ............................ kmeans__n_clusters=61, total=   7.0s\n",
      "[CV] kmeans__n_clusters=61 ...........................................\n",
      "[CV] ............................ kmeans__n_clusters=61, total=   6.0s\n",
      "[CV] kmeans__n_clusters=62 ...........................................\n",
      "[CV] ............................ kmeans__n_clusters=62, total=   5.7s\n",
      "[CV] kmeans__n_clusters=62 ...........................................\n",
      "[CV] ............................ kmeans__n_clusters=62, total=   6.0s\n",
      "[CV] kmeans__n_clusters=62 ...........................................\n",
      "[CV] ............................ kmeans__n_clusters=62, total=   5.8s\n",
      "[CV] kmeans__n_clusters=63 ...........................................\n",
      "[CV] ............................ kmeans__n_clusters=63, total=   5.5s\n",
      "[CV] kmeans__n_clusters=63 ...........................................\n",
      "[CV] ............................ kmeans__n_clusters=63, total=   5.2s\n",
      "[CV] kmeans__n_clusters=63 ...........................................\n",
      "[CV] ............................ kmeans__n_clusters=63, total=   6.1s\n",
      "[CV] kmeans__n_clusters=64 ...........................................\n",
      "[CV] ............................ kmeans__n_clusters=64, total=   7.3s\n",
      "[CV] kmeans__n_clusters=64 ...........................................\n",
      "[CV] ............................ kmeans__n_clusters=64, total=   8.7s\n",
      "[CV] kmeans__n_clusters=64 ...........................................\n",
      "[CV] ............................ kmeans__n_clusters=64, total=   9.9s\n",
      "[CV] kmeans__n_clusters=65 ...........................................\n",
      "[CV] ............................ kmeans__n_clusters=65, total=   7.0s\n",
      "[CV] kmeans__n_clusters=65 ...........................................\n",
      "[CV] ............................ kmeans__n_clusters=65, total=   6.0s\n",
      "[CV] kmeans__n_clusters=65 ...........................................\n",
      "[CV] ............................ kmeans__n_clusters=65, total=   8.4s\n",
      "[CV] kmeans__n_clusters=66 ...........................................\n",
      "[CV] ............................ kmeans__n_clusters=66, total=   6.4s\n",
      "[CV] kmeans__n_clusters=66 ...........................................\n",
      "[CV] ............................ kmeans__n_clusters=66, total=   4.6s\n",
      "[CV] kmeans__n_clusters=66 ...........................................\n",
      "[CV] ............................ kmeans__n_clusters=66, total=   7.4s\n",
      "[CV] kmeans__n_clusters=67 ...........................................\n",
      "[CV] ............................ kmeans__n_clusters=67, total=   7.5s\n",
      "[CV] kmeans__n_clusters=67 ...........................................\n",
      "[CV] ............................ kmeans__n_clusters=67, total=   6.7s\n",
      "[CV] kmeans__n_clusters=67 ...........................................\n",
      "[CV] ............................ kmeans__n_clusters=67, total=   7.0s\n",
      "[CV] kmeans__n_clusters=68 ...........................................\n",
      "[CV] ............................ kmeans__n_clusters=68, total=   6.5s\n",
      "[CV] kmeans__n_clusters=68 ...........................................\n",
      "[CV] ............................ kmeans__n_clusters=68, total=   6.0s\n",
      "[CV] kmeans__n_clusters=68 ...........................................\n",
      "[CV] ............................ kmeans__n_clusters=68, total=   7.3s\n",
      "[CV] kmeans__n_clusters=69 ...........................................\n",
      "[CV] ............................ kmeans__n_clusters=69, total=   9.1s\n",
      "[CV] kmeans__n_clusters=69 ...........................................\n",
      "[CV] ............................ kmeans__n_clusters=69, total=   8.6s\n",
      "[CV] kmeans__n_clusters=69 ...........................................\n",
      "[CV] ............................ kmeans__n_clusters=69, total=   8.3s\n",
      "[CV] kmeans__n_clusters=70 ...........................................\n",
      "[CV] ............................ kmeans__n_clusters=70, total=   8.2s\n",
      "[CV] kmeans__n_clusters=70 ...........................................\n",
      "[CV] ............................ kmeans__n_clusters=70, total=   9.6s\n",
      "[CV] kmeans__n_clusters=70 ...........................................\n",
      "[CV] ............................ kmeans__n_clusters=70, total=   9.2s\n",
      "[CV] kmeans__n_clusters=71 ...........................................\n",
      "[CV] ............................ kmeans__n_clusters=71, total=   9.9s\n",
      "[CV] kmeans__n_clusters=71 ...........................................\n",
      "[CV] ............................ kmeans__n_clusters=71, total=   9.4s\n",
      "[CV] kmeans__n_clusters=71 ...........................................\n",
      "[CV] ............................ kmeans__n_clusters=71, total=   9.2s\n",
      "[CV] kmeans__n_clusters=72 ...........................................\n",
      "[CV] ............................ kmeans__n_clusters=72, total=   5.9s\n",
      "[CV] kmeans__n_clusters=72 ...........................................\n",
      "[CV] ............................ kmeans__n_clusters=72, total=   9.8s\n",
      "[CV] kmeans__n_clusters=72 ...........................................\n",
      "[CV] ............................ kmeans__n_clusters=72, total=   8.5s\n",
      "[CV] kmeans__n_clusters=73 ...........................................\n",
      "[CV] ............................ kmeans__n_clusters=73, total=  10.1s\n",
      "[CV] kmeans__n_clusters=73 ...........................................\n",
      "[CV] ............................ kmeans__n_clusters=73, total=   9.9s\n",
      "[CV] kmeans__n_clusters=73 ...........................................\n",
      "[CV] ............................ kmeans__n_clusters=73, total=   9.4s\n",
      "[CV] kmeans__n_clusters=74 ...........................................\n",
      "[CV] ............................ kmeans__n_clusters=74, total=   5.7s\n",
      "[CV] kmeans__n_clusters=74 ...........................................\n",
      "[CV] ............................ kmeans__n_clusters=74, total=   5.8s\n",
      "[CV] kmeans__n_clusters=74 ...........................................\n",
      "[CV] ............................ kmeans__n_clusters=74, total=   7.6s\n",
      "[CV] kmeans__n_clusters=75 ...........................................\n",
      "[CV] ............................ kmeans__n_clusters=75, total=   7.0s\n",
      "[CV] kmeans__n_clusters=75 ...........................................\n",
      "[CV] ............................ kmeans__n_clusters=75, total=   6.8s\n",
      "[CV] kmeans__n_clusters=75 ...........................................\n",
      "[CV] ............................ kmeans__n_clusters=75, total=   6.9s\n",
      "[CV] kmeans__n_clusters=76 ...........................................\n",
      "[CV] ............................ kmeans__n_clusters=76, total=   8.3s\n",
      "[CV] kmeans__n_clusters=76 ...........................................\n",
      "[CV] ............................ kmeans__n_clusters=76, total=   6.5s\n",
      "[CV] kmeans__n_clusters=76 ...........................................\n",
      "[CV] ............................ kmeans__n_clusters=76, total=   6.2s\n",
      "[CV] kmeans__n_clusters=77 ...........................................\n",
      "[CV] ............................ kmeans__n_clusters=77, total=   5.7s\n",
      "[CV] kmeans__n_clusters=77 ...........................................\n",
      "[CV] ............................ kmeans__n_clusters=77, total=   7.2s\n",
      "[CV] kmeans__n_clusters=77 ...........................................\n",
      "[CV] ............................ kmeans__n_clusters=77, total=  10.5s\n",
      "[CV] kmeans__n_clusters=78 ...........................................\n",
      "[CV] ............................ kmeans__n_clusters=78, total=   6.0s\n",
      "[CV] kmeans__n_clusters=78 ...........................................\n",
      "[CV] ............................ kmeans__n_clusters=78, total=   5.9s\n",
      "[CV] kmeans__n_clusters=78 ...........................................\n",
      "[CV] ............................ kmeans__n_clusters=78, total=   6.3s\n",
      "[CV] kmeans__n_clusters=79 ...........................................\n",
      "[CV] ............................ kmeans__n_clusters=79, total=   9.0s\n",
      "[CV] kmeans__n_clusters=79 ...........................................\n",
      "[CV] ............................ kmeans__n_clusters=79, total=   6.4s\n",
      "[CV] kmeans__n_clusters=79 ...........................................\n",
      "[CV] ............................ kmeans__n_clusters=79, total=   7.4s\n",
      "[CV] kmeans__n_clusters=80 ...........................................\n",
      "[CV] ............................ kmeans__n_clusters=80, total=   6.1s\n",
      "[CV] kmeans__n_clusters=80 ...........................................\n",
      "[CV] ............................ kmeans__n_clusters=80, total=   6.3s\n",
      "[CV] kmeans__n_clusters=80 ...........................................\n",
      "[CV] ............................ kmeans__n_clusters=80, total=   8.6s\n",
      "[CV] kmeans__n_clusters=81 ...........................................\n",
      "[CV] ............................ kmeans__n_clusters=81, total=   7.8s\n",
      "[CV] kmeans__n_clusters=81 ...........................................\n",
      "[CV] ............................ kmeans__n_clusters=81, total=   8.7s\n",
      "[CV] kmeans__n_clusters=81 ...........................................\n",
      "[CV] ............................ kmeans__n_clusters=81, total=   9.3s\n",
      "[CV] kmeans__n_clusters=82 ...........................................\n",
      "[CV] ............................ kmeans__n_clusters=82, total=   8.9s\n",
      "[CV] kmeans__n_clusters=82 ...........................................\n",
      "[CV] ............................ kmeans__n_clusters=82, total=   8.8s\n",
      "[CV] kmeans__n_clusters=82 ...........................................\n",
      "[CV] ............................ kmeans__n_clusters=82, total=   9.3s\n",
      "[CV] kmeans__n_clusters=83 ...........................................\n",
      "[CV] ............................ kmeans__n_clusters=83, total=   8.2s\n",
      "[CV] kmeans__n_clusters=83 ...........................................\n",
      "[CV] ............................ kmeans__n_clusters=83, total=   7.6s\n",
      "[CV] kmeans__n_clusters=83 ...........................................\n",
      "[CV] ............................ kmeans__n_clusters=83, total=   9.3s\n",
      "[CV] kmeans__n_clusters=84 ...........................................\n",
      "[CV] ............................ kmeans__n_clusters=84, total=   8.5s\n",
      "[CV] kmeans__n_clusters=84 ...........................................\n",
      "[CV] ............................ kmeans__n_clusters=84, total=   7.8s\n",
      "[CV] kmeans__n_clusters=84 ...........................................\n",
      "[CV] ............................ kmeans__n_clusters=84, total=   8.6s\n",
      "[CV] kmeans__n_clusters=85 ...........................................\n",
      "[CV] ............................ kmeans__n_clusters=85, total=   8.3s\n",
      "[CV] kmeans__n_clusters=85 ...........................................\n",
      "[CV] ............................ kmeans__n_clusters=85, total=   9.0s\n",
      "[CV] kmeans__n_clusters=85 ...........................................\n",
      "[CV] ............................ kmeans__n_clusters=85, total=   9.4s\n",
      "[CV] kmeans__n_clusters=86 ...........................................\n",
      "[CV] ............................ kmeans__n_clusters=86, total=   7.8s\n",
      "[CV] kmeans__n_clusters=86 ...........................................\n",
      "[CV] ............................ kmeans__n_clusters=86, total=   7.7s\n",
      "[CV] kmeans__n_clusters=86 ...........................................\n",
      "[CV] ............................ kmeans__n_clusters=86, total=   8.0s\n",
      "[CV] kmeans__n_clusters=87 ...........................................\n",
      "[CV] ............................ kmeans__n_clusters=87, total=   7.8s\n",
      "[CV] kmeans__n_clusters=87 ...........................................\n",
      "[CV] ............................ kmeans__n_clusters=87, total=   7.6s\n",
      "[CV] kmeans__n_clusters=87 ...........................................\n",
      "[CV] ............................ kmeans__n_clusters=87, total=   7.4s\n",
      "[CV] kmeans__n_clusters=88 ...........................................\n",
      "[CV] ............................ kmeans__n_clusters=88, total=   6.7s\n",
      "[CV] kmeans__n_clusters=88 ...........................................\n",
      "[CV] ............................ kmeans__n_clusters=88, total=   6.3s\n",
      "[CV] kmeans__n_clusters=88 ...........................................\n",
      "[CV] ............................ kmeans__n_clusters=88, total=   8.0s\n",
      "[CV] kmeans__n_clusters=89 ...........................................\n",
      "[CV] ............................ kmeans__n_clusters=89, total=   7.0s\n",
      "[CV] kmeans__n_clusters=89 ...........................................\n",
      "[CV] ............................ kmeans__n_clusters=89, total=   7.5s\n",
      "[CV] kmeans__n_clusters=89 ...........................................\n",
      "[CV] ............................ kmeans__n_clusters=89, total=   8.0s\n",
      "[CV] kmeans__n_clusters=90 ...........................................\n",
      "[CV] ............................ kmeans__n_clusters=90, total=   7.8s\n",
      "[CV] kmeans__n_clusters=90 ...........................................\n",
      "[CV] ............................ kmeans__n_clusters=90, total=   7.3s\n",
      "[CV] kmeans__n_clusters=90 ...........................................\n",
      "[CV] ............................ kmeans__n_clusters=90, total=   6.4s\n",
      "[CV] kmeans__n_clusters=91 ...........................................\n",
      "[CV] ............................ kmeans__n_clusters=91, total=   6.1s\n",
      "[CV] kmeans__n_clusters=91 ...........................................\n",
      "[CV] ............................ kmeans__n_clusters=91, total=   6.6s\n",
      "[CV] kmeans__n_clusters=91 ...........................................\n",
      "[CV] ............................ kmeans__n_clusters=91, total=   6.3s\n",
      "[CV] kmeans__n_clusters=92 ...........................................\n",
      "[CV] ............................ kmeans__n_clusters=92, total=   6.4s\n",
      "[CV] kmeans__n_clusters=92 ...........................................\n",
      "[CV] ............................ kmeans__n_clusters=92, total=   7.5s\n",
      "[CV] kmeans__n_clusters=92 ...........................................\n",
      "[CV] ............................ kmeans__n_clusters=92, total=   7.4s\n",
      "[CV] kmeans__n_clusters=93 ...........................................\n",
      "[CV] ............................ kmeans__n_clusters=93, total=   7.0s\n",
      "[CV] kmeans__n_clusters=93 ...........................................\n",
      "[CV] ............................ kmeans__n_clusters=93, total=   6.7s\n",
      "[CV] kmeans__n_clusters=93 ...........................................\n",
      "[CV] ............................ kmeans__n_clusters=93, total=   7.2s\n",
      "[CV] kmeans__n_clusters=94 ...........................................\n",
      "[CV] ............................ kmeans__n_clusters=94, total=   8.3s\n",
      "[CV] kmeans__n_clusters=94 ...........................................\n",
      "[CV] ............................ kmeans__n_clusters=94, total=   8.1s\n",
      "[CV] kmeans__n_clusters=94 ...........................................\n",
      "[CV] ............................ kmeans__n_clusters=94, total=   8.6s\n",
      "[CV] kmeans__n_clusters=95 ...........................................\n",
      "[CV] ............................ kmeans__n_clusters=95, total=   9.8s\n",
      "[CV] kmeans__n_clusters=95 ...........................................\n",
      "[CV] ............................ kmeans__n_clusters=95, total=   9.2s\n",
      "[CV] kmeans__n_clusters=95 ...........................................\n",
      "[CV] ............................ kmeans__n_clusters=95, total=  10.3s\n",
      "[CV] kmeans__n_clusters=96 ...........................................\n",
      "[CV] ............................ kmeans__n_clusters=96, total=   7.7s\n",
      "[CV] kmeans__n_clusters=96 ...........................................\n",
      "[CV] ............................ kmeans__n_clusters=96, total=   8.5s\n",
      "[CV] kmeans__n_clusters=96 ...........................................\n",
      "[CV] ............................ kmeans__n_clusters=96, total=   8.7s\n",
      "[CV] kmeans__n_clusters=97 ...........................................\n",
      "[CV] ............................ kmeans__n_clusters=97, total=   7.4s\n",
      "[CV] kmeans__n_clusters=97 ...........................................\n",
      "[CV] ............................ kmeans__n_clusters=97, total=   8.0s\n",
      "[CV] kmeans__n_clusters=97 ...........................................\n",
      "[CV] ............................ kmeans__n_clusters=97, total=  11.0s\n",
      "[CV] kmeans__n_clusters=98 ...........................................\n",
      "[CV] ............................ kmeans__n_clusters=98, total=  10.0s\n",
      "[CV] kmeans__n_clusters=98 ...........................................\n",
      "[CV] ............................ kmeans__n_clusters=98, total=   8.2s\n",
      "[CV] kmeans__n_clusters=98 ...........................................\n",
      "[CV] ............................ kmeans__n_clusters=98, total=   8.0s\n",
      "[CV] kmeans__n_clusters=99 ...........................................\n",
      "[CV] ............................ kmeans__n_clusters=99, total=   8.4s\n",
      "[CV] kmeans__n_clusters=99 ...........................................\n",
      "[CV] ............................ kmeans__n_clusters=99, total=   7.6s\n",
      "[CV] kmeans__n_clusters=99 ...........................................\n",
      "[CV] ............................ kmeans__n_clusters=99, total=   7.9s\n"
     ]
    },
    {
     "name": "stderr",
     "output_type": "stream",
     "text": [
      "[Parallel(n_jobs=1)]: Done 291 out of 291 | elapsed: 28.4min finished\n"
     ]
    },
    {
     "data": {
      "text/plain": [
       "GridSearchCV(cv=3, error_score='raise-deprecating',\n",
       "             estimator=Pipeline(memory=None,\n",
       "                                steps=[('kmeans',\n",
       "                                        KMeans(algorithm='auto', copy_x=True,\n",
       "                                               init='k-means++', max_iter=300,\n",
       "                                               n_clusters=19, n_init=10,\n",
       "                                               n_jobs=None,\n",
       "                                               precompute_distances='auto',\n",
       "                                               random_state=19, tol=0.0001,\n",
       "                                               verbose=0)),\n",
       "                                       ('forest_clf',\n",
       "                                        RandomForestClassifier(bootstrap=True,\n",
       "                                                               class_weight=None,\n",
       "                                                               criterion='gi...\n",
       "                                                               min_impurity_split=None,\n",
       "                                                               min_samples_leaf=1,\n",
       "                                                               min_samples_split=2,\n",
       "                                                               min_weight_fraction_leaf=0.0,\n",
       "                                                               n_estimators=500,\n",
       "                                                               n_jobs=None,\n",
       "                                                               oob_score=False,\n",
       "                                                               random_state=42,\n",
       "                                                               verbose=0,\n",
       "                                                               warm_start=False))],\n",
       "                                verbose=False),\n",
       "             iid='warn', n_jobs=None,\n",
       "             param_grid={'kmeans__n_clusters': range(3, 100)},\n",
       "             pre_dispatch='2*n_jobs', refit=True, return_train_score=False,\n",
       "             scoring=None, verbose=2)"
      ]
     },
     "execution_count": 20,
     "metadata": {},
     "output_type": "execute_result"
    }
   ],
   "source": [
    "from sklearn.model_selection import GridSearchCV\n",
    "param_grid = dict(kmeans__n_clusters=range(3, 100))\n",
    "grid_clf = GridSearchCV(pipeline, param_grid, cv=3, verbose=2)\n",
    "grid_clf.fit(X_train_scaled, y_train)"
   ]
  },
  {
   "cell_type": "code",
   "execution_count": 24,
   "metadata": {},
   "outputs": [
    {
     "name": "stdout",
     "output_type": "stream",
     "text": [
      "{'kmeans__n_clusters': 96}\n",
      "0.49606299212598426\n"
     ]
    }
   ],
   "source": [
    "print(grid_clf.best_params_)\n",
    "print(grid_clf.score(X_test_scaled, y_test))"
   ]
  },
  {
   "cell_type": "markdown",
   "metadata": {},
   "source": [
    "### Breakdown the y label (y_train) to predict volatility level (y_train1) and direction of price change (y_train2) sepearately (df9)"
   ]
  },
  {
   "cell_type": "code",
   "execution_count": 17,
   "metadata": {},
   "outputs": [
    {
     "name": "stdout",
     "output_type": "stream",
     "text": [
      "volatility level with k= 3 0.952755905511811\n",
      "direction of price change with k= 3 0.5118110236220472\n",
      "volatility level with k= 4 0.9448818897637795\n",
      "direction of price change with k= 4 0.5078740157480315\n",
      "volatility level with k= 5 0.9488188976377953\n",
      "direction of price change with k= 5 0.515748031496063\n",
      "volatility level with k= 6 0.952755905511811\n",
      "direction of price change with k= 6 0.5118110236220472\n",
      "volatility level with k= 7 0.9488188976377953\n",
      "direction of price change with k= 7 0.5\n",
      "volatility level with k= 8 0.952755905511811\n",
      "direction of price change with k= 8 0.484251968503937\n",
      "volatility level with k= 9 0.952755905511811\n",
      "direction of price change with k= 9 0.5\n",
      "volatility level with k= 10 0.952755905511811\n",
      "direction of price change with k= 10 0.5078740157480315\n",
      "volatility level with k= 11 0.952755905511811\n",
      "direction of price change with k= 11 0.5275590551181102\n",
      "volatility level with k= 12 0.952755905511811\n",
      "direction of price change with k= 12 0.5\n",
      "volatility level with k= 13 0.952755905511811\n",
      "direction of price change with k= 13 0.5236220472440944\n",
      "volatility level with k= 14 0.952755905511811\n",
      "direction of price change with k= 14 0.515748031496063\n",
      "volatility level with k= 15 0.952755905511811\n",
      "direction of price change with k= 15 0.5039370078740157\n",
      "volatility level with k= 16 0.9488188976377953\n",
      "direction of price change with k= 16 0.5078740157480315\n",
      "volatility level with k= 17 0.952755905511811\n",
      "direction of price change with k= 17 0.49606299212598426\n",
      "volatility level with k= 18 0.952755905511811\n",
      "direction of price change with k= 18 0.5078740157480315\n",
      "volatility level with k= 19 0.9488188976377953\n",
      "direction of price change with k= 19 0.4881889763779528\n"
     ]
    }
   ],
   "source": [
    "for n_clusters in k_range:\n",
    "    pipeline = Pipeline([\n",
    "        (\"kmeans\", KMeans(n_clusters=n_clusters, random_state=n_clusters)),\n",
    "        (\"forest_clf\", RandomForestClassifier(n_estimators=500, random_state=42))\n",
    "    ])\n",
    "    pipeline.fit(X_train_scaled, y_train1)\n",
    "    print(\"volatility level with k=\",n_clusters, pipeline.score(X_test_scaled, y_test1))\n",
    "    pipeline.fit(X_train_scaled, y_train2)\n",
    "    print(\"direction of price change with k=\", n_clusters, pipeline.score(X_test_scaled, y_test2))"
   ]
  },
  {
   "cell_type": "markdown",
   "metadata": {},
   "source": [
    "## Algorithm 2 : XGB Classifier\n",
    "* Zurui Chen"
   ]
  },
  {
   "cell_type": "code",
   "execution_count": 174,
   "metadata": {},
   "outputs": [
    {
     "name": "stdout",
     "output_type": "stream",
     "text": [
      "[0]\tvalidation_0-merror:0.44853\n",
      "Will train until validation_0-merror hasn't improved in 5 rounds.\n",
      "[1]\tvalidation_0-merror:0.47549\n",
      "[2]\tvalidation_0-merror:0.45588\n",
      "[3]\tvalidation_0-merror:0.45833\n",
      "[4]\tvalidation_0-merror:0.44118\n",
      "[5]\tvalidation_0-merror:0.44853\n",
      "[6]\tvalidation_0-merror:0.46078\n",
      "[7]\tvalidation_0-merror:0.45833\n",
      "[8]\tvalidation_0-merror:0.45343\n",
      "[9]\tvalidation_0-merror:0.44608\n",
      "Stopping. Best iteration:\n",
      "[4]\tvalidation_0-merror:0.44118\n",
      "\n"
     ]
    },
    {
     "data": {
      "text/plain": [
       "XGBClassifier(base_score=0.5, booster='gbtree', colsample_bylevel=1,\n",
       "              colsample_bynode=1, colsample_bytree=1, eta=0.5, gamma=0,\n",
       "              gpu_id=-1, importance_type='gain', interaction_constraints='',\n",
       "              learning_rate=0.5, max_delta_step=0, max_depth=5,\n",
       "              min_child_weight=1, missing=nan, monotone_constraints='()',\n",
       "              n_estimators=100, n_jobs=0, num_parallel_tree=1,\n",
       "              objective='multi:softprob', random_state=42, reg_alpha=0,\n",
       "              reg_lambda=1, scale_pos_weight=None, subsample=1,\n",
       "              tree_method='exact', validate_parameters=1, verbosity=None)"
      ]
     },
     "execution_count": 174,
     "metadata": {},
     "output_type": "execute_result"
    }
   ],
   "source": [
    "## Predict Volatility\n",
    "xgb = XGBClassifier(eta=0.5,max_depth = 5,objective='multi:softprob',random_state=42) ###gradient boost tree, multiclass\n",
    "xgb.fit(X_train_scaled[:1000], y_train[:1000],\n",
    "        eval_set=[(X_train_scaled[1000:], y_train[1000:])], early_stopping_rounds=5)"
   ]
  },
  {
   "cell_type": "code",
   "execution_count": 175,
   "metadata": {},
   "outputs": [
    {
     "data": {
      "text/plain": [
       "0.48725212464589235"
      ]
     },
     "execution_count": 175,
     "metadata": {},
     "output_type": "execute_result"
    }
   ],
   "source": [
    "## report accuracy in test set\n",
    "y_pred = xgb.predict(X_test_scaled)\n",
    "accuracy_score(y_pred, y_test)"
   ]
  },
  {
   "cell_type": "markdown",
   "metadata": {},
   "source": [
    "### Hyperparameter tuning by using GridSearch, adding lambda for regularization to deal with overfitting."
   ]
  },
  {
   "cell_type": "code",
   "execution_count": 181,
   "metadata": {},
   "outputs": [
    {
     "name": "stderr",
     "output_type": "stream",
     "text": [
      "C:\\programming\\anaconda\\lib\\site-packages\\sklearn\\model_selection\\_split.py:667: UserWarning: The least populated class in y has only 1 members, which is less than n_splits=3.\n",
      "  % (min_groups, self.n_splits)), UserWarning)\n"
     ]
    },
    {
     "data": {
      "text/plain": [
       "GridSearchCV(cv=3, error_score=nan,\n",
       "             estimator=XGBClassifier(base_score=None, booster=None,\n",
       "                                     colsample_bylevel=None,\n",
       "                                     colsample_bynode=None,\n",
       "                                     colsample_bytree=None, gamma=None,\n",
       "                                     gpu_id=None, importance_type='gain',\n",
       "                                     interaction_constraints=None,\n",
       "                                     learning_rate=None, max_delta_step=None,\n",
       "                                     max_depth=None, min_child_weight=None,\n",
       "                                     missing=nan, monotone_constraints=None,\n",
       "                                     n_estim...\n",
       "                                     subsample=None, tree_method=None,\n",
       "                                     validate_parameters=None, verbosity=None),\n",
       "             iid='deprecated', n_jobs=-1,\n",
       "             param_grid={'eta': [0.1, 0.2, 0.3, 0.4, 0.5, 0.6, 0.8],\n",
       "                         'max_depth': [4, 5, 6, 7, 8],\n",
       "                         'min_child_weight': [0.2, 0.5, 1, 1.5, 2, 3],\n",
       "                         'reg_alpha': [0.001, 0.01, 0.1, 1, 10, 100],\n",
       "                         'reg_lambda': [0.01, 0.1, 0.5, 1, 1.5, 2, 10]},\n",
       "             pre_dispatch='2*n_jobs', refit=True, return_train_score=False,\n",
       "             scoring='accuracy', verbose=0)"
      ]
     },
     "execution_count": 181,
     "metadata": {},
     "output_type": "execute_result"
    }
   ],
   "source": [
    "from sklearn.model_selection import GridSearchCV\n",
    "param = {'max_depth': [4,5,6,7,8], \n",
    "         'eta': [0.1,0.2,0.3,0.4,0.5,0.6,0.8],\n",
    "         'min_child_weight':[0.2,0.5,1,1.5,2,3],\n",
    "         'reg_lambda':[0.01,0.1,0.5,1,1.5,2,10],\n",
    "         'reg_alpha':[1e-3, 1e-2, 0.1, 1, 10, 100],\n",
    "        }\n",
    "grid_search_1 = GridSearchCV(XGBClassifier(objective='multi:softprob'), param_grid = param, scoring='accuracy',n_jobs=-1,cv=3)\n",
    "grid_search_1.fit(X_train_scaled, y_train)"
   ]
  },
  {
   "cell_type": "code",
   "execution_count": 182,
   "metadata": {},
   "outputs": [
    {
     "data": {
      "text/plain": [
       "0.5255666953983879"
      ]
     },
     "execution_count": 182,
     "metadata": {},
     "output_type": "execute_result"
    }
   ],
   "source": [
    "best_score = grid_search_1.best_score_\n",
    "best_score"
   ]
  },
  {
   "cell_type": "code",
   "execution_count": 183,
   "metadata": {},
   "outputs": [
    {
     "data": {
      "text/plain": [
       "{'eta': 0.1,\n",
       " 'max_depth': 4,\n",
       " 'min_child_weight': 2,\n",
       " 'reg_alpha': 100,\n",
       " 'reg_lambda': 10}"
      ]
     },
     "execution_count": 183,
     "metadata": {},
     "output_type": "execute_result"
    }
   ],
   "source": [
    "best_model = grid_search_1.best_params_\n",
    "best_model"
   ]
  },
  {
   "cell_type": "markdown",
   "metadata": {},
   "source": [
    "#### Implement the fine-tuned hyperparameter to fit the XGB Classifier"
   ]
  },
  {
   "cell_type": "code",
   "execution_count": 186,
   "metadata": {},
   "outputs": [
    {
     "name": "stdout",
     "output_type": "stream",
     "text": [
      "[0]\tvalidation_0-merror:0.46324\n",
      "Will train until validation_0-merror hasn't improved in 5 rounds.\n",
      "[1]\tvalidation_0-merror:0.45588\n",
      "[2]\tvalidation_0-merror:0.45588\n",
      "[3]\tvalidation_0-merror:0.45588\n",
      "[4]\tvalidation_0-merror:0.45098\n",
      "[5]\tvalidation_0-merror:0.44853\n",
      "[6]\tvalidation_0-merror:0.44853\n",
      "[7]\tvalidation_0-merror:0.45343\n",
      "[8]\tvalidation_0-merror:0.45098\n",
      "[9]\tvalidation_0-merror:0.45098\n",
      "[10]\tvalidation_0-merror:0.45098\n",
      "Stopping. Best iteration:\n",
      "[5]\tvalidation_0-merror:0.44853\n",
      "\n"
     ]
    },
    {
     "data": {
      "text/plain": [
       "XGBClassifier(base_score=0.5, booster='gbtree', colsample_bylevel=1,\n",
       "              colsample_bynode=1, colsample_bytree=1, eta=0.1, gamma=0,\n",
       "              gpu_id=-1, importance_type='gain', interaction_constraints='',\n",
       "              learning_rate=0.100000001, max_delta_step=0, max_depth=4,\n",
       "              min_child_weight=2, missing=nan, monotone_constraints='()',\n",
       "              n_estimators=100, n_jobs=0, num_parallel_tree=1,\n",
       "              objective='multi:softprob', random_state=42, reg_alpha=100,\n",
       "              reg_lambda=10, scale_pos_weight=None, subsample=1,\n",
       "              tree_method='exact', validate_parameters=1, verbosity=None)"
      ]
     },
     "execution_count": 186,
     "metadata": {},
     "output_type": "execute_result"
    }
   ],
   "source": [
    "XGB = XGBClassifier(eta=0.1,max_depth = 4,objective='multi:softprob', \n",
    "                    min_child_weight= 2,reg_alpha = 100,reg_lambda = 10, random_state=42) ###gradient boost tree, multiclass\n",
    "XGB.fit(X_train_scaled[:1000], y_train[:1000],\n",
    "        eval_set=[(X_train_scaled[1000:], y_train[1000:])], early_stopping_rounds=5)\n"
   ]
  },
  {
   "cell_type": "code",
   "execution_count": 187,
   "metadata": {},
   "outputs": [
    {
     "data": {
      "text/plain": [
       "0.5184135977337111"
      ]
     },
     "execution_count": 187,
     "metadata": {},
     "output_type": "execute_result"
    }
   ],
   "source": [
    "y_prediction = XGB.predict(X_test_scaled)\n",
    "accuracy_score(y_prediction, y_test)"
   ]
  },
  {
   "cell_type": "markdown",
   "metadata": {},
   "source": [
    "#### They accuracy improves."
   ]
  },
  {
   "cell_type": "code",
   "execution_count": 196,
   "metadata": {},
   "outputs": [
    {
     "name": "stderr",
     "output_type": "stream",
     "text": [
      "C:\\programming\\anaconda\\lib\\site-packages\\sklearn\\model_selection\\_split.py:667: UserWarning: The least populated class in y has only 1 members, which is less than n_splits=3.\n",
      "  % (min_groups, self.n_splits)), UserWarning)\n"
     ]
    },
    {
     "data": {
      "image/png": "[encoded data removed]",
      "text/plain": [
       "<Figure size 864x576 with 1 Axes>"
      ]
     },
     "metadata": {
      "needs_background": "light"
     },
     "output_type": "display_data"
    }
   ],
   "source": [
    "from sklearn.model_selection import learning_curve\n",
    "\n",
    "train_sizes, train_scores, test_scores = learning_curve(XGB, X_train_scaled, y_train,cv =3, scoring='accuracy', n_jobs=-1, \n",
    "                                               # 50 different sizes of the training set\n",
    "                                               train_sizes=np.linspace(0.01, 0.2, 10))\n",
    "    \n",
    "# Create means and standard deviations of training set scores\n",
    "train_mean = np.mean(train_scores, axis=1)\n",
    "train_std = np.std(train_scores, axis=1)    \n",
    "# Create means and standard deviations of test set scores\n",
    "test_mean = np.mean(test_scores, axis=1)\n",
    "test_std = np.std(test_scores, axis=1) \n",
    " # Draw lines\n",
    "plt.subplots(figsize=(12,8))\n",
    "plt.plot(train_sizes, train_mean, '--', color=\"blue\",  label=\"Training score\")\n",
    "plt.plot(train_sizes, test_mean, color=\"red\", label=\"Cross-validation score\")\n",
    "# Draw bands\n",
    "plt.fill_between(train_sizes, train_mean - train_std, train_mean + train_std, color=\"#DDDDDD\")\n",
    "plt.fill_between(train_sizes, test_mean - test_std, test_mean + test_std, color=\"#DDDDDD\")\n",
    "# Create plot\n",
    "plt.title(\"Learning Curve\")\n",
    "plt.xlabel(\"Training Set Size\"), plt.ylabel(\"Accuracy Score\"), plt.legend(loc=\"best\")\n",
    "plt.tight_layout(); plt.show()"
   ]
  },
  {
   "cell_type": "markdown",
   "metadata": {},
   "source": [
    "#### The learning curve tends to flatten out as the trianing size increase."
   ]
  },
  {
   "cell_type": "code",
   "execution_count": 267,
   "metadata": {},
   "outputs": [
    {
     "data": {
      "text/plain": [
       "<matplotlib.legend.Legend at 0x162fa0ccf60>"
      ]
     },
     "execution_count": 267,
     "metadata": {},
     "output_type": "execute_result"
    },
    {
     "data": {
      "image/png": "[encoded data removed]",
      "text/plain": [
       "<Figure size 864x576 with 1 Axes>"
      ]
     },
     "metadata": {
      "needs_background": "light"
     },
     "output_type": "display_data"
    }
   ],
   "source": [
    "## test set\n",
    "model_1 = XGB ## tuning the parameter\n",
    "eval_set = [(X_train_scaled, y_train), (X_test_scaled, y_test)]\n",
    "model_1.fit(X_train_scaled, y_train, eval_metric=[\"merror\", \"mlogloss\"], eval_set=eval_set, verbose=False)\n",
    "\n",
    "# retrieve performance metrics\n",
    "results_1 = model_1.evals_result()\n",
    "epochs = len(results_1['validation_0']['merror'])\n",
    "x_axis = range(0, epochs)\n",
    "# plot log loss\n",
    "fig, ax = pyplot.subplots(figsize=(12,8))\n",
    "ax.plot(x_axis, results_1['validation_0']['mlogloss'], label='Train') ## mlogloss – Multiclass negative log-likelihood\n",
    "ax.plot(x_axis, results_1['validation_1']['mlogloss'], label='Test')\n",
    "pyplot.ylabel('Log Loss')\n",
    "pyplot.title('XGBoost Learning Curve Log Loss')\n",
    "ax.legend()"
   ]
  },
  {
   "cell_type": "code",
   "execution_count": 199,
   "metadata": {
    "scrolled": true
   },
   "outputs": [
    {
     "data": {
      "image/png": "[encoded data removed]",
      "text/plain": [
       "<Figure size 864x576 with 1 Axes>"
      ]
     },
     "metadata": {
      "needs_background": "light"
     },
     "output_type": "display_data"
    }
   ],
   "source": [
    "fig, ax = pyplot.subplots(figsize=(12,8))\n",
    "ax.plot(x_axis, results_1['validation_0']['merror'], label='Train')\n",
    "ax.plot(x_axis, results_1['validation_1']['merror'], label='Test')\n",
    "pyplot.ylabel('Classification Error')\n",
    "pyplot.title('XGBoost Classification Error')\n",
    "ax.legend()\n",
    "plt.ylim(0.2,0.8)\n",
    "plt.show()"
   ]
  },
  {
   "cell_type": "markdown",
   "metadata": {},
   "source": [
    "#### The classification error has around 50% for the testing set, which indicates limitation in accuracy for prediction. While the learning curve with the mlogloss (Multiclass negative log-likelihood) still indicates slightly overfit, which sugguest it to be an less ideal model."
   ]
  },
  {
   "cell_type": "code",
   "execution_count": 50,
   "metadata": {},
   "outputs": [
    {
     "name": "stdout",
     "output_type": "stream",
     "text": [
      "In sample ROC_AUC score:  0.5426386535479645\n"
     ]
    }
   ],
   "source": [
    "### ROC_AUC\n",
    "from sklearn.preprocessing import LabelBinarizer ### transform to perform one-vs-all scheme.\n",
    "y_scores = cross_val_predict(xgb, X_train_scaled, y_train, cv=3)\n",
    "def multiclass_roc_auc_score(y_test, y_pred, average=\"macro\"):\n",
    "    lb = LabelBinarizer()\n",
    "    lb.fit(y_test)\n",
    "    y_test = lb.transform(y_test)\n",
    "    y_pred = lb.transform(y_pred)\n",
    "    return roc_auc_score(y_test, y_pred, average=average)\n",
    "print('In sample ROC_AUC score: ', multiclass_roc_auc_score(y_scores, y_train))"
   ]
  },
  {
   "cell_type": "code",
   "execution_count": 51,
   "metadata": {},
   "outputs": [
    {
     "name": "stderr",
     "output_type": "stream",
     "text": [
      "C:\\programming\\anaconda\\lib\\site-packages\\sklearn\\model_selection\\_split.py:667: UserWarning: The least populated class in y has only 1 members, which is less than n_splits=3.\n",
      "  % (min_groups, self.n_splits)), UserWarning)\n"
     ]
    },
    {
     "name": "stdout",
     "output_type": "stream",
     "text": [
      "Out of sample ROC_AUC score:  0.5662290630664576\n"
     ]
    }
   ],
   "source": [
    "y_scores_1 = cross_val_predict(xgb, X_test_scaled, y_test, cv=3)\n",
    "print('Out of sample ROC_AUC score: ', multiclass_roc_auc_score(y_scores_1, y_test))"
   ]
  },
  {
   "cell_type": "markdown",
   "metadata": {},
   "source": [
    "#### We investigate ROC_AUC score by binarizer (transform to perform one-vs-all scheme), which indicates the model should be valid."
   ]
  },
  {
   "cell_type": "code",
   "execution_count": 25,
   "metadata": {
    "scrolled": true
   },
   "outputs": [
    {
     "name": "stdout",
     "output_type": "stream",
     "text": [
      "2 0.5275590551181102\n",
      "3 0.5669291338582677\n",
      "4 0.515748031496063\n",
      "5 0.4763779527559055\n",
      "6 0.49606299212598426\n",
      "7 0.4566929133858268\n",
      "8 0.5236220472440944\n",
      "9 0.4763779527559055\n",
      "10 0.49606299212598426\n",
      "11 0.5118110236220472\n",
      "12 0.5039370078740157\n",
      "13 0.47244094488188976\n",
      "14 0.5078740157480315\n",
      "15 0.5\n",
      "16 0.4881889763779528\n",
      "17 0.5196850393700787\n",
      "18 0.44881889763779526\n",
      "19 0.4881889763779528\n"
     ]
    }
   ],
   "source": [
    "## apply clustering before running xgboost\n",
    "for n_clusters in range(2,20):\n",
    "    pipeline = Pipeline([\n",
    "        (\"kmeans\", KMeans(n_clusters=n_clusters, random_state=n_clusters)),\n",
    "        (\"XGB\", XGBClassifier(random_state=42))\n",
    "    ])\n",
    "    pipeline.fit(X_train_scaled, y_train)\n",
    "    print(n_clusters, pipeline.score(X_test_scaled, y_test))"
   ]
  },
  {
   "cell_type": "markdown",
   "metadata": {},
   "source": [
    "#### Best clustering into 3 groups before then use xgboost classifier to achieve 57% accuracy for testing set prediction. We are interested to look at where the classification error source from."
   ]
  },
  {
   "cell_type": "markdown",
   "metadata": {},
   "source": [
    "## Breakdown the y label (y_train) to predict volatility level (y_train1) and direction of price change (y_train2) sepearately (df9)"
   ]
  },
  {
   "cell_type": "code",
   "execution_count": 238,
   "metadata": {},
   "outputs": [
    {
     "name": "stdout",
     "output_type": "stream",
     "text": [
      "[0]\tvalidation_0-merror:0.03922\n",
      "Will train until validation_0-merror hasn't improved in 5 rounds.\n",
      "[1]\tvalidation_0-merror:0.03922\n",
      "[2]\tvalidation_0-merror:0.03922\n",
      "[3]\tvalidation_0-merror:0.03922\n",
      "[4]\tvalidation_0-merror:0.03922\n",
      "[5]\tvalidation_0-merror:0.03922\n",
      "Stopping. Best iteration:\n",
      "[0]\tvalidation_0-merror:0.03922\n",
      "\n"
     ]
    },
    {
     "data": {
      "text/plain": [
       "XGBClassifier(base_score=0.5, booster='gbtree', colsample_bylevel=1,\n",
       "              colsample_bynode=1, colsample_bytree=1, eta=0.1, gamma=0,\n",
       "              gpu_id=-1, importance_type='gain', interaction_constraints='',\n",
       "              learning_rate=0.100000001, max_delta_step=0, max_depth=4,\n",
       "              min_child_weight=2, missing=nan, monotone_constraints='()',\n",
       "              n_estimators=100, n_jobs=0, num_parallel_tree=1,\n",
       "              objective='multi:softprob', random_state=42, reg_alpha=100,\n",
       "              reg_lambda=10, scale_pos_weight=None, subsample=1,\n",
       "              tree_method='exact', validate_parameters=1, verbosity=None)"
      ]
     },
     "execution_count": 238,
     "metadata": {},
     "output_type": "execute_result"
    }
   ],
   "source": [
    "XGB.fit(X_train_scaled[:1000], y_train1[:1000],\n",
    "        eval_set=[(X_train_scaled[1000:], y_train1[1000:])], early_stopping_rounds=5)"
   ]
  },
  {
   "cell_type": "code",
   "execution_count": 239,
   "metadata": {},
   "outputs": [
    {
     "data": {
      "text/plain": [
       "0.9036827195467422"
      ]
     },
     "execution_count": 239,
     "metadata": {},
     "output_type": "execute_result"
    }
   ],
   "source": [
    "y_pred = XGB.predict(X_test_scaled)\n",
    "accuracy_score(y_test1, y_pred)"
   ]
  },
  {
   "cell_type": "markdown",
   "metadata": {},
   "source": [
    "#### The accuracy of predicting the volatility level are pretty high."
   ]
  },
  {
   "cell_type": "code",
   "execution_count": 221,
   "metadata": {},
   "outputs": [
    {
     "data": {
      "text/plain": [
       "<matplotlib.legend.Legend at 0x162fa32f0b8>"
      ]
     },
     "execution_count": 221,
     "metadata": {},
     "output_type": "execute_result"
    },
    {
     "data": {
      "image/png": "[encoded data removed]",
      "text/plain": [
       "<Figure size 864x576 with 1 Axes>"
      ]
     },
     "metadata": {
      "needs_background": "light"
     },
     "output_type": "display_data"
    }
   ],
   "source": [
    "model_3 = XGB\n",
    "eval_set = [(X_train_scaled, y_train1), (X_test_scaled, y_test1)]\n",
    "model_3.fit(X_train_scaled, y_train1, eval_metric=[\"merror\", \"mlogloss\"],early_stopping_rounds=5, eval_set=eval_set, verbose=False)\n",
    "\n",
    "# retrieve performance metrics\n",
    "\n",
    "results_3 = model_3.evals_result()\n",
    "epochs = len(results_3['validation_0']['merror'])\n",
    "x_axis = range(0, epochs)\n",
    "# plot log loss\n",
    "fig, ax = pyplot.subplots(figsize=(12,8))\n",
    "ax.plot(x_axis, results_3['validation_0']['mlogloss'], label='Train')\n",
    "ax.plot(x_axis, results_3['validation_1']['mlogloss'], label='Test')\n",
    "pyplot.ylabel('Log Loss')\n",
    "pyplot.title('XGBoost Learning Curve Log Loss')\n",
    "ax.legend()"
   ]
  },
  {
   "cell_type": "code",
   "execution_count": 253,
   "metadata": {},
   "outputs": [
    {
     "data": {
      "image/png": "[encoded data removed]",
      "text/plain": [
       "<Figure size 864x576 with 1 Axes>"
      ]
     },
     "metadata": {
      "needs_background": "light"
     },
     "output_type": "display_data"
    }
   ],
   "source": [
    "train_sizes, train_scores, test_scores = learning_curve(XGBClassifier(eta=0.1,max_depth = 4,min_child_weight= 2,random_state=42), \n",
    "                                               X_train_scaled, y_train1, scoring='accuracy',cv =3, n_jobs=-1, \n",
    "                                               # 50 different sizes of the training set\n",
    "                                               train_sizes=np.linspace(0.01, 0.2, 50))\n",
    "    \n",
    "# Create means and standard deviations of training set scores\n",
    "train_mean = np.mean(train_scores, axis=1)\n",
    "train_std = np.std(train_scores, axis=1)\n",
    "    \n",
    "# Create means and standard deviations of test set scores\n",
    "test_mean = np.mean(test_scores, axis=1)\n",
    "test_std = np.std(test_scores, axis=1)\n",
    "    \n",
    "# Draw lines\n",
    "plt.subplots(figsize=(12,8))\n",
    "plt.plot(train_sizes, train_mean, '--', color=\"blue\",  label=\"Training score\")\n",
    "plt.plot(train_sizes, test_mean, color=\"red\", label=\"Cross-validation score\")\n",
    "\n",
    "    # Draw bands\n",
    "plt.fill_between(train_sizes, train_mean - train_std, train_mean + train_std, color=\"#DDDDDD\")\n",
    "plt.fill_between(train_sizes, test_mean - test_std, test_mean + test_std, color=\"#DDDDDD\")\n",
    "\n",
    "# Create plot\n",
    "plt.title(\"Learning Curve\")\n",
    "plt.xlabel(\"Training Set Size\"), plt.ylabel(\"Accuracy Score\"), plt.legend(loc=\"best\")\n",
    "plt.ylim(0.5,1)\n",
    "plt.tight_layout(); plt.show()"
   ]
  },
  {
   "cell_type": "markdown",
   "metadata": {},
   "source": [
    "### Predict direction of price change (price move up or down) on y_train2"
   ]
  },
  {
   "cell_type": "code",
   "execution_count": 247,
   "metadata": {},
   "outputs": [
    {
     "name": "stdout",
     "output_type": "stream",
     "text": [
      "[0]\tvalidation_0-error:0.48284\n",
      "Will train until validation_0-error hasn't improved in 2 rounds.\n",
      "[1]\tvalidation_0-error:0.46078\n",
      "[2]\tvalidation_0-error:0.46569\n",
      "[3]\tvalidation_0-error:0.46569\n",
      "Stopping. Best iteration:\n",
      "[1]\tvalidation_0-error:0.46078\n",
      "\n"
     ]
    },
    {
     "data": {
      "text/plain": [
       "XGBClassifier(base_score=0.5, booster='gbtree', colsample_bylevel=1,\n",
       "              colsample_bynode=1, colsample_bytree=1, eta=0.1, gamma=0,\n",
       "              gpu_id=-1, importance_type='gain', interaction_constraints='',\n",
       "              learning_rate=0.100000001, max_delta_step=0, max_depth=4,\n",
       "              min_child_weight=2, missing=nan, monotone_constraints='()',\n",
       "              n_estimators=100, n_jobs=0, num_parallel_tree=1,\n",
       "              objective='binary:logistic', random_state=42, reg_alpha=0,\n",
       "              reg_lambda=1, scale_pos_weight=1, subsample=1,\n",
       "              tree_method='exact', validate_parameters=1, verbosity=None)"
      ]
     },
     "execution_count": 247,
     "metadata": {},
     "output_type": "execute_result"
    }
   ],
   "source": [
    "xgb = XGBClassifier(eta=0.1,max_depth = 4,min_child_weight= 2,random_state=42)\n",
    "xgb.fit(X_train_scaled[:1000], y_train2[:1000],\n",
    "        eval_set=[(X_train_scaled[1000:], y_train2[1000:])], early_stopping_rounds=2)"
   ]
  },
  {
   "cell_type": "code",
   "execution_count": 248,
   "metadata": {},
   "outputs": [
    {
     "data": {
      "text/plain": [
       "0.5127478753541076"
      ]
     },
     "execution_count": 248,
     "metadata": {},
     "output_type": "execute_result"
    }
   ],
   "source": [
    "y_pred = xgb.predict(X_test_scaled)\n",
    "accuracy_score(y_test2, y_pred)"
   ]
  },
  {
   "cell_type": "markdown",
   "metadata": {},
   "source": [
    "#### The learning curve flatten out as the training size increases."
   ]
  },
  {
   "cell_type": "code",
   "execution_count": 264,
   "metadata": {},
   "outputs": [
    {
     "data": {
      "image/png": "[encoded data removed]",
      "text/plain": [
       "<Figure size 864x576 with 1 Axes>"
      ]
     },
     "metadata": {
      "needs_background": "light"
     },
     "output_type": "display_data"
    }
   ],
   "source": [
    "train_sizes, train_scores, test_scores = learning_curve(\n",
    "    XGBClassifier(eta=0.1,max_depth = 4,min_child_weight= 2,reg_alpha =100,reg_lambda =10, random_state =42),        \n",
    "                                               X_train_scaled, y_train2, scoring='accuracy',cv =3, n_jobs=-1, \n",
    "                                               # 50 different sizes of the training set\n",
    "                                               train_sizes=np.linspace(0.01, 0.2, 10))\n",
    "    \n",
    "# Create means and standard deviations of training set scores\n",
    "train_mean = np.mean(train_scores, axis=1)\n",
    "train_std = np.std(train_scores, axis=1)\n",
    "    \n",
    "# Create means and standard deviations of test set scores\n",
    "test_mean = np.mean(test_scores, axis=1)\n",
    "test_std = np.std(test_scores, axis=1)\n",
    "    \n",
    "# Draw lines\n",
    "plt.subplots(figsize=(12,8))\n",
    "plt.plot(train_sizes, train_mean, '--', color=\"blue\",  label=\"Training score\")\n",
    "plt.plot(train_sizes, test_mean, color=\"red\", label=\"Cross-validation score\")\n",
    "\n",
    "    # Draw bands\n",
    "plt.fill_between(train_sizes, train_mean - train_std, train_mean + train_std, color=\"#DDDDDD\")\n",
    "plt.fill_between(train_sizes, test_mean - test_std, test_mean + test_std, color=\"#DDDDDD\")\n",
    "\n",
    "# Create plot\n",
    "plt.title(\"Learning Curve\")\n",
    "plt.xlabel(\"Training Set Size\"), plt.ylabel(\"Accuracy Score\"), plt.legend(loc=\"best\")\n",
    "plt.ylim(0.2,1)\n",
    "plt.tight_layout(); plt.show()"
   ]
  },
  {
   "cell_type": "markdown",
   "metadata": {},
   "source": [
    "#### Conclusion:  \n",
    "\n",
    "#### We can see that XGB classifiers has slightly improve in accuracy after using clustering. Under the pipeline method, the accuracy using xgboost in predicting price movement comes to around 57%. The Hyperparameter tuning and regularization help to better fitting the model. The binarized ROC_AUC score for out of sample testing set is 56%. \n",
    "\n",
    "#### The result is fair and model should be vaild. By comparing the result of predicting volatility level and price change direction seperately, the model has good performance in classifying the volatility level, and the error mostly source from predicting the up trend or down trend. "
   ]
  },
  {
   "cell_type": "markdown",
   "metadata": {},
   "source": [
    "# Algorithm 3 : Voting Classifier\n",
    "* Joice Dong"
   ]
  },
  {
   "cell_type": "code",
   "execution_count": 27,
   "metadata": {},
   "outputs": [],
   "source": [
    "gbrt = GradientBoostingClassifier(max_depth=5,n_estimators=500,learning_rate=0.1,random_state=42)\n",
    "ada = AdaBoostClassifier(DecisionTreeClassifier(max_depth=5), n_estimators=500,\n",
    "                         algorithm=\"SAMME.R\", learning_rate=0.1, random_state=42)\n",
    "forest = RandomForestClassifier(n_jobs=-1,random_state=42)\n",
    "extratree  = ExtraTreesClassifier(n_estimators=500,n_jobs=-1, random_state=42)\n",
    "vote_s = VotingClassifier(estimators=[('forest', forest),\n",
    "                                      ('extratree', extratree),\n",
    "                                      ('ada', ada), \n",
    "                                      ('gbrt', gbrt)],\n",
    "                          n_jobs=-1,\n",
    "                          voting='soft')\n",
    "vote_h = VotingClassifier(estimators=[('forest', forest),\n",
    "                                      ('extratree', extratree),\n",
    "                                      ('ada', ada), \n",
    "                                      ('gbrt', gbrt)],\n",
    "                          n_jobs=-1,\n",
    "                          voting='hard')"
   ]
  },
  {
   "cell_type": "code",
   "execution_count": 28,
   "metadata": {},
   "outputs": [
    {
     "name": "stdout",
     "output_type": "stream",
     "text": [
      "GradientBoostingClassifier 0.5118110236220472\n",
      "AdaBoostClassifier 0.4881889763779528\n"
     ]
    },
    {
     "name": "stderr",
     "output_type": "stream",
     "text": [
      "C:\\Users\\warre\\Anaconda3\\lib\\site-packages\\sklearn\\ensemble\\forest.py:245: FutureWarning: The default value of n_estimators will change from 10 in version 0.20 to 100 in 0.22.\n",
      "  \"10 in version 0.20 to 100 in 0.22.\", FutureWarning)\n"
     ]
    },
    {
     "name": "stdout",
     "output_type": "stream",
     "text": [
      "RandomForestClassifier 0.5196850393700787\n",
      "ExtraTreesClassifier 0.4881889763779528\n",
      "VotingClassifier 0.49606299212598426\n",
      "VotingClassifier 0.4921259842519685\n"
     ]
    }
   ],
   "source": [
    "for clf in (gbrt, ada, forest, extratree,vote_s,vote_h):\n",
    "    clf.fit(X_train_scaled, y_train)\n",
    "    y_pred = clf.predict(X_test_scaled)\n",
    "    print(clf.__class__.__name__, accuracy_score(y_test, y_pred))"
   ]
  },
  {
   "cell_type": "code",
   "execution_count": 33,
   "metadata": {},
   "outputs": [
    {
     "data": {
      "image/png": "[encoded data removed]",
      "text/plain": [
       "<Figure size 864x576 with 1 Axes>"
      ]
     },
     "metadata": {
      "needs_background": "light"
     },
     "output_type": "display_data"
    }
   ],
   "source": [
    "train_sizes, train_scores, test_scores = learning_curve(vote_s, \n",
    "                                               X_train_scaled, y_train, cv=3, scoring='accuracy', n_jobs=-1, \n",
    "                                               # 50 different sizes of the training set\n",
    "                                               train_sizes=np.linspace(0.01, 0.2, 50))\n",
    "    \n",
    "# Create means and standard deviations of training set scores\n",
    "train_mean = np.mean(train_scores, axis=1)\n",
    "train_std = np.std(train_scores, axis=1)\n",
    "    \n",
    "# Create means and standard deviations of test set scores\n",
    "test_mean = np.mean(test_scores, axis=1)\n",
    "test_std = np.std(test_scores, axis=1)\n",
    "    \n",
    "    # Draw lines\n",
    "plt.subplots(figsize=(12,8))\n",
    "plt.plot(train_sizes, train_mean, '--', color=\"blue\",  label=\"Training score\")\n",
    "plt.plot(train_sizes, test_mean, color=\"red\", label=\"Cross-validation score\")\n",
    "\n",
    "    # Draw bands\n",
    "plt.fill_between(train_sizes, train_mean - train_std, train_mean + train_std, color=\"#DDDDDD\")\n",
    "plt.fill_between(train_sizes, test_mean - test_std, test_mean + test_std, color=\"#DDDDDD\")\n",
    "    \n",
    "    # Create plot\n",
    "plt.title(\"Learning Curve\")\n",
    "plt.xlabel(\"Training Set Size\"), plt.ylabel(\"Accuracy Score\"), plt.legend(loc=\"best\")\n",
    "plt.tight_layout(); plt.show()"
   ]
  },
  {
   "cell_type": "markdown",
   "metadata": {},
   "source": [
    "### Breakdown the y label (y_train) to predict volatility level (y_train1) and direction of price change (y_train2) sepearately (df9)"
   ]
  },
  {
   "cell_type": "code",
   "execution_count": 35,
   "metadata": {},
   "outputs": [
    {
     "name": "stdout",
     "output_type": "stream",
     "text": [
      "GradientBoostingClassifier 0.9330708661417323\n",
      "AdaBoostClassifier 0.9212598425196851\n",
      "RandomForestClassifier 0.937007874015748\n",
      "ExtraTreesClassifier 0.9448818897637795\n",
      "VotingClassifier 0.9330708661417323\n",
      "VotingClassifier 0.9448818897637795\n"
     ]
    }
   ],
   "source": [
    "### predict the volatilty level (magnitude)\n",
    "for clf in (gbrt, ada, forest, extratree,vote_s,vote_h):\n",
    "    clf.fit(X_train_scaled, y_train1)\n",
    "    y_pred = clf.predict(X_test_scaled)\n",
    "    print(clf.__class__.__name__, accuracy_score(y_test1, y_pred))"
   ]
  },
  {
   "cell_type": "code",
   "execution_count": 30,
   "metadata": {},
   "outputs": [
    {
     "name": "stdout",
     "output_type": "stream",
     "text": [
      "GradientBoostingClassifier 0.515748031496063\n",
      "AdaBoostClassifier 0.49606299212598426\n",
      "RandomForestClassifier 0.5236220472440944\n",
      "ExtraTreesClassifier 0.5669291338582677\n",
      "VotingClassifier 0.5236220472440944\n",
      "VotingClassifier 0.5354330708661418\n"
     ]
    }
   ],
   "source": [
    "### predict the direction of price change (up or down)\n",
    "for clf in (gbrt, ada, forest, extratree,vote_s,vote_h):\n",
    "    clf.fit(X_train_scaled, y_train2)\n",
    "    y_pred = clf.predict(X_test_scaled)\n",
    "    print(clf.__class__.__name__, accuracy_score(y_test2, y_pred))"
   ]
  },
  {
   "cell_type": "markdown",
   "metadata": {},
   "source": [
    "# Algorithms 4: Blender \n",
    "* Chaoyi Lou\n"
   ]
  },
  {
   "cell_type": "markdown",
   "metadata": {},
   "source": [
    "The blender algorithm has something in common with the voting algorithm, but the key point is that the blender combines the predictions results as the training set to do further model fitting. We use four individual classifiers mentioned in the previous algorithm which are listed below:"
   ]
  },
  {
   "cell_type": "code",
   "execution_count": 18,
   "metadata": {},
   "outputs": [],
   "source": [
    "forest = RandomForestClassifier(n_jobs=-1,random_state=42) #from voting\n",
    "extratree = ExtraTreesClassifier(n_estimators=500,n_jobs=-1, random_state=42) #voting\n",
    "gbrt = GradientBoostingClassifier(max_depth=5,n_estimators=500,learning_rate=\n",
    "0.1,random_state=42)\n",
    "ada = AdaBoostClassifier(DecisionTreeClassifier(max_depth=5), n_estimators=500,algorithm=\"SAMME.R\", learning_rate=0.1, random_state=42)"
   ]
  },
  {
   "cell_type": "markdown",
   "metadata": {},
   "source": [
    "The very first step is getting our new training set for the blender. Additionally, we also get the cross validation scores for the four individual classifiers, which ranging from 10% to 50%."
   ]
  },
  {
   "cell_type": "code",
   "execution_count": 20,
   "metadata": {},
   "outputs": [
    {
     "name": "stderr",
     "output_type": "stream",
     "text": [
      "/opt/anaconda3/lib/python3.7/site-packages/sklearn/model_selection/_split.py:667: UserWarning: The least populated class in y has only 1 members, which is less than n_splits=3.\n",
      "  % (min_groups, self.n_splits)), UserWarning)\n",
      "/opt/anaconda3/lib/python3.7/site-packages/sklearn/model_selection/_split.py:667: UserWarning: The least populated class in y has only 1 members, which is less than n_splits=3.\n",
      "  % (min_groups, self.n_splits)), UserWarning)\n"
     ]
    },
    {
     "name": "stdout",
     "output_type": "stream",
     "text": [
      "[0.52765957 0.38166311 0.46268657]\n"
     ]
    },
    {
     "name": "stderr",
     "output_type": "stream",
     "text": [
      "/opt/anaconda3/lib/python3.7/site-packages/sklearn/model_selection/_split.py:667: UserWarning: The least populated class in y has only 1 members, which is less than n_splits=3.\n",
      "  % (min_groups, self.n_splits)), UserWarning)\n",
      "/opt/anaconda3/lib/python3.7/site-packages/sklearn/model_selection/_split.py:667: UserWarning: The least populated class in y has only 1 members, which is less than n_splits=3.\n",
      "  % (min_groups, self.n_splits)), UserWarning)\n"
     ]
    },
    {
     "name": "stdout",
     "output_type": "stream",
     "text": [
      "[0.52765957 0.34115139 0.45202559]\n"
     ]
    },
    {
     "name": "stderr",
     "output_type": "stream",
     "text": [
      "/opt/anaconda3/lib/python3.7/site-packages/sklearn/model_selection/_split.py:667: UserWarning: The least populated class in y has only 1 members, which is less than n_splits=3.\n",
      "  % (min_groups, self.n_splits)), UserWarning)\n",
      "/opt/anaconda3/lib/python3.7/site-packages/sklearn/model_selection/_split.py:667: UserWarning: The least populated class in y has only 1 members, which is less than n_splits=3.\n",
      "  % (min_groups, self.n_splits)), UserWarning)\n"
     ]
    },
    {
     "name": "stdout",
     "output_type": "stream",
     "text": [
      "[0.46808511 0.40724947 0.45202559]\n"
     ]
    },
    {
     "name": "stderr",
     "output_type": "stream",
     "text": [
      "/opt/anaconda3/lib/python3.7/site-packages/sklearn/model_selection/_split.py:667: UserWarning: The least populated class in y has only 1 members, which is less than n_splits=3.\n",
      "  % (min_groups, self.n_splits)), UserWarning)\n",
      "/opt/anaconda3/lib/python3.7/site-packages/sklearn/model_selection/_split.py:667: UserWarning: The least populated class in y has only 1 members, which is less than n_splits=3.\n",
      "  % (min_groups, self.n_splits)), UserWarning)\n"
     ]
    },
    {
     "name": "stdout",
     "output_type": "stream",
     "text": [
      "[0.10851064 0.40085288 0.39872068]\n"
     ]
    }
   ],
   "source": [
    "from sklearn.model_selection import cross_val_predict, cross_val_score\n",
    "\n",
    "\n",
    "models = [forest, extratree, ada, gbrt]\n",
    "model_names = [\"forest\",\"extratree\", \"AdaBoost\", \"GradientBoost\"]\n",
    "\n",
    "pred = np.empty((len(X_train_scaled), len(models)), dtype=np.float32)\n",
    "\n",
    "for index, model in enumerate(models):\n",
    "    pred[:,index]=cross_val_predict(model, X_train_scaled, y_train,\n",
    "                                  cv=3, n_jobs=-1)\n",
    "    scores = cross_val_score(model, X_train_scaled, y_train, cv=3,scoring=\"accuracy\")\n",
    "    print(scores)"
   ]
  },
  {
   "cell_type": "markdown",
   "metadata": {},
   "source": [
    "Now we fit the blender on this new training set:"
   ]
  },
  {
   "cell_type": "code",
   "execution_count": 28,
   "metadata": {},
   "outputs": [
    {
     "data": {
      "text/plain": [
       "RandomForestClassifier(bootstrap=True, ccp_alpha=0.0, class_weight=None,\n",
       "                       criterion='gini', max_depth=None, max_features='auto',\n",
       "                       max_leaf_nodes=None, max_samples=None,\n",
       "                       min_impurity_decrease=0.0, min_impurity_split=None,\n",
       "                       min_samples_leaf=1, min_samples_split=2,\n",
       "                       min_weight_fraction_leaf=0.0, n_estimators=500,\n",
       "                       n_jobs=-1, oob_score=True, random_state=42, verbose=0,\n",
       "                       warm_start=False)"
      ]
     },
     "execution_count": 28,
     "metadata": {},
     "output_type": "execute_result"
    }
   ],
   "source": [
    "rnd_forest_blender = RandomForestClassifier(n_estimators=500,n_jobs=-1, oob_score=True, random_state=42)\n",
    "rnd_forest_blender.fit(pred, y_train)"
   ]
  },
  {
   "cell_type": "markdown",
   "metadata": {},
   "source": [
    "The cross validation score from blender is not bad, which is around 50% in average. "
   ]
  },
  {
   "cell_type": "code",
   "execution_count": 34,
   "metadata": {},
   "outputs": [
    {
     "name": "stderr",
     "output_type": "stream",
     "text": [
      "/opt/anaconda3/lib/python3.7/site-packages/sklearn/model_selection/_split.py:667: UserWarning: The least populated class in y has only 1 members, which is less than n_splits=3.\n",
      "  % (min_groups, self.n_splits)), UserWarning)\n",
      "/opt/anaconda3/lib/python3.7/site-packages/sklearn/model_selection/_split.py:667: UserWarning: The least populated class in y has only 1 members, which is less than n_splits=3.\n",
      "  % (min_groups, self.n_splits)), UserWarning)\n"
     ]
    },
    {
     "data": {
      "text/plain": [
       "array([0.53404255, 0.4989339 , 0.46055437])"
      ]
     },
     "execution_count": 34,
     "metadata": {},
     "output_type": "execute_result"
    }
   ],
   "source": [
    "y_pred_train = cross_val_predict(rnd_forest_blender, pred, y_train,\n",
    "                                  cv=3, n_jobs=-1)\n",
    "cross_val_score(rnd_forest_blender, pred, y_train, cv=3,scoring=\"accuracy\")"
   ]
  },
  {
   "cell_type": "markdown",
   "metadata": {},
   "source": [
    "From the confusion matrix, we can see the true positives mostly distributed in 1."
   ]
  },
  {
   "cell_type": "code",
   "execution_count": 35,
   "metadata": {},
   "outputs": [
    {
     "name": "stdout",
     "output_type": "stream",
     "text": [
      "[[544   0   3 175  22   0]\n",
      " [ 14   0   0  18   3   0]\n",
      " [  1   0   0   0   0   0]\n",
      " [419   1   0 153   8   0]\n",
      " [ 21   0   1  16   4   0]\n",
      " [  2   0   0   2   1   0]]\n"
     ]
    },
    {
     "data": {
      "image/png": "[encoded data removed]",
      "text/plain": [
       "<Figure size 432x288 with 2 Axes>"
      ]
     },
     "metadata": {
      "needs_background": "light"
     },
     "output_type": "display_data"
    }
   ],
   "source": [
    "from sklearn.metrics import confusion_matrix\n",
    "from sklearn.metrics import ConfusionMatrixDisplay\n",
    "cm=confusion_matrix(y_train, y_pred_train,labels=[\"1\", \"2\", \"3\",\"-1\",\"-2\",\"-3\"])\n",
    "print(cm)\n",
    "cm_display = ConfusionMatrixDisplay(cm,display_labels=[\"1\", \"2\", \"3\",\"-1\",\"-2\",\"-3\"]).plot()"
   ]
  },
  {
   "cell_type": "markdown",
   "metadata": {},
   "source": [
    "Since this is a bagging ensemble of four different classifiers, we can request an automatic oob evaluation after training. "
   ]
  },
  {
   "cell_type": "code",
   "execution_count": 30,
   "metadata": {},
   "outputs": [
    {
     "data": {
      "text/plain": [
       "0.5333806818181818"
      ]
     },
     "execution_count": 30,
     "metadata": {},
     "output_type": "execute_result"
    }
   ],
   "source": [
    "rnd_forest_blender.oob_score_"
   ]
  },
  {
   "cell_type": "markdown",
   "metadata": {},
   "source": [
    "According to this oob evaluation, the blender is likely to achieve 53% accuracy on the test set. Now we can look at the actual performance on the test set and compare the result with previous models. "
   ]
  },
  {
   "cell_type": "code",
   "execution_count": 31,
   "metadata": {},
   "outputs": [
    {
     "name": "stderr",
     "output_type": "stream",
     "text": [
      "/opt/anaconda3/lib/python3.7/site-packages/sklearn/model_selection/_split.py:667: UserWarning: The least populated class in y has only 2 members, which is less than n_splits=3.\n",
      "  % (min_groups, self.n_splits)), UserWarning)\n",
      "/opt/anaconda3/lib/python3.7/site-packages/sklearn/model_selection/_split.py:667: UserWarning: The least populated class in y has only 2 members, which is less than n_splits=3.\n",
      "  % (min_groups, self.n_splits)), UserWarning)\n"
     ]
    },
    {
     "name": "stdout",
     "output_type": "stream",
     "text": [
      "avg 0.42240088850258345\n",
      "[0.30508475 0.43220339 0.52991453]\n"
     ]
    },
    {
     "name": "stderr",
     "output_type": "stream",
     "text": [
      "/opt/anaconda3/lib/python3.7/site-packages/sklearn/model_selection/_split.py:667: UserWarning: The least populated class in y has only 2 members, which is less than n_splits=3.\n",
      "  % (min_groups, self.n_splits)), UserWarning)\n",
      "/opt/anaconda3/lib/python3.7/site-packages/sklearn/model_selection/_split.py:667: UserWarning: The least populated class in y has only 2 members, which is less than n_splits=3.\n",
      "  % (min_groups, self.n_splits)), UserWarning)\n"
     ]
    },
    {
     "name": "stdout",
     "output_type": "stream",
     "text": [
      "avg 0.3857260128446569\n",
      "[0.27966102 0.33050847 0.54700855]\n"
     ]
    },
    {
     "name": "stderr",
     "output_type": "stream",
     "text": [
      "/opt/anaconda3/lib/python3.7/site-packages/sklearn/model_selection/_split.py:667: UserWarning: The least populated class in y has only 2 members, which is less than n_splits=3.\n",
      "  % (min_groups, self.n_splits)), UserWarning)\n",
      "/opt/anaconda3/lib/python3.7/site-packages/sklearn/model_selection/_split.py:667: UserWarning: The least populated class in y has only 2 members, which is less than n_splits=3.\n",
      "  % (min_groups, self.n_splits)), UserWarning)\n"
     ]
    },
    {
     "name": "stdout",
     "output_type": "stream",
     "text": [
      "avg 0.44224733207784056\n",
      "[0.39830508 0.37288136 0.55555556]\n"
     ]
    },
    {
     "name": "stderr",
     "output_type": "stream",
     "text": [
      "/opt/anaconda3/lib/python3.7/site-packages/sklearn/model_selection/_split.py:667: UserWarning: The least populated class in y has only 2 members, which is less than n_splits=3.\n",
      "  % (min_groups, self.n_splits)), UserWarning)\n",
      "/opt/anaconda3/lib/python3.7/site-packages/sklearn/model_selection/_split.py:667: UserWarning: The least populated class in y has only 2 members, which is less than n_splits=3.\n",
      "  % (min_groups, self.n_splits)), UserWarning)\n"
     ]
    },
    {
     "name": "stdout",
     "output_type": "stream",
     "text": [
      "avg 0.34893041672702685\n",
      "[0.27966102 0.24576271 0.52136752]\n"
     ]
    }
   ],
   "source": [
    "X_test_predictions = np.empty((len(X_test), len(models)), dtype=np.float32)\n",
    "\n",
    "for index, model in enumerate(models):\n",
    "    X_test_predictions[:, index] = cross_val_predict(model, X_test, y_test,\n",
    "                                  cv=3, n_jobs=-1)\n",
    "    test_scores = cross_val_score(model, X_test, y_test, cv=3,scoring=\"accuracy\")\n",
    "    avg=0\n",
    "    for i in range(len(test_scores)):\n",
    "        avg=avg+test_scores[i]\n",
    "    avg_score = avg/3\n",
    "    print(\"avg\",avg_score)\n",
    "    print(test_scores)"
   ]
  },
  {
   "cell_type": "markdown",
   "metadata": {},
   "source": [
    "From the results, we can see that forest and AdaBoost classifiers performs relatively better. Now we can look at the performance of the blender:"
   ]
  },
  {
   "cell_type": "code",
   "execution_count": 33,
   "metadata": {},
   "outputs": [
    {
     "name": "stderr",
     "output_type": "stream",
     "text": [
      "/opt/anaconda3/lib/python3.7/site-packages/sklearn/model_selection/_split.py:667: UserWarning: The least populated class in y has only 2 members, which is less than n_splits=3.\n",
      "  % (min_groups, self.n_splits)), UserWarning)\n",
      "/opt/anaconda3/lib/python3.7/site-packages/sklearn/model_selection/_split.py:667: UserWarning: The least populated class in y has only 2 members, which is less than n_splits=3.\n",
      "  % (min_groups, self.n_splits)), UserWarning)\n"
     ]
    },
    {
     "name": "stdout",
     "output_type": "stream",
     "text": [
      "[0.39830508 0.43220339 0.43589744]\n",
      "the average accuracy score from blender is:  0.4221353034912357\n"
     ]
    }
   ],
   "source": [
    "y_pred = cross_val_predict(rnd_forest_blender, X_test_predictions, y_test,\n",
    "                                  cv=3, n_jobs=-1)\n",
    "blender_acc=cross_val_score(rnd_forest_blender, X_test_predictions, y_test, cv=3,scoring=\"accuracy\")\n",
    "print(blender_acc)\n",
    "avg=0\n",
    "for i in range(len(blender_acc)):\n",
    "    avg=avg+blender_acc[i]\n",
    "\n",
    "blender_avg = avg/3\n",
    "print(\"the average accuracy score from blender is: \", blender_avg)"
   ]
  },
  {
   "cell_type": "code",
   "execution_count": 50,
   "metadata": {},
   "outputs": [
    {
     "name": "stdout",
     "output_type": "stream",
     "text": [
      "[[92  4  0 90  0  0]\n",
      " [ 6  0  0  3  0  0]\n",
      " [ 1  0  0  1  0  0]\n",
      " [76  0  0 57  0  0]\n",
      " [10  0  0  9  0  0]\n",
      " [ 2  0  0  2  0  0]]\n"
     ]
    },
    {
     "data": {
      "image/png": "[encoded data removed]",
      "text/plain": [
       "<Figure size 432x288 with 2 Axes>"
      ]
     },
     "metadata": {
      "needs_background": "light"
     },
     "output_type": "display_data"
    }
   ],
   "source": [
    "from sklearn.metrics import confusion_matrix\n",
    "from sklearn.metrics import ConfusionMatrixDisplay\n",
    "cm=confusion_matrix(y_test, y_pred,labels=[\"1\", \"2\", \"3\",\"-1\",\"-2\",\"-3\"])\n",
    "print(cm)\n",
    "cm_display = ConfusionMatrixDisplay(cm,display_labels=[\"1\", \"2\", \"3\",\"-1\",\"-2\",\"-3\"]).plot()"
   ]
  },
  {
   "cell_type": "markdown",
   "metadata": {},
   "source": [
    "## tuning the hyperparameter: including less classifiers\n",
    "From the above results, we can see that the blender is not the best performed model. So we are curious about whether only including the two better-performed models in the blender will improve accuracy. "
   ]
  },
  {
   "cell_type": "code",
   "execution_count": 36,
   "metadata": {},
   "outputs": [
    {
     "name": "stderr",
     "output_type": "stream",
     "text": [
      "/opt/anaconda3/lib/python3.7/site-packages/sklearn/model_selection/_split.py:667: UserWarning: The least populated class in y has only 1 members, which is less than n_splits=3.\n",
      "  % (min_groups, self.n_splits)), UserWarning)\n",
      "/opt/anaconda3/lib/python3.7/site-packages/sklearn/model_selection/_split.py:667: UserWarning: The least populated class in y has only 1 members, which is less than n_splits=3.\n",
      "  % (min_groups, self.n_splits)), UserWarning)\n"
     ]
    },
    {
     "name": "stdout",
     "output_type": "stream",
     "text": [
      "[0.52765957 0.38166311 0.46268657]\n"
     ]
    },
    {
     "name": "stderr",
     "output_type": "stream",
     "text": [
      "/opt/anaconda3/lib/python3.7/site-packages/sklearn/model_selection/_split.py:667: UserWarning: The least populated class in y has only 1 members, which is less than n_splits=3.\n",
      "  % (min_groups, self.n_splits)), UserWarning)\n",
      "/opt/anaconda3/lib/python3.7/site-packages/sklearn/model_selection/_split.py:667: UserWarning: The least populated class in y has only 1 members, which is less than n_splits=3.\n",
      "  % (min_groups, self.n_splits)), UserWarning)\n"
     ]
    },
    {
     "name": "stdout",
     "output_type": "stream",
     "text": [
      "[0.46808511 0.40724947 0.45202559]\n"
     ]
    }
   ],
   "source": [
    "models = [forest, ada]\n",
    "model_names = [\"forest\", \"AdaBoost\"]\n",
    "\n",
    "pred = np.empty((len(X_train_scaled), len(models)), dtype=np.float32)\n",
    "\n",
    "for index, model in enumerate(models):\n",
    "    pred[:,index]=cross_val_predict(model, X_train_scaled, y_train,\n",
    "                                  cv=3, n_jobs=-1)\n",
    "    scores = cross_val_score(model, X_train_scaled, y_train, cv=3,scoring=\"accuracy\")\n",
    "    print(scores)"
   ]
  },
  {
   "cell_type": "code",
   "execution_count": 37,
   "metadata": {},
   "outputs": [
    {
     "data": {
      "text/plain": [
       "RandomForestClassifier(bootstrap=True, ccp_alpha=0.0, class_weight=None,\n",
       "                       criterion='gini', max_depth=None, max_features='auto',\n",
       "                       max_leaf_nodes=None, max_samples=None,\n",
       "                       min_impurity_decrease=0.0, min_impurity_split=None,\n",
       "                       min_samples_leaf=1, min_samples_split=2,\n",
       "                       min_weight_fraction_leaf=0.0, n_estimators=500,\n",
       "                       n_jobs=-1, oob_score=True, random_state=42, verbose=0,\n",
       "                       warm_start=False)"
      ]
     },
     "execution_count": 37,
     "metadata": {},
     "output_type": "execute_result"
    }
   ],
   "source": [
    "rnd_forest_blender = RandomForestClassifier(n_estimators=500,n_jobs=-1, oob_score=True, random_state=42)\n",
    "rnd_forest_blender.fit(pred, y_train)"
   ]
  },
  {
   "cell_type": "markdown",
   "metadata": {},
   "source": [
    "The cross validation score and out of bag score of the blender improve a little bit."
   ]
  },
  {
   "cell_type": "code",
   "execution_count": 38,
   "metadata": {},
   "outputs": [
    {
     "name": "stderr",
     "output_type": "stream",
     "text": [
      "/opt/anaconda3/lib/python3.7/site-packages/sklearn/model_selection/_split.py:667: UserWarning: The least populated class in y has only 1 members, which is less than n_splits=3.\n",
      "  % (min_groups, self.n_splits)), UserWarning)\n"
     ]
    },
    {
     "data": {
      "text/plain": [
       "array([0.52765957, 0.49680171, 0.52878465])"
      ]
     },
     "execution_count": 38,
     "metadata": {},
     "output_type": "execute_result"
    }
   ],
   "source": [
    "cross_val_score(rnd_forest_blender, pred, y_train, cv=3,scoring=\"accuracy\")"
   ]
  },
  {
   "cell_type": "code",
   "execution_count": 39,
   "metadata": {},
   "outputs": [
    {
     "data": {
      "text/plain": [
       "0.5248579545454546"
      ]
     },
     "execution_count": 39,
     "metadata": {},
     "output_type": "execute_result"
    }
   ],
   "source": [
    "rnd_forest_blender.oob_score_"
   ]
  },
  {
   "cell_type": "markdown",
   "metadata": {},
   "source": [
    "Now we can take a look at the test sets of our new blender model:"
   ]
  },
  {
   "cell_type": "code",
   "execution_count": 40,
   "metadata": {},
   "outputs": [
    {
     "name": "stderr",
     "output_type": "stream",
     "text": [
      "/opt/anaconda3/lib/python3.7/site-packages/sklearn/model_selection/_split.py:667: UserWarning: The least populated class in y has only 2 members, which is less than n_splits=3.\n",
      "  % (min_groups, self.n_splits)), UserWarning)\n",
      "/opt/anaconda3/lib/python3.7/site-packages/sklearn/model_selection/_split.py:667: UserWarning: The least populated class in y has only 2 members, which is less than n_splits=3.\n",
      "  % (min_groups, self.n_splits)), UserWarning)\n"
     ]
    },
    {
     "name": "stdout",
     "output_type": "stream",
     "text": [
      "avg 0.42240088850258345\n",
      "[0.30508475 0.43220339 0.52991453]\n"
     ]
    },
    {
     "name": "stderr",
     "output_type": "stream",
     "text": [
      "/opt/anaconda3/lib/python3.7/site-packages/sklearn/model_selection/_split.py:667: UserWarning: The least populated class in y has only 2 members, which is less than n_splits=3.\n",
      "  % (min_groups, self.n_splits)), UserWarning)\n",
      "/opt/anaconda3/lib/python3.7/site-packages/sklearn/model_selection/_split.py:667: UserWarning: The least populated class in y has only 2 members, which is less than n_splits=3.\n",
      "  % (min_groups, self.n_splits)), UserWarning)\n"
     ]
    },
    {
     "name": "stdout",
     "output_type": "stream",
     "text": [
      "avg 0.44224733207784056\n",
      "[0.39830508 0.37288136 0.55555556]\n"
     ]
    }
   ],
   "source": [
    "X_test_predictions = np.empty((len(X_test), len(models)), dtype=np.float32)\n",
    "\n",
    "for index, model in enumerate(models):\n",
    "    X_test_predictions[:, index] = cross_val_predict(model, X_test, y_test,\n",
    "                                  cv=3, n_jobs=-1)\n",
    "    test_scores = cross_val_score(model, X_test, y_test, cv=3,scoring=\"accuracy\")\n",
    "    avg=0\n",
    "    for i in range(len(test_scores)):\n",
    "        avg=avg+test_scores[i]\n",
    "    avg_score = avg/3\n",
    "    print(\"avg\",avg_score)\n",
    "    print(test_scores)"
   ]
  },
  {
   "cell_type": "code",
   "execution_count": 41,
   "metadata": {},
   "outputs": [
    {
     "name": "stderr",
     "output_type": "stream",
     "text": [
      "/opt/anaconda3/lib/python3.7/site-packages/sklearn/model_selection/_split.py:667: UserWarning: The least populated class in y has only 2 members, which is less than n_splits=3.\n",
      "  % (min_groups, self.n_splits)), UserWarning)\n",
      "/opt/anaconda3/lib/python3.7/site-packages/sklearn/model_selection/_split.py:667: UserWarning: The least populated class in y has only 2 members, which is less than n_splits=3.\n",
      "  % (min_groups, self.n_splits)), UserWarning)\n"
     ]
    },
    {
     "name": "stdout",
     "output_type": "stream",
     "text": [
      "[0.48305085 0.5        0.52991453]\n",
      "the average accuracy score from blender is:  0.5043217924573856\n"
     ]
    }
   ],
   "source": [
    "cross_val_predict(rnd_forest_blender, X_test_predictions, y_test,\n",
    "                                  cv=3, n_jobs=-1)\n",
    "blender_acc=cross_val_score(rnd_forest_blender, X_test_predictions, y_test, cv=3,scoring=\"accuracy\")\n",
    "print(blender_acc)\n",
    "avg=0\n",
    "for i in range(len(blender_acc)):\n",
    "    avg=avg+blender_acc[i]\n",
    "\n",
    "blender_avg = avg/3\n",
    "print(\"the average accuracy score from blender is: \", blender_avg)"
   ]
  },
  {
   "cell_type": "markdown",
   "metadata": {},
   "source": [
    "50%vs44.22%: We can see a clear improvement and now the blender algorithm outperforms. Now we can have a look at the learning curve."
   ]
  },
  {
   "cell_type": "code",
   "execution_count": 33,
   "metadata": {},
   "outputs": [],
   "source": [
    "from sklearn.metrics import mean_squared_error\n",
    "from sklearn.model_selection import train_test_split\n",
    "\n",
    "def plot_learning_curves(model, X_train,X_val, y_train,y_val):\n",
    "    train_errors, val_errors = [], []\n",
    "    for m in range(1, len(X_train)):\n",
    "        model.fit(X_train[:m], y_train[:m])\n",
    "        y_train_predict = model.predict(X_train[:m])\n",
    "        y_val_predict = model.predict(X_val)\n",
    "        train_errors.append(mean_squared_error(y_train[:m], y_train_predict))\n",
    "        val_errors.append(mean_squared_error(y_val, y_val_predict))\n",
    "\n",
    "    plt.plot(np.sqrt(train_errors), \"r-+\", linewidth=2, label=\"train\")\n",
    "    plt.plot(np.sqrt(val_errors), \"b-\", linewidth=3, label=\"val\")\n",
    "    plt.legend(loc=\"upper right\", fontsize=14)   # not shown in the book\n",
    "    plt.xlabel(\"Training set size\", fontsize=14) # not shown\n",
    "    plt.ylabel(\"RMSE\", fontsize=14)  "
   ]
  },
  {
   "cell_type": "code",
   "execution_count": 44,
   "metadata": {},
   "outputs": [
    {
     "name": "stderr",
     "output_type": "stream",
     "text": [
      "/opt/anaconda3/lib/python3.7/site-packages/sklearn/ensemble/_forest.py:523: UserWarning: Some inputs do not have OOB scores. This probably means too few trees were used to compute any reliable oob estimates.\n",
      "  warn(\"Some inputs do not have OOB scores. \"\n",
      "/opt/anaconda3/lib/python3.7/site-packages/sklearn/ensemble/_forest.py:528: RuntimeWarning: invalid value encountered in true_divide\n",
      "  predictions[k].sum(axis=1)[:, np.newaxis])\n"
     ]
    },
    {
     "data": {
      "image/png": "[encoded data removed]",
      "text/plain": [
       "<Figure size 432x288 with 1 Axes>"
      ]
     },
     "metadata": {
      "needs_background": "light"
     },
     "output_type": "display_data"
    }
   ],
   "source": [
    "import matplotlib.pyplot as plt\n",
    "plot_learning_curves(rnd_forest_blender, pred,X_test_predictions, y_train,y_test)\n",
    "plt.show()"
   ]
  },
  {
   "cell_type": "markdown",
   "metadata": {},
   "source": [
    "From the learning curve we can see that both have reached a plateau. They are close and fairly high, which means that this is typical of an underfitting model. This could be improved by adding more features to our training set, but if only focusing on the performance of the blender algorithm, we can see that by including models with better performance, the blender improves its accuracy. However, the accuracy is still not ideal to predict future volatility levels, so we break down the y label into one contains only the magnitude, and the other contains only the trend."
   ]
  },
  {
   "cell_type": "markdown",
   "metadata": {},
   "source": [
    "### Breakdown the y label (y_train) to predict volatility level (y_train1) and direction of price change (y_train2) sepearately (df9)"
   ]
  },
  {
   "cell_type": "markdown",
   "metadata": {},
   "source": [
    "We repeat the steps we did previously, but only change the target group y. Here we only examine how the blender performs when predicting the magnitude. "
   ]
  },
  {
   "cell_type": "code",
   "execution_count": 21,
   "metadata": {},
   "outputs": [
    {
     "name": "stdout",
     "output_type": "stream",
     "text": [
      "avg 0.717494593899802\n",
      "[0.48510638 0.72707889 0.94029851]\n",
      "avg 0.7953560465151446\n",
      "[0.93404255 0.51172708 0.94029851]\n",
      "avg 0.6567844667241302\n",
      "[0.90425532 0.12366738 0.9424307 ]\n",
      "avg 0.611067761496469\n",
      "[0.22765957 0.68017058 0.92537313]\n"
     ]
    }
   ],
   "source": [
    "### predict the volatilty level (magnitude)\n",
    "\n",
    "models = [forest, extratree, ada, gbrt]\n",
    "model_names = [\"forest\",\"extratree\", \"AdaBoost\", \"GradientBoost\"]\n",
    "\n",
    "pred = np.empty((len(X_train_scaled), len(models)), dtype=np.float32)\n",
    "\n",
    "for index, model in enumerate(models):\n",
    "    pred[:,index]=cross_val_predict(model, X_train_scaled, y_train1,\n",
    "                                  cv=3, n_jobs=-1)\n",
    "    scores = cross_val_score(model, X_train_scaled, y_train1, cv=3,scoring=\"accuracy\")\n",
    "    avg=0\n",
    "    for i in range(len(scores)):\n",
    "        avg=avg+scores[i]\n",
    "    avg_score = avg/3\n",
    "    print(\"avg\",avg_score)\n",
    "    print(scores)\n"
   ]
  },
  {
   "cell_type": "markdown",
   "metadata": {},
   "source": [
    "For the four individual classifiers, the accuracy improves when only looking at the magnitude. Now we can have a look at the performance of the blender:"
   ]
  },
  {
   "cell_type": "code",
   "execution_count": 22,
   "metadata": {},
   "outputs": [
    {
     "data": {
      "text/plain": [
       "RandomForestClassifier(bootstrap=True, ccp_alpha=0.0, class_weight=None,\n",
       "                       criterion='gini', max_depth=None, max_features='auto',\n",
       "                       max_leaf_nodes=None, max_samples=None,\n",
       "                       min_impurity_decrease=0.0, min_impurity_split=None,\n",
       "                       min_samples_leaf=1, min_samples_split=2,\n",
       "                       min_weight_fraction_leaf=0.0, n_estimators=500,\n",
       "                       n_jobs=-1, oob_score=False, random_state=42, verbose=0,\n",
       "                       warm_start=False)"
      ]
     },
     "execution_count": 22,
     "metadata": {},
     "output_type": "execute_result"
    }
   ],
   "source": [
    "blender = RandomForestClassifier(n_estimators=500,\n",
    "                                 n_jobs=-1, random_state=42)\n",
    "blender.fit(pred, y_train1)"
   ]
  },
  {
   "cell_type": "code",
   "execution_count": 23,
   "metadata": {},
   "outputs": [
    {
     "data": {
      "text/plain": [
       "array([0.94042553, 0.42643923, 0.94029851])"
      ]
     },
     "execution_count": 23,
     "metadata": {},
     "output_type": "execute_result"
    }
   ],
   "source": [
    "cross_val_score(blender, pred, y_train1,\n",
    "                                  cv=3, scoring=\"accuracy\")"
   ]
  },
  {
   "cell_type": "markdown",
   "metadata": {},
   "source": [
    "The accuracy of the training set fitting seems higher than score of any of the four individual classifiers. Next, we look at the test set performance. "
   ]
  },
  {
   "cell_type": "code",
   "execution_count": 24,
   "metadata": {},
   "outputs": [],
   "source": [
    "for idx, model in enumerate(models):\n",
    "    model.fit(X_train_scaled, y_train1)"
   ]
  },
  {
   "cell_type": "code",
   "execution_count": 25,
   "metadata": {},
   "outputs": [
    {
     "name": "stdout",
     "output_type": "stream",
     "text": [
      "avg 0.7878700082089912\n",
      "[0.55932203 0.89830508 0.90598291]\n",
      "avg 0.7680959969095563\n",
      "[0.54237288 0.8559322  0.90598291]\n",
      "avg 0.7425756917282341\n",
      "[0.5        0.8559322  0.87179487]\n",
      "avg 0.7680235646337342\n",
      "[0.52542373 0.89830508 0.88034188]\n"
     ]
    }
   ],
   "source": [
    "pred_test = []\n",
    "for idx, model in enumerate(models):\n",
    "    pred_test.append(model.predict(X_test_scaled))\n",
    "    scores = cross_val_score(model, X_test_scaled, y_test1, cv=3,scoring=\"accuracy\")\n",
    "    avg=0\n",
    "    for i in range(len(scores)):\n",
    "        avg=avg+scores[i]\n",
    "    avg_score = avg/3\n",
    "    print(\"avg\",avg_score)\n",
    "    print(scores)\n",
    "pred_test = np.transpose(np.array(pred_test))"
   ]
  },
  {
   "cell_type": "markdown",
   "metadata": {},
   "source": [
    "It seems that all the models perform better in the test set than in the training set. Now we look at the performance of the blender:"
   ]
  },
  {
   "cell_type": "code",
   "execution_count": 26,
   "metadata": {},
   "outputs": [
    {
     "name": "stdout",
     "output_type": "stream",
     "text": [
      "[0.90677966 0.89830508 0.90598291] the average accuracy score from blender is:  0.9036892172485392\n"
     ]
    }
   ],
   "source": [
    "#accuracy for test set\n",
    "blender_acc=cross_val_score(blender, pred_test, y_test1, cv=3,scoring=\"accuracy\")\n",
    "avg=0\n",
    "\n",
    "for i in range(len(blender_acc)):\n",
    "    avg=avg+blender_acc[i]\n",
    "\n",
    "blender_avg = avg/3\n",
    "print(blender_acc,\"the average accuracy score from blender is: \", blender_avg)"
   ]
  },
  {
   "cell_type": "markdown",
   "metadata": {},
   "source": [
    "90% vs 74~78%. The blender outperforms! We can clearly see that the performance of the models for the test set is better than for the training set, and this trait also shows up in the learning curves. "
   ]
  },
  {
   "cell_type": "markdown",
   "metadata": {},
   "source": [
    "Now we can take a look at up and down trend. We choose the maginitude level 1 as a small sample."
   ]
  },
  {
   "cell_type": "code",
   "execution_count": 27,
   "metadata": {},
   "outputs": [],
   "source": [
    "choices3  = ['+1','-1']\n",
    "y2_for_blender = np.select(conditions2, choices3, default = np.nan)\n",
    "y_train2_blender, y_test2_blender = train_test_split(y2_for_blender[1:],test_size=0.2, random_state=42)"
   ]
  },
  {
   "cell_type": "code",
   "execution_count": 34,
   "metadata": {},
   "outputs": [
    {
     "name": "stdout",
     "output_type": "stream",
     "text": [
      "avg 0.5114110299566\n",
      "[0.44468085 0.53518124 0.554371  ]\n",
      "avg 0.5092788337945531\n",
      "[0.44468085 0.52878465 0.554371  ]\n",
      "avg 0.49435346066022473\n",
      "[0.44468085 0.49466951 0.54371002]\n",
      "avg 0.5099880536527092\n",
      "[0.44680851 0.53731343 0.54584222]\n"
     ]
    }
   ],
   "source": [
    "## predict uptrend or down trend\n",
    "pred = []\n",
    "for idx, model in enumerate(models):\n",
    "    pred.append(cross_val_predict(model, X_train_scaled, y_train2_blender,\n",
    "                                  cv=3, n_jobs=-1))\n",
    "    scores = cross_val_score(model, X_train_scaled, y_train2_blender, cv=3,scoring=\"accuracy\")\n",
    "    avg=0\n",
    "    for i in range(len(scores)):\n",
    "        avg=avg+scores[i]\n",
    "    avg_score = avg/3\n",
    "    print(\"avg\",avg_score)\n",
    "    print(scores)\n",
    "pred=np.transpose(np.array(pred))"
   ]
  },
  {
   "cell_type": "code",
   "execution_count": 35,
   "metadata": {},
   "outputs": [
    {
     "data": {
      "text/plain": [
       "RandomForestClassifier(bootstrap=True, ccp_alpha=0.0, class_weight=None,\n",
       "                       criterion='gini', max_depth=None, max_features='auto',\n",
       "                       max_leaf_nodes=None, max_samples=None,\n",
       "                       min_impurity_decrease=0.0, min_impurity_split=None,\n",
       "                       min_samples_leaf=1, min_samples_split=2,\n",
       "                       min_weight_fraction_leaf=0.0, n_estimators=500,\n",
       "                       n_jobs=-1, oob_score=False, random_state=42, verbose=0,\n",
       "                       warm_start=False)"
      ]
     },
     "execution_count": 35,
     "metadata": {},
     "output_type": "execute_result"
    }
   ],
   "source": [
    "blender = RandomForestClassifier(n_estimators=500,\n",
    "                                 n_jobs=-1, random_state=42)\n",
    "blender.fit(pred, y_train2_blender)"
   ]
  },
  {
   "cell_type": "code",
   "execution_count": 37,
   "metadata": {},
   "outputs": [
    {
     "data": {
      "text/plain": [
       "array([0.44468085, 0.53518124, 0.554371  ])"
      ]
     },
     "execution_count": 37,
     "metadata": {},
     "output_type": "execute_result"
    }
   ],
   "source": [
    "cross_val_score(blender, X_train_scaled, y_train2_blender, cv=3,scoring=\"accuracy\")"
   ]
  },
  {
   "cell_type": "markdown",
   "metadata": {},
   "source": [
    "For the up/down trend prediction, we can see that the blender also outperforms in the training set. Now we can have a look at the performance of test set:\n"
   ]
  },
  {
   "cell_type": "code",
   "execution_count": 28,
   "metadata": {},
   "outputs": [],
   "source": [
    "for idx, model in enumerate(models):\n",
    "    model.fit(X_train_scaled, y_train2_blender) #fit the 4 models"
   ]
  },
  {
   "cell_type": "code",
   "execution_count": 29,
   "metadata": {},
   "outputs": [
    {
     "name": "stdout",
     "output_type": "stream",
     "text": [
      "avg 0.5072432275822106\n",
      "[0.42372881 0.53389831 0.56410256]\n",
      "avg 0.48169877830894786\n",
      "[0.45762712 0.46610169 0.52136752]\n",
      "avg 0.4732483461297021\n",
      "[0.39830508 0.49152542 0.52991453]\n",
      "avg 0.4901009223043122\n",
      "[0.48305085 0.49152542 0.4957265 ]\n"
     ]
    }
   ],
   "source": [
    "pred_test = []\n",
    "for idx, model in enumerate(models):\n",
    "    pred_test.append(cross_val_predict(model, X_test_scaled, y_test2_blender,\n",
    "                                  cv=3, n_jobs=-1)) #predict for test set\n",
    "    scores = cross_val_score(model, X_test_scaled, y_test2_blender, cv=3,scoring=\"accuracy\")\n",
    "    avg=0\n",
    "    for i in range(len(scores)):\n",
    "        avg=avg+scores[i]\n",
    "    avg_score = avg/3\n",
    "    print(\"avg\",avg_score)\n",
    "    print(scores)\n",
    "pred_test = np.transpose(np.array(pred_test))"
   ]
  },
  {
   "cell_type": "code",
   "execution_count": 30,
   "metadata": {},
   "outputs": [
    {
     "name": "stdout",
     "output_type": "stream",
     "text": [
      "[0.42372881 0.51694915 0.5042735 ] the average accuracy score from blender is:  0.4816504901250664\n"
     ]
    }
   ],
   "source": [
    "blender_acc=cross_val_score(blender, pred_test, y_test2_blender, cv=3,scoring=\"accuracy\")\n",
    "avg=0\n",
    "\n",
    "for i in range(len(blender_acc)):\n",
    "    avg=avg+blender_acc[i]\n",
    "\n",
    "blender_avg = avg/3\n",
    "print(blender_acc,\"the average accuracy score from blender is: \", blender_avg)"
   ]
  },
  {
   "cell_type": "markdown",
   "metadata": {},
   "source": [
    "When breaking down the y label, Blender prediction has decent performance in predicting volatility level in comparsion to other algorithms. However, the preformance of predicting signs is not so significant among the algorithms we used so far. In real life, since stocks are risky and the trend is stochastic, it is difficult to predict the future based on the history. But the blender algorithm is still a good source to reply on comparing to other sources. "
   ]
  },
  {
   "cell_type": "markdown",
   "metadata": {},
   "source": [
    "# Section 4 Summary"
   ]
  },
  {
   "cell_type": "markdown",
   "metadata": {},
   "source": [
    "With an at most 53% of accuracy, we are also curious about where the error come from. Based on this question, we break down our y-label into two parts: sign (+/-) and magnitude (1/2/3), called y1 and y2. We fit the features (technical indicators from “yesterday”) to y1 and y2 separately and test the model. We find that our model is good at predicting the magnitude of next day price movement and the accuracy can be up to 95%. However, the model cannot explain and predict the direction of the movement well. If we want to use the model to predict whether the next day movement will be upward or downward, the accuracy will only be around 50%. "
   ]
  },
  {
   "cell_type": "markdown",
   "metadata": {},
   "source": [
    "Based on our break down research, we find that the errors of our original model come from the inaccuracy of explaining the movement direction. In this case, we conclude two direction for further research. First, we can find a better model to explain and predict the direction of the next day price movement. Then we will be able to predict the direction of the movement and the magnitude of the movement by combining the two models. One potential way to achieve this may be to change rolling timeline from 1-day period to 5-day period or 20-day period. Another potential way to achieve this is to find different features to fit a new model. However, based on our research, the accuracy of the models for predicting the direction of movement from other finance professions is around 60%. Therefore, it will be hard for us to improve our original model in this way. Secondly, we may focus only on the magnitude of next day price movement. There are multiple applications, such as the risk management for leveraged derivative, application of straddle options strategy, and application of butterfly spread strategy. "
   ]
  },
  {
   "cell_type": "markdown",
   "metadata": {},
   "source": [
    "* Blender \n",
    "\n",
    "By going through the df8 and df9 data set, our conclusion is that the blender algorithm outperforms in most cases. By including more robust individual models, the blender improves its accuracy. When breaking down the y label to the magnitude and the trend, we know that the factor influencing the whole accuracy is the difficulty to predict the trend. However, if only looking at the magnitude, the blender is a good source to rely on. For further more accurate predictions, we can include more related features and more robust individual classifiers in order to have a better performed blender. "
   ]
  },
  {
   "cell_type": "code",
   "execution_count": null,
   "metadata": {},
   "outputs": [],
   "source": []
  }
 ],
 "metadata": {
  "kernelspec": {
   "display_name": "Python 3",
   "language": "python",
   "name": "python3"
  },
  "language_info": {
   "codemirror_mode": {
    "name": "ipython",
    "version": 3
   },
   "file_extension": ".py",
   "mimetype": "text/x-python",
   "name": "python",
   "nbconvert_exporter": "python",
   "pygments_lexer": "ipython3",
   "version": "3.7.4"
  }
 },
 "nbformat": 4,
 "nbformat_minor": 2
}
